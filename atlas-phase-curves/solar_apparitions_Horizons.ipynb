{
 "cells": [
  {
   "cell_type": "markdown",
   "id": "3b2443b5",
   "metadata": {},
   "source": [
    "Get the actual solar elongation from JPL Horizons"
   ]
  },
  {
   "cell_type": "code",
   "execution_count": 17,
   "id": "e12c5260",
   "metadata": {},
   "outputs": [],
   "source": [
    "import numpy as np\n",
    "import pandas as pd\n",
    "import matplotlib.pyplot as plt\n",
    "import matplotlib.gridspec as gridspec\n",
    "from astropy.time import Time\n",
    "\n",
    "from astroquery.jplhorizons import Horizons"
   ]
  },
  {
   "cell_type": "code",
   "execution_count": 13,
   "id": "554b9e72",
   "metadata": {},
   "outputs": [],
   "source": [
    "mjd_jd = 2400000.5 # conversion from MJD to JD"
   ]
  },
  {
   "cell_type": "code",
   "execution_count": 30,
   "id": "29ccc2ae",
   "metadata": {},
   "outputs": [],
   "source": [
    "obj_id = 2212\n",
    "loc = \"T05\""
   ]
  },
  {
   "cell_type": "code",
   "execution_count": 31,
   "id": "dfcf801c",
   "metadata": {},
   "outputs": [],
   "source": [
    "t1=Time(57938,format=\"mjd\")\n",
    "t2=Time(59379,format=\"mjd\")"
   ]
  },
  {
   "cell_type": "code",
   "execution_count": 32,
   "id": "8420c246",
   "metadata": {},
   "outputs": [],
   "source": [
    "epoch_list = {'start':t1.iso, 'stop':t2.iso, 'step':'1d'} # a range of epochs in Horizons format is FAST!"
   ]
  },
  {
   "cell_type": "code",
   "execution_count": 33,
   "id": "b5f1eb9e",
   "metadata": {},
   "outputs": [],
   "source": [
    "obj = Horizons(id=obj_id, location=loc, epochs=epoch_list)"
   ]
  },
  {
   "cell_type": "code",
   "execution_count": 34,
   "id": "a4473b62",
   "metadata": {},
   "outputs": [],
   "source": [
    "eph = obj.ephemerides()"
   ]
  },
  {
   "cell_type": "code",
   "execution_count": 35,
   "id": "3754c3f3",
   "metadata": {},
   "outputs": [
    {
     "data": {
      "text/html": [
       "<i>Table masked=True length=1442</i>\n",
       "<table id=\"table140453499015760\" class=\"table-striped table-bordered table-condensed\">\n",
       "<thead><tr><th>targetname</th><th>datetime_str</th><th>datetime_jd</th><th>H</th><th>G</th><th>solar_presence</th><th>flags</th><th>RA</th><th>DEC</th><th>RA_app</th><th>DEC_app</th><th>RA_rate</th><th>DEC_rate</th><th>AZ</th><th>EL</th><th>AZ_rate</th><th>EL_rate</th><th>sat_X</th><th>sat_Y</th><th>sat_PANG</th><th>siderealtime</th><th>airmass</th><th>magextinct</th><th>V</th><th>surfbright</th><th>illumination</th><th>illum_defect</th><th>sat_sep</th><th>sat_vis</th><th>ang_width</th><th>PDObsLon</th><th>PDObsLat</th><th>PDSunLon</th><th>PDSunLat</th><th>SubSol_ang</th><th>SubSol_dist</th><th>NPole_ang</th><th>NPole_dist</th><th>EclLon</th><th>EclLat</th><th>r</th><th>r_rate</th><th>delta</th><th>delta_rate</th><th>lighttime</th><th>vel_sun</th><th>vel_obs</th><th>elong</th><th>elongFlag</th><th>alpha</th><th>lunar_elong</th><th>lunar_illum</th><th>sat_alpha</th><th>sunTargetPA</th><th>velocityPA</th><th>OrbPlaneAng</th><th>constellation</th><th>TDB-UT</th><th>ObsEclLon</th><th>ObsEclLat</th><th>NPole_RA</th><th>NPole_DEC</th><th>GlxLon</th><th>GlxLat</th><th>solartime</th><th>earth_lighttime</th><th>RA_3sigma</th><th>DEC_3sigma</th><th>SMAA_3sigma</th><th>SMIA_3sigma</th><th>Theta_3sigma</th><th>Area_3sigma</th><th>RSS_3sigma</th><th>r_3sigma</th><th>r_rate_3sigma</th><th>SBand_3sigma</th><th>XBand_3sigma</th><th>DoppDelay_3sigma</th><th>true_anom</th><th>hour_angle</th><th>alpha_true</th><th>PABLon</th><th>PABLat</th></tr></thead>\n",
       "<thead><tr><th>---</th><th>---</th><th>d</th><th>mag</th><th>---</th><th>---</th><th>---</th><th>deg</th><th>deg</th><th>deg</th><th>deg</th><th>arcsec / h</th><th>arcsec / h</th><th>deg</th><th>deg</th><th>arcsec / min</th><th>arcsec / min</th><th>arcsec</th><th>arcsec</th><th>deg</th><th>---</th><th>---</th><th>mag</th><th>mag</th><th>mag / arcsec2</th><th>%</th><th>arcsec</th><th>arcsec</th><th>---</th><th>arcsec</th><th>deg</th><th>deg</th><th>deg</th><th>deg</th><th>deg</th><th>arcsec</th><th>deg</th><th>arcsec</th><th>deg</th><th>deg</th><th>AU</th><th>km / s</th><th>AU</th><th>km / s</th><th>min</th><th>km / s</th><th>km / s</th><th>deg</th><th>---</th><th>deg</th><th>deg</th><th>%</th><th>deg</th><th>deg</th><th>deg</th><th>deg</th><th>---</th><th>s</th><th>deg</th><th>deg</th><th>deg</th><th>deg</th><th>deg</th><th>deg</th><th>---</th><th>min</th><th>arcsec</th><th>arcsec</th><th>arcsec</th><th>arcsec</th><th>deg</th><th>arcsec2</th><th>arcsec</th><th>km</th><th>km / s</th><th>Hz</th><th>Hz</th><th>s</th><th>deg</th><th>---</th><th>deg</th><th>deg</th><th>deg</th></tr></thead>\n",
       "<thead><tr><th>str25</th><th>str17</th><th>float64</th><th>float64</th><th>float64</th><th>str1</th><th>str1</th><th>float64</th><th>float64</th><th>float64</th><th>float64</th><th>float64</th><th>float64</th><th>float64</th><th>float64</th><th>float64</th><th>float64</th><th>float64</th><th>float64</th><th>float64</th><th>float64</th><th>float64</th><th>float64</th><th>float64</th><th>float64</th><th>float64</th><th>float64</th><th>float64</th><th>str1</th><th>float64</th><th>int64</th><th>int64</th><th>int64</th><th>int64</th><th>float64</th><th>float64</th><th>int64</th><th>int64</th><th>float64</th><th>float64</th><th>float64</th><th>float64</th><th>float64</th><th>float64</th><th>float64</th><th>float64</th><th>float64</th><th>float64</th><th>str2</th><th>float64</th><th>float64</th><th>float64</th><th>float64</th><th>float64</th><th>float64</th><th>float64</th><th>str3</th><th>float64</th><th>float64</th><th>float64</th><th>int64</th><th>int64</th><th>float64</th><th>float64</th><th>float64</th><th>float64</th><th>float64</th><th>float64</th><th>float64</th><th>float64</th><th>float64</th><th>float64</th><th>float64</th><th>float64</th><th>float64</th><th>float64</th><th>float64</th><th>float64</th><th>float64</th><th>float64</th><th>float64</th><th>float64</th><th>float64</th></tr></thead>\n",
       "<tr><td>2212 Hephaistos (1978 SB)</td><td>2017-Jul-04 00:00</td><td>2457938.5</td><td>13.33</td><td>0.15</td><td>*</td><td></td><td>49.19853</td><td>19.93157</td><td>49.44387</td><td>19.99165</td><td>30.28557</td><td>11.07219</td><td>284.845253</td><td>19.036253</td><td>231.15</td><td>-815.45</td><td>-178593.8</td><td>-10371.99</td><td>277.471</td><td>8.3959415504</td><td>3.035</td><td>0.397</td><td>19.394</td><td>5.79</td><td>98.3768</td><td>3.5e-05</td><td>179744.4</td><td>*</td><td>0.002163</td><td>--</td><td>--</td><td>--</td><td>--</td><td>76.44</td><td>0.0</td><td>--</td><td>--</td><td>37.4369</td><td>2.009</td><td>3.07864538279</td><td>10.2594772</td><td>3.63313918133575</td><td>-10.1537907</td><td>30.2158972</td><td>12.8671187</td><td>25.6944341</td><td>49.929</td><td>/L</td><td>14.6357</td><td>171.1</td><td>78.0907</td><td>115.4367</td><td>256.362</td><td>237.087</td><td>3.083</td><td>Ari</td><td>69.184007</td><td>52.3176139</td><td>1.7034647</td><td>--</td><td>--</td><td>163.58371</td><td>-31.236032</td><td>13.5101466847</td><td>0.000355</td><td>0.016</td><td>0.015</td><td>0.018</td><td>0.012</td><td>38.824</td><td>0.0013792</td><td>0.022</td><td>46.385</td><td>2.2e-06</td><td>0.04</td><td>0.14</td><td>0.000309</td><td>160.7268</td><td>5.099683322</td><td>14.6393</td><td>44.758</td><td>1.8704</td></tr>\n",
       "<tr><td>2212 Hephaistos (1978 SB)</td><td>2017-Jul-05 00:00</td><td>2457939.5</td><td>13.33</td><td>0.15</td><td>*</td><td></td><td>49.41291</td><td>20.00658</td><td>49.65855</td><td>20.0664</td><td>29.92162</td><td>10.95174</td><td>285.13065</td><td>18.360103</td><td>233.5</td><td>-814.37</td><td>-181417.14</td><td>-9777.26</td><td>277.872</td><td>8.4616516202</td><td>3.14</td><td>0.411</td><td>19.399</td><td>5.798</td><td>98.34754</td><td>3.6e-05</td><td>182404.4</td><td>*</td><td>0.002167</td><td>--</td><td>--</td><td>--</td><td>--</td><td>76.49</td><td>0.0</td><td>--</td><td>--</td><td>37.5187</td><td>2.0254</td><td>3.084558609917</td><td>10.2168115</td><td>3.6269656138904</td><td>-10.4304599</td><td>30.1645532</td><td>12.8241224</td><td>25.5125681</td><td>50.6679</td><td>/L</td><td>14.7679</td><td>171.1</td><td>85.3474</td><td>114.5657</td><td>256.409</td><td>237.103</td><td>3.10223</td><td>Ari</td><td>69.183979</td><td>52.531867</td><td>1.7236259</td><td>--</td><td>--</td><td>163.714755</td><td>-31.052533</td><td>13.5072207271</td><td>0.000355</td><td>0.016</td><td>0.015</td><td>0.018</td><td>0.012</td><td>38.797</td><td>0.0013809</td><td>0.022</td><td>46.2891</td><td>2.2e-06</td><td>0.04</td><td>0.14</td><td>0.000309</td><td>160.8101</td><td>5.151081362</td><td>14.7714</td><td>44.906</td><td>1.8891</td></tr>\n",
       "<tr><td>2212 Hephaistos (1978 SB)</td><td>2017-Jul-06 00:00</td><td>2457940.5</td><td>13.33</td><td>0.15</td><td>*</td><td></td><td>49.62475</td><td>20.0808</td><td>49.87069</td><td>20.14037</td><td>29.55343</td><td>10.83185</td><td>285.416902</td><td>17.682593</td><td>235.91</td><td>-813.26</td><td>-184256.08</td><td>-9161.62</td><td>278.272</td><td>8.5273621919</td><td>3.253</td><td>0.426</td><td>19.404</td><td>5.806</td><td>98.31854</td><td>3.6e-05</td><td>185073.7</td><td>*</td><td>0.002171</td><td>--</td><td>--</td><td>--</td><td>--</td><td>76.53</td><td>0.0</td><td>--</td><td>--</td><td>37.6001</td><td>2.0418</td><td>3.090447240966</td><td>10.1742871</td><td>3.62063247176798</td><td>-10.7043594</td><td>30.11188207</td><td>12.7813255</td><td>25.3327371</td><td>51.4094</td><td>/L</td><td>14.8977</td><td>161.5</td><td>91.3095</td><td>113.6944</td><td>256.454</td><td>237.119</td><td>3.12078</td><td>Ari</td><td>69.183951</td><td>52.7434958</td><td>1.7439134</td><td>--</td><td>--</td><td>163.84332</td><td>-30.870925</td><td>13.5043926854</td><td>0.000355</td><td>0.016</td><td>0.015</td><td>0.018</td><td>0.012</td><td>38.771</td><td>0.0013826</td><td>0.022</td><td>46.193</td><td>2.2e-06</td><td>0.04</td><td>0.14</td><td>0.000308</td><td>160.8931</td><td>5.202649379</td><td>14.9012</td><td>45.0524</td><td>1.9079</td></tr>\n",
       "<tr><td>2212 Hephaistos (1978 SB)</td><td>2017-Jul-07 00:00</td><td>2457941.5</td><td>13.33</td><td>0.15</td><td>*</td><td></td><td>49.834</td><td>20.15423</td><td>50.08025</td><td>20.21355</td><td>29.18088</td><td>10.71252</td><td>285.704124</td><td>17.003721</td><td>238.38</td><td>-812.13</td><td>-187110.71</td><td>-8525.19</td><td>278.671</td><td>8.593073171</td><td>3.375</td><td>0.442</td><td>19.409</td><td>5.815</td><td>98.28983</td><td>3.7e-05</td><td>187752.4</td><td>*</td><td>0.002175</td><td>--</td><td>--</td><td>--</td><td>--</td><td>76.58</td><td>0.0</td><td>--</td><td>--</td><td>37.6812</td><td>2.0581</td><td>3.096311357144</td><td>10.1319029</td><td>3.61414138885253</td><td>-10.9755068</td><td>30.05789737</td><td>12.7387265</td><td>25.1549994</td><td>52.1534</td><td>/L</td><td>15.0252</td><td>150.5</td><td>95.8137</td><td>112.8228</td><td>256.499</td><td>237.137</td><td>3.13866</td><td>Ari</td><td>69.183922</td><td>52.9524717</td><td>1.7643297</td><td>--</td><td>--</td><td>163.969409</td><td>-30.691236</td><td>13.5016671621</td><td>0.000355</td><td>0.016</td><td>0.015</td><td>0.018</td><td>0.012</td><td>38.744</td><td>0.0013846</td><td>0.022</td><td>46.0967</td><td>2.2e-06</td><td>0.04</td><td>0.14</td><td>0.000308</td><td>160.9758</td><td>5.254389684</td><td>15.0286</td><td>45.1974</td><td>1.9267</td></tr>\n",
       "<tr><td>2212 Hephaistos (1978 SB)</td><td>2017-Jul-08 00:00</td><td>2457942.5</td><td>13.33</td><td>0.15</td><td>*</td><td></td><td>50.04064</td><td>20.22687</td><td>50.2872</td><td>20.28596</td><td>28.80386</td><td>10.59375</td><td>285.992432</td><td>16.323483</td><td>240.91</td><td>-810.98</td><td>-189981.13</td><td>-7868.12</td><td>279.067</td><td>8.6587843836</td><td>3.507</td><td>0.459</td><td>19.413</td><td>5.823</td><td>98.26142</td><td>3.8e-05</td><td>190440.7</td><td>*</td><td>0.002179</td><td>--</td><td>--</td><td>--</td><td>--</td><td>76.62</td><td>0.0</td><td>--</td><td>--</td><td>37.762</td><td>2.0743</td><td>3.102151038928</td><td>10.0896576</td><td>3.60749399014132</td><td>-11.2439167</td><td>30.00261265</td><td>12.6963239</td><td>24.9794063</td><td>52.9002</td><td>/L</td><td>15.1503</td><td>139.2</td><td>98.7172</td><td>111.951</td><td>256.543</td><td>237.157</td><td>3.15585</td><td>Ari</td><td>69.183894</td><td>53.1587643</td><td>1.7848774</td><td>--</td><td>--</td><td>164.093024</td><td>-30.513494</td><td>13.4990485008</td><td>0.000355</td><td>0.016</td><td>0.015</td><td>0.018</td><td>0.013</td><td>38.718</td><td>0.0013867</td><td>0.022</td><td>46.0002</td><td>2.2e-06</td><td>0.04</td><td>0.14</td><td>0.000307</td><td>161.0581</td><td>5.306304629</td><td>15.1536</td><td>45.3409</td><td>1.9455</td></tr>\n",
       "<tr><td>2212 Hephaistos (1978 SB)</td><td>2017-Jul-09 00:00</td><td>2457943.5</td><td>13.33</td><td>0.15</td><td>*</td><td></td><td>50.24462</td><td>20.29873</td><td>50.49148</td><td>20.35759</td><td>28.4222</td><td>10.47553</td><td>286.28194</td><td>15.641878</td><td>243.51</td><td>-809.8</td><td>-192867.43</td><td>-7190.55</td><td>279.461</td><td>8.7244956211</td><td>3.651</td><td>0.478</td><td>19.417</td><td>5.831</td><td>98.23334</td><td>3.9e-05</td><td>193138.8</td><td>*</td><td>0.002183</td><td>--</td><td>--</td><td>--</td><td>--</td><td>76.67</td><td>0.0</td><td>--</td><td>--</td><td>37.8425</td><td>2.0905</td><td>3.107966366075</td><td>10.04755</td><td>3.60069189359087</td><td>-11.5096001</td><td>29.94604133</td><td>12.654116</td><td>24.8060008</td><td>53.6497</td><td>/L</td><td>15.2729</td><td>127.7</td><td>99.9036</td><td>111.0788</td><td>256.586</td><td>237.179</td><td>3.17236</td><td>Ari</td><td>69.183865</td><td>53.3623415</td><td>1.8055594</td><td>--</td><td>--</td><td>164.214168</td><td>-30.337728</td><td>13.4965408173</td><td>0.000355</td><td>0.016</td><td>0.015</td><td>0.018</td><td>0.013</td><td>38.691</td><td>0.0013889</td><td>0.022</td><td>45.9035</td><td>2.2e-06</td><td>0.04</td><td>0.14</td><td>0.000306</td><td>161.1402</td><td>5.358396639</td><td>15.2762</td><td>45.4829</td><td>1.9644</td></tr>\n",
       "<tr><td>2212 Hephaistos (1978 SB)</td><td>2017-Jul-10 00:00</td><td>2457944.5</td><td>13.33</td><td>0.15</td><td>*</td><td></td><td>50.44591</td><td>20.36982</td><td>50.69308</td><td>20.42844</td><td>28.03576</td><td>10.35784</td><td>286.572764</td><td>14.958903</td><td>246.17</td><td>-808.6</td><td>-195769.71</td><td>-6492.65</td><td>279.853</td><td>8.7902066666</td><td>3.808</td><td>0.498</td><td>19.421</td><td>5.839</td><td>98.20561</td><td>3.9e-05</td><td>195846.9</td><td>*</td><td>0.002187</td><td>--</td><td>--</td><td>--</td><td>--</td><td>76.71</td><td>0.0</td><td>--</td><td>--</td><td>37.9227</td><td>2.1066</td><td>3.113757417626</td><td>10.0055787</td><td>3.59373671291164</td><td>-11.7725619</td><td>29.88819686</td><td>12.6121014</td><td>24.6348156</td><td>54.4019</td><td>/L</td><td>15.3931</td><td>116.1</td><td>99.2917</td><td>110.2064</td><td>256.628</td><td>237.201</td><td>3.18817</td><td>Ari</td><td>69.183837</td><td>53.56317</td><td>1.8263784</td><td>--</td><td>--</td><td>164.332841</td><td>-30.163968</td><td>13.4941480065</td><td>0.000355</td><td>0.016</td><td>0.015</td><td>0.018</td><td>0.013</td><td>38.664</td><td>0.0013912</td><td>0.022</td><td>45.8065</td><td>2.2e-06</td><td>0.04</td><td>0.14</td><td>0.000306</td><td>161.2219</td><td>5.410668213</td><td>15.3964</td><td>45.6234</td><td>1.9833</td></tr>\n",
       "<tr><td>2212 Hephaistos (1978 SB)</td><td>2017-Jul-11 00:00</td><td>2457945.5</td><td>13.33</td><td>0.15</td><td>*</td><td></td><td>50.64447</td><td>20.44013</td><td>50.89193</td><td>20.49853</td><td>27.64433</td><td>10.24065</td><td>286.865021</td><td>14.274554</td><td>248.9</td><td>-807.37</td><td>-198688.03</td><td>-5774.57</td><td>280.242</td><td>8.8559172978</td><td>3.979</td><td>0.521</td><td>19.425</td><td>5.846</td><td>98.17825</td><td>4e-05</td><td>198565.1</td><td>*</td><td>0.002191</td><td>--</td><td>--</td><td>--</td><td>--</td><td>76.75</td><td>0.0</td><td>--</td><td>--</td><td>38.0026</td><td>2.1227</td><td>3.119524271919</td><td>9.9637427</td><td>3.58663006196225</td><td>-12.0327976</td><td>29.82909265</td><td>12.5702785</td><td>24.465871</td><td>55.157</td><td>/L</td><td>15.5109</td><td>104.3</td><td>96.844</td><td>109.3336</td><td>256.67</td><td>237.226</td><td>3.20328</td><td>Ari</td><td>69.183809</td><td>53.7612156</td><td>1.8473374</td><td>--</td><td>--</td><td>164.449042</td><td>-29.992243</td><td>13.4918737252</td><td>0.000355</td><td>0.016</td><td>0.015</td><td>0.018</td><td>0.013</td><td>38.637</td><td>0.0013937</td><td>0.022</td><td>45.7093</td><td>2.2e-06</td><td>0.04</td><td>0.14</td><td>0.000305</td><td>161.3034</td><td>5.463121907</td><td>15.514</td><td>45.7623</td><td>2.0023</td></tr>\n",
       "<tr><td>2212 Hephaistos (1978 SB)</td><td>2017-Jul-12 00:00</td><td>2457946.5</td><td>13.33</td><td>0.15</td><td>*</td><td></td><td>50.84026</td><td>20.50966</td><td>51.088</td><td>20.56784</td><td>27.2477</td><td>10.12394</td><td>287.158828</td><td>13.588829</td><td>251.69</td><td>-806.11</td><td>-201622.49</td><td>-5036.49</td><td>280.63</td><td>8.9216273614</td><td>4.168</td><td>0.546</td><td>19.429</td><td>5.854</td><td>98.15127</td><td>4.1e-05</td><td>201293.7</td><td>*</td><td>0.002196</td><td>--</td><td>--</td><td>--</td><td>--</td><td>76.79</td><td>0.0</td><td>--</td><td>--</td><td>38.0822</td><td>2.1387</td><td>3.125267006594</td><td>9.9220406</td><td>3.57937356115863</td><td>-12.2902899</td><td>29.76874217</td><td>12.528646</td><td>24.2991734</td><td>55.9149</td><td>/L</td><td>15.6261</td><td>92.4</td><td>92.5748</td><td>108.4604</td><td>256.71</td><td>237.252</td><td>3.21767</td><td>Ari</td><td>69.183781</td><td>53.9564436</td><td>1.8684395</td><td>--</td><td>--</td><td>164.562769</td><td>-29.822586</td><td>13.4897214476</td><td>0.000355</td><td>0.016</td><td>0.015</td><td>0.018</td><td>0.013</td><td>38.61</td><td>0.0013963</td><td>0.022</td><td>45.6119</td><td>2.1e-06</td><td>0.04</td><td>0.14</td><td>0.000304</td><td>161.3845</td><td>5.515760372</td><td>15.6292</td><td>45.8997</td><td>2.0213</td></tr>\n",
       "<tr><td>...</td><td>...</td><td>...</td><td>...</td><td>...</td><td>...</td><td>...</td><td>...</td><td>...</td><td>...</td><td>...</td><td>...</td><td>...</td><td>...</td><td>...</td><td>...</td><td>...</td><td>...</td><td>...</td><td>...</td><td>...</td><td>...</td><td>...</td><td>...</td><td>...</td><td>...</td><td>...</td><td>...</td><td>...</td><td>...</td><td>...</td><td>...</td><td>...</td><td>...</td><td>...</td><td>...</td><td>...</td><td>...</td><td>...</td><td>...</td><td>...</td><td>...</td><td>...</td><td>...</td><td>...</td><td>...</td><td>...</td><td>...</td><td>...</td><td>...</td><td>...</td><td>...</td><td>...</td><td>...</td><td>...</td><td>...</td><td>...</td><td>...</td><td>...</td><td>...</td><td>...</td><td>...</td><td>...</td><td>...</td><td>...</td><td>...</td><td>...</td><td>...</td><td>...</td><td>...</td><td>...</td><td>...</td><td>...</td><td>...</td><td>...</td><td>...</td><td>...</td><td>...</td><td>...</td><td>...</td><td>...</td><td>...</td><td>...</td></tr>\n",
       "<tr><td>2212 Hephaistos (1978 SB)</td><td>2021-Jun-05 00:00</td><td>2459370.5</td><td>13.33</td><td>0.15</td><td>*</td><td>m</td><td>54.71454</td><td>23.76312</td><td>55.02128</td><td>23.82999</td><td>32.87106</td><td>9.403441</td><td>282.701419</td><td>50.815851</td><td>57.87</td><td>-822.95</td><td>-60616.64</td><td>4627.664</td><td>277.964</td><td>6.4921334378</td><td>1.289</td><td>0.169</td><td>20.146</td><td>5.905</td><td>99.86176</td><td>2.2e-06</td><td>60466.15</td><td>*</td><td>0.001602</td><td>--</td><td>--</td><td>--</td><td>--</td><td>90.75</td><td>0.0</td><td>--</td><td>--</td><td>53.8381</td><td>5.175</td><td>3.946399374883</td><td>1.4225384</td><td>4.90678494214999</td><td>-5.8757822</td><td>40.80848599</td><td>6.2251806</td><td>34.3053607</td><td>16.7962</td><td>/L</td><td>4.2564</td><td>44.8</td><td>25.3741</td><td>158.9485</td><td>270.632</td><td>246.21</td><td>1.7083</td><td>Tau</td><td>69.184823</td><td>58.2788045</td><td>4.1619498</td><td>--</td><td>--</td><td>165.299309</td><td>-25.025507</td><td>13.6086385795</td><td>0.000355</td><td>0.009</td><td>0.008</td><td>0.01</td><td>0.00649</td><td>31.359</td><td>0.0004204</td><td>0.012</td><td>18.8807</td><td>1.6e-06</td><td>0.03</td><td>0.11</td><td>0.000126</td><td>177.3753</td><td>2.824048329</td><td>4.2616</td><td>55.9148</td><td>4.6702</td></tr>\n",
       "<tr><td>2212 Hephaistos (1978 SB)</td><td>2021-Jun-06 00:00</td><td>2459371.5</td><td>13.33</td><td>0.15</td><td>*</td><td>m</td><td>54.956</td><td>23.82687</td><td>55.26303</td><td>23.89334</td><td>32.79583</td><td>9.360833</td><td>282.877041</td><td>50.141817</td><td>60.22</td><td>-822.38</td><td>-63190.56</td><td>4472.476</td><td>277.817</td><td>6.5578423629</td><td>1.301</td><td>0.17</td><td>20.154</td><td>5.915</td><td>99.85025</td><td>2.4e-06</td><td>63012.46</td><td>*</td><td>0.001603</td><td>--</td><td>--</td><td>--</td><td>--</td><td>90.25</td><td>0.0</td><td>--</td><td>--</td><td>53.8883</td><td>5.1841</td><td>3.947213027967</td><td>1.3950144</td><td>4.90312893593754</td><td>-6.2456805</td><td>40.77807991</td><td>6.2177403</td><td>34.2642907</td><td>17.5035</td><td>/L</td><td>4.4304</td><td>33.1</td><td>17.4925</td><td>158.0672</td><td>270.14</td><td>246.308</td><td>1.73685</td><td>Tau</td><td>69.184798</td><td>58.5091266</td><td>4.1732457</td><td>--</td><td>--</td><td>165.436998</td><td>-24.832389</td><td>13.6056411686</td><td>0.000355</td><td>0.009</td><td>0.008</td><td>0.01</td><td>0.00648</td><td>31.28</td><td>0.000419</td><td>0.012</td><td>18.9245</td><td>1.6e-06</td><td>0.03</td><td>0.11</td><td>0.000126</td><td>177.4261</td><td>2.873640071</td><td>4.4355</td><td>56.0551</td><td>4.6807</td></tr>\n",
       "<tr><td>2212 Hephaistos (1978 SB)</td><td>2021-Jun-07 00:00</td><td>2459372.5</td><td>13.33</td><td>0.15</td><td>*</td><td>m</td><td>55.19699</td><td>23.89034</td><td>55.50433</td><td>23.95642</td><td>32.71706</td><td>9.317795</td><td>283.05283</td><td>49.467996</td><td>62.59</td><td>-821.8</td><td>-65769.36</td><td>4340.125</td><td>277.715</td><td>6.6235518111</td><td>1.314</td><td>0.172</td><td>20.162</td><td>5.924</td><td>99.83829</td><td>2.6e-06</td><td>65565.71</td><td>*</td><td>0.001604</td><td>--</td><td>--</td><td>--</td><td>--</td><td>89.8</td><td>0.0</td><td>--</td><td>--</td><td>53.9384</td><td>5.1932</td><td>3.948010788228</td><td>1.3675006</td><td>4.89925744963866</td><td>-6.6146891</td><td>40.74588174</td><td>6.21044</td><td>34.2226034</td><td>18.2127</td><td>/L</td><td>4.6042</td><td>21.7</td><td>10.8458</td><td>157.1842</td><td>269.691</td><td>246.406</td><td>1.76502</td><td>Tau</td><td>69.184774</td><td>58.7388582</td><td>4.184724</td><td>--</td><td>--</td><td>165.573649</td><td>-24.63949</td><td>13.6025546455</td><td>0.000355</td><td>0.009</td><td>0.008</td><td>0.01</td><td>0.00647</td><td>31.2</td><td>0.0004177</td><td>0.012</td><td>18.9684</td><td>1.6e-06</td><td>0.03</td><td>0.11</td><td>0.000127</td><td>177.4769</td><td>2.923262966</td><td>4.6093</td><td>56.1951</td><td>4.6913</td></tr>\n",
       "<tr><td>2212 Hephaistos (1978 SB)</td><td>2021-Jun-08 00:00</td><td>2459373.5</td><td>13.33</td><td>0.15</td><td>*</td><td>m</td><td>55.43748</td><td>23.95355</td><td>55.74515</td><td>24.01922</td><td>32.63468</td><td>9.274333</td><td>283.228847</td><td>48.794371</td><td>64.99</td><td>-821.21</td><td>-68353.24</td><td>4230.742</td><td>277.653</td><td>6.6892619239</td><td>1.328</td><td>0.174</td><td>20.17</td><td>5.934</td><td>99.8259</td><td>2.8e-06</td><td>68125.37</td><td>*</td><td>0.001605</td><td>--</td><td>--</td><td>--</td><td>--</td><td>89.39</td><td>0.0</td><td>--</td><td>--</td><td>53.9886</td><td>5.2023</td><td>3.948792661426</td><td>1.3399967</td><td>4.8951710611324</td><td>-6.9826799</td><td>40.71189629</td><td>6.2032797</td><td>34.1802657</td><td>18.9237</td><td>/L</td><td>4.7777</td><td>10.7</td><td>5.6371</td><td>156.2997</td><td>269.281</td><td>246.504</td><td>1.7928</td><td>Tau</td><td>69.184748</td><td>58.9679773</td><td>4.1963859</td><td>--</td><td>--</td><td>165.709254</td><td>-24.446833</td><td>13.5993852104</td><td>0.000355</td><td>0.009</td><td>0.008</td><td>0.01</td><td>0.00646</td><td>31.12</td><td>0.0004165</td><td>0.012</td><td>19.0127</td><td>1.6e-06</td><td>0.03</td><td>0.11</td><td>0.000127</td><td>177.5277</td><td>2.972918827</td><td>4.7828</td><td>56.3347</td><td>4.702</td></tr>\n",
       "<tr><td>2212 Hephaistos (1978 SB)</td><td>2021-Jun-09 00:00</td><td>2459374.5</td><td>13.33</td><td>0.15</td><td>*</td><td>m</td><td>55.67745</td><td>24.01647</td><td>55.98545</td><td>24.08175</td><td>32.54866</td><td>9.230454</td><td>283.405147</td><td>48.120926</td><td>67.42</td><td>-820.61</td><td>-70942.38</td><td>4144.45</td><td>277.628</td><td>6.7549727538</td><td>1.341</td><td>0.176</td><td>20.178</td><td>5.944</td><td>99.81307</td><td>3e-06</td><td>70690.96</td><td>*</td><td>0.001607</td><td>--</td><td>--</td><td>--</td><td>--</td><td>89.02</td><td>0.0</td><td>--</td><td>--</td><td>54.0387</td><td>5.2114</td><td>3.949558653206</td><td>1.3125026</td><td>4.89087042334372</td><td>-7.349522</td><td>40.67612897</td><td>6.1962598</td><td>34.1372514</td><td>19.6364</td><td>/L</td><td>4.9509</td><td>5.677</td><td>2.0461</td><td>155.4138</td><td>268.905</td><td>246.603</td><td>1.8202</td><td>Tau</td><td>69.184723</td><td>59.19646</td><td>4.2082323</td><td>--</td><td>--</td><td>165.843805</td><td>-24.254442</td><td>13.5961393204</td><td>0.000355</td><td>0.009</td><td>0.008</td><td>0.01</td><td>0.00646</td><td>31.04</td><td>0.0004153</td><td>0.012</td><td>19.0571</td><td>1.6e-06</td><td>0.03</td><td>0.11</td><td>0.000127</td><td>177.5784</td><td>3.022609522</td><td>4.956</td><td>56.4741</td><td>4.7128</td></tr>\n",
       "<tr><td>2212 Hephaistos (1978 SB)</td><td>2021-Jun-10 00:00</td><td>2459375.5</td><td>13.33</td><td>0.15</td><td>*</td><td>m</td><td>55.91687</td><td>24.07912</td><td>56.22521</td><td>24.14401</td><td>32.45897</td><td>9.18617</td><td>283.581787</td><td>47.447642</td><td>69.88</td><td>-820.0</td><td>-73536.94</td><td>4081.362</td><td>277.636</td><td>6.8206842421</td><td>1.356</td><td>0.177</td><td>20.185</td><td>5.953</td><td>99.79981</td><td>3.2e-06</td><td>73262.12</td><td>*</td><td>0.001608</td><td>--</td><td>--</td><td>--</td><td>--</td><td>88.67</td><td>0.0</td><td>--</td><td>--</td><td>54.0888</td><td>5.2205</td><td>3.950308769092</td><td>1.285018</td><td>4.88635626613319</td><td>-7.715081</td><td>40.63858587</td><td>6.1893806</td><td>34.0935425</td><td>20.3506</td><td>/L</td><td>5.1237</td><td>15.0</td><td>0.2214</td><td>154.5268</td><td>268.56</td><td>246.703</td><td>1.8472</td><td>Tau</td><td>69.184698</td><td>59.4242807</td><td>4.2202645</td><td>--</td><td>--</td><td>165.977294</td><td>-24.062339</td><td>13.5928236501</td><td>0.000355</td><td>0.009</td><td>0.008</td><td>0.01</td><td>0.00645</td><td>30.959</td><td>0.0004141</td><td>0.012</td><td>19.1018</td><td>1.6e-06</td><td>0.03</td><td>0.11</td><td>0.000127</td><td>177.6292</td><td>3.072336938</td><td>5.1288</td><td>56.613</td><td>4.7236</td></tr>\n",
       "<tr><td>2212 Hephaistos (1978 SB)</td><td>2021-Jun-11 00:00</td><td>2459376.5</td><td>13.33</td><td>0.15</td><td>*</td><td>m</td><td>56.15571</td><td>24.14149</td><td>56.4644</td><td>24.20599</td><td>32.36559</td><td>9.141497</td><td>283.758818</td><td>46.774503</td><td>72.36</td><td>-819.39</td><td>-76137.12</td><td>4041.58</td><td>277.673</td><td>6.8863962385</td><td>1.371</td><td>0.179</td><td>20.192</td><td>5.962</td><td>99.78614</td><td>3.4e-06</td><td>75838.51</td><td>*</td><td>0.00161</td><td>--</td><td>--</td><td>--</td><td>--</td><td>88.35</td><td>0.0</td><td>--</td><td>--</td><td>54.1389</td><td>5.2296</td><td>3.951043014491</td><td>1.2575427</td><td>4.88162939811432</td><td>-8.0792197</td><td>40.59927371</td><td>6.1826422</td><td>34.0491305</td><td>21.0663</td><td>/L</td><td>5.2961</td><td>26.5</td><td>0.2702</td><td>153.6387</td><td>268.243</td><td>246.802</td><td>1.87381</td><td>Tau</td><td>69.184672</td><td>59.6514118</td><td>4.2324833</td><td>--</td><td>--</td><td>166.109715</td><td>-23.870547</td><td>13.5894450803</td><td>0.000355</td><td>0.009</td><td>0.008</td><td>0.01</td><td>0.00644</td><td>30.878</td><td>0.000413</td><td>0.012</td><td>19.1467</td><td>1.6e-06</td><td>0.03</td><td>0.11</td><td>0.000128</td><td>177.6799</td><td>3.122102992</td><td>5.3012</td><td>56.7517</td><td>4.7346</td></tr>\n",
       "<tr><td>2212 Hephaistos (1978 SB)</td><td>2021-Jun-12 00:00</td><td>2459377.5</td><td>13.33</td><td>0.15</td><td>*</td><td>m</td><td>56.39394</td><td>24.20356</td><td>56.70298</td><td>24.26768</td><td>32.26852</td><td>9.096456</td><td>283.936292</td><td>46.101491</td><td>74.87</td><td>-818.76</td><td>-78743.07</td><td>4025.196</td><td>277.737</td><td>6.9521084967</td><td>1.386</td><td>0.181</td><td>20.199</td><td>5.971</td><td>99.77206</td><td>3.7e-06</td><td>78419.87</td><td>*</td><td>0.001612</td><td>--</td><td>--</td><td>--</td><td>--</td><td>88.06</td><td>0.0</td><td>--</td><td>--</td><td>54.189</td><td>5.2386</td><td>3.951761394693</td><td>1.2300766</td><td>4.87669070781387</td><td>-8.4417998</td><td>40.55819987</td><td>6.176045</td><td>34.004018</td><td>21.7833</td><td>/L</td><td>5.468</td><td>38.4</td><td>2.2463</td><td>152.7498</td><td>267.95</td><td>246.902</td><td>1.90001</td><td>Tau</td><td>69.184647</td><td>59.8778248</td><td>4.24489</td><td>--</td><td>--</td><td>166.241059</td><td>-23.679089</td><td>13.5860106453</td><td>0.000355</td><td>0.009</td><td>0.008</td><td>0.01</td><td>0.00644</td><td>30.796</td><td>0.0004119</td><td>0.012</td><td>19.1917</td><td>1.6e-06</td><td>0.03</td><td>0.11</td><td>0.000128</td><td>177.7306</td><td>3.1719096</td><td>5.4731</td><td>56.8899</td><td>4.7457</td></tr>\n",
       "<tr><td>2212 Hephaistos (1978 SB)</td><td>2021-Jun-13 00:00</td><td>2459378.5</td><td>13.33</td><td>0.15</td><td>*</td><td>m</td><td>56.63154</td><td>24.26536</td><td>56.94093</td><td>24.3291</td><td>32.16775</td><td>9.051072</td><td>284.114257</td><td>45.428589</td><td>77.4</td><td>-818.13</td><td>-81354.98</td><td>4032.292</td><td>277.826</td><td>7.0178207243</td><td>1.402</td><td>0.184</td><td>20.206</td><td>5.98</td><td>99.75757</td><td>3.9e-06</td><td>81005.96</td><td>*</td><td>0.001613</td><td>--</td><td>--</td><td>--</td><td>--</td><td>87.79</td><td>0.0</td><td>--</td><td>--</td><td>54.2391</td><td>5.2477</td><td>3.952463914868</td><td>1.2026194</td><td>4.87154116366704</td><td>-8.8026844</td><td>40.51537242</td><td>6.1695891</td><td>33.9582209</td><td>22.5017</td><td>/L</td><td>5.6394</td><td>50.4</td><td>6.141</td><td>151.86</td><td>267.68</td><td>247.002</td><td>1.9258</td><td>Tau</td><td>69.184621</td><td>60.1034901</td><td>4.2574853</td><td>--</td><td>--</td><td>166.37132</td><td>-23.48799</td><td>13.5825275134</td><td>0.000355</td><td>0.009</td><td>0.008</td><td>0.01</td><td>0.00643</td><td>30.715</td><td>0.0004108</td><td>0.012</td><td>19.2369</td><td>1.6e-06</td><td>0.03</td><td>0.11</td><td>0.000128</td><td>177.7812</td><td>3.221758676</td><td>5.6444</td><td>57.0278</td><td>4.7569</td></tr>\n",
       "<tr><td>2212 Hephaistos (1978 SB)</td><td>2021-Jun-14 00:00</td><td>2459379.5</td><td>13.33</td><td>0.15</td><td>*</td><td>m</td><td>56.86847</td><td>24.32686</td><td>57.17821</td><td>24.39022</td><td>32.06334</td><td>9.005377</td><td>284.29276</td><td>44.755779</td><td>79.97</td><td>-817.49</td><td>-83973.0</td><td>4062.937</td><td>277.936</td><td>7.0835326208</td><td>1.418</td><td>0.186</td><td>20.213</td><td>5.988</td><td>99.74269</td><td>4.2e-06</td><td>83596.59</td><td>*</td><td>0.001615</td><td>--</td><td>--</td><td>--</td><td>--</td><td>87.54</td><td>0.0</td><td>--</td><td>--</td><td>54.2891</td><td>5.2568</td><td>3.953150580071</td><td>1.1751709</td><td>4.86618181251052</td><td>-9.1617403</td><td>40.47080006</td><td>6.1632749</td><td>33.9117694</td><td>23.2213</td><td>/L</td><td>5.8102</td><td>62.7</td><td>11.8772</td><td>150.9696</td><td>267.431</td><td>247.103</td><td>1.95118</td><td>Tau</td><td>69.184594</td><td>60.3283783</td><td>4.2702705</td><td>--</td><td>--</td><td>166.500489</td><td>-23.297271</td><td>13.5790029403</td><td>0.000355</td><td>0.009</td><td>0.008</td><td>0.01</td><td>0.00642</td><td>30.632</td><td>0.0004098</td><td>0.012</td><td>19.2823</td><td>1.6e-06</td><td>0.03</td><td>0.1</td><td>0.000129</td><td>177.8319</td><td>3.271652121</td><td>5.8152</td><td>57.1653</td><td>4.7682</td></tr>\n",
       "</table>"
      ],
      "text/plain": [
       "<Table masked=True length=1442>\n",
       "        targetname           datetime_str   datetime_jd ...  PABLon  PABLat\n",
       "           ---                   ---             d      ...   deg     deg  \n",
       "          str25                 str17         float64   ... float64 float64\n",
       "------------------------- ----------------- ----------- ... ------- -------\n",
       "2212 Hephaistos (1978 SB) 2017-Jul-04 00:00   2457938.5 ...  44.758  1.8704\n",
       "2212 Hephaistos (1978 SB) 2017-Jul-05 00:00   2457939.5 ...  44.906  1.8891\n",
       "2212 Hephaistos (1978 SB) 2017-Jul-06 00:00   2457940.5 ... 45.0524  1.9079\n",
       "2212 Hephaistos (1978 SB) 2017-Jul-07 00:00   2457941.5 ... 45.1974  1.9267\n",
       "2212 Hephaistos (1978 SB) 2017-Jul-08 00:00   2457942.5 ... 45.3409  1.9455\n",
       "2212 Hephaistos (1978 SB) 2017-Jul-09 00:00   2457943.5 ... 45.4829  1.9644\n",
       "2212 Hephaistos (1978 SB) 2017-Jul-10 00:00   2457944.5 ... 45.6234  1.9833\n",
       "2212 Hephaistos (1978 SB) 2017-Jul-11 00:00   2457945.5 ... 45.7623  2.0023\n",
       "2212 Hephaistos (1978 SB) 2017-Jul-12 00:00   2457946.5 ... 45.8997  2.0213\n",
       "                      ...               ...         ... ...     ...     ...\n",
       "2212 Hephaistos (1978 SB) 2021-Jun-05 00:00   2459370.5 ... 55.9148  4.6702\n",
       "2212 Hephaistos (1978 SB) 2021-Jun-06 00:00   2459371.5 ... 56.0551  4.6807\n",
       "2212 Hephaistos (1978 SB) 2021-Jun-07 00:00   2459372.5 ... 56.1951  4.6913\n",
       "2212 Hephaistos (1978 SB) 2021-Jun-08 00:00   2459373.5 ... 56.3347   4.702\n",
       "2212 Hephaistos (1978 SB) 2021-Jun-09 00:00   2459374.5 ... 56.4741  4.7128\n",
       "2212 Hephaistos (1978 SB) 2021-Jun-10 00:00   2459375.5 ...  56.613  4.7236\n",
       "2212 Hephaistos (1978 SB) 2021-Jun-11 00:00   2459376.5 ... 56.7517  4.7346\n",
       "2212 Hephaistos (1978 SB) 2021-Jun-12 00:00   2459377.5 ... 56.8899  4.7457\n",
       "2212 Hephaistos (1978 SB) 2021-Jun-13 00:00   2459378.5 ... 57.0278  4.7569\n",
       "2212 Hephaistos (1978 SB) 2021-Jun-14 00:00   2459379.5 ... 57.1653  4.7682"
      ]
     },
     "execution_count": 35,
     "metadata": {},
     "output_type": "execute_result"
    }
   ],
   "source": [
    "eph"
   ]
  },
  {
   "cell_type": "code",
   "execution_count": 36,
   "id": "3e5617ef",
   "metadata": {},
   "outputs": [],
   "source": [
    "df_eph = eph.to_pandas()"
   ]
  },
  {
   "cell_type": "code",
   "execution_count": 37,
   "id": "dbbd7120",
   "metadata": {},
   "outputs": [
    {
     "data": {
      "text/plain": [
       "['targetname',\n",
       " 'datetime_str',\n",
       " 'datetime_jd',\n",
       " 'H',\n",
       " 'G',\n",
       " 'solar_presence',\n",
       " 'flags',\n",
       " 'RA',\n",
       " 'DEC',\n",
       " 'RA_app',\n",
       " 'DEC_app',\n",
       " 'RA_rate',\n",
       " 'DEC_rate',\n",
       " 'AZ',\n",
       " 'EL',\n",
       " 'AZ_rate',\n",
       " 'EL_rate',\n",
       " 'sat_X',\n",
       " 'sat_Y',\n",
       " 'sat_PANG',\n",
       " 'siderealtime',\n",
       " 'airmass',\n",
       " 'magextinct',\n",
       " 'V',\n",
       " 'surfbright',\n",
       " 'illumination',\n",
       " 'illum_defect',\n",
       " 'sat_sep',\n",
       " 'sat_vis',\n",
       " 'ang_width',\n",
       " 'PDObsLon',\n",
       " 'PDObsLat',\n",
       " 'PDSunLon',\n",
       " 'PDSunLat',\n",
       " 'SubSol_ang',\n",
       " 'SubSol_dist',\n",
       " 'NPole_ang',\n",
       " 'NPole_dist',\n",
       " 'EclLon',\n",
       " 'EclLat',\n",
       " 'r',\n",
       " 'r_rate',\n",
       " 'delta',\n",
       " 'delta_rate',\n",
       " 'lighttime',\n",
       " 'vel_sun',\n",
       " 'vel_obs',\n",
       " 'elong',\n",
       " 'elongFlag',\n",
       " 'alpha',\n",
       " 'lunar_elong',\n",
       " 'lunar_illum',\n",
       " 'sat_alpha',\n",
       " 'sunTargetPA',\n",
       " 'velocityPA',\n",
       " 'OrbPlaneAng',\n",
       " 'constellation',\n",
       " 'TDB-UT',\n",
       " 'ObsEclLon',\n",
       " 'ObsEclLat',\n",
       " 'NPole_RA',\n",
       " 'NPole_DEC',\n",
       " 'GlxLon',\n",
       " 'GlxLat',\n",
       " 'solartime',\n",
       " 'earth_lighttime',\n",
       " 'RA_3sigma',\n",
       " 'DEC_3sigma',\n",
       " 'SMAA_3sigma',\n",
       " 'SMIA_3sigma',\n",
       " 'Theta_3sigma',\n",
       " 'Area_3sigma',\n",
       " 'RSS_3sigma',\n",
       " 'r_3sigma',\n",
       " 'r_rate_3sigma',\n",
       " 'SBand_3sigma',\n",
       " 'XBand_3sigma',\n",
       " 'DoppDelay_3sigma',\n",
       " 'true_anom',\n",
       " 'hour_angle',\n",
       " 'alpha_true',\n",
       " 'PABLon',\n",
       " 'PABLat']"
      ]
     },
     "execution_count": 37,
     "metadata": {},
     "output_type": "execute_result"
    }
   ],
   "source": [
    "list(df_eph)"
   ]
  },
  {
   "cell_type": "code",
   "execution_count": 38,
   "id": "b7795684",
   "metadata": {},
   "outputs": [],
   "source": [
    "df_eph[\"mjd\"] = df_eph[\"datetime_jd\"] - mjd_jd"
   ]
  },
  {
   "cell_type": "code",
   "execution_count": 39,
   "id": "353d27e7",
   "metadata": {},
   "outputs": [
    {
     "data": {
      "text/plain": [
       "<matplotlib.collections.PathCollection at 0x7fbde018cd50>"
      ]
     },
     "execution_count": 39,
     "metadata": {},
     "output_type": "execute_result"
    },
    {
     "data": {
      "image/png": "[encoded data removed]",
      "text/plain": [
       "<Figure size 432x288 with 1 Axes>"
      ]
     },
     "metadata": {
      "needs_background": "light"
     },
     "output_type": "display_data"
    }
   ],
   "source": [
    "plt.scatter(df_eph[\"mjd\"],df_eph[\"elong\"])"
   ]
  },
  {
   "cell_type": "code",
   "execution_count": null,
   "id": "857ec1b8",
   "metadata": {},
   "outputs": [],
   "source": []
  }
 ],
 "metadata": {
  "kernelspec": {
   "display_name": "Python 3",
   "language": "python",
   "name": "python3"
  },
  "language_info": {
   "codemirror_mode": {
    "name": "ipython",
    "version": 3
   },
   "file_extension": ".py",
   "mimetype": "text/x-python",
   "name": "python",
   "nbconvert_exporter": "python",
   "pygments_lexer": "ipython3",
   "version": "3.7.10"
  }
 },
 "nbformat": 4,
 "nbformat_minor": 5
}
