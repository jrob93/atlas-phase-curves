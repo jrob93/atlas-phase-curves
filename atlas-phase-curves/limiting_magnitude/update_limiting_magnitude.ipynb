{
 "cells": [
  {
   "cell_type": "code",
   "execution_count": null,
   "id": "da54a9fa",
   "metadata": {},
   "outputs": [],
   "source": [
    "%matplotlib notebook"
   ]
  },
  {
   "cell_type": "code",
   "execution_count": null,
   "id": "71bbaf32",
   "metadata": {},
   "outputs": [],
   "source": [
    "%matplotlib inline"
   ]
  },
  {
   "cell_type": "code",
   "execution_count": null,
   "id": "1124eaef",
   "metadata": {},
   "outputs": [],
   "source": [
    "import pandas as pd\n",
    "import numpy as np\n",
    "import matplotlib.pyplot as plt\n",
    "import matplotlib.gridspec as gridspec\n",
    "import os\n",
    "import sys\n",
    "import importlib\n",
    "from IPython.display import clear_output\n",
    "from astropy.time import Time"
   ]
  },
  {
   "cell_type": "code",
   "execution_count": null,
   "id": "c6aefef9",
   "metadata": {},
   "outputs": [],
   "source": [
    "sys.path.append(\"/Users/jrobinson/atlas-phase-curves/atlas-phase-curves\")\n",
    "from calculate_phase import atlas_SQL_query_df\n",
    "from calculate_phase import atlas_database_connection as adb\n",
    "from calculate_phase import solar_apparitions as sa"
   ]
  },
  {
   "cell_type": "code",
   "execution_count": null,
   "id": "a72a0836",
   "metadata": {},
   "outputs": [],
   "source": [
    "importlib.reload(atlas_SQL_query_df)"
   ]
  },
  {
   "cell_type": "code",
   "execution_count": null,
   "id": "6a9a5dab",
   "metadata": {},
   "outputs": [],
   "source": [
    "cnx=adb.database_connection().connect()\n",
    "cursor = cnx.cursor()"
   ]
  },
  {
   "cell_type": "code",
   "execution_count": null,
   "id": "34359afd",
   "metadata": {},
   "outputs": [],
   "source": [
    "qry = \"SHOW TABLES;\"\n",
    "pd.read_sql_query(qry,cnx)"
   ]
  },
  {
   "cell_type": "code",
   "execution_count": null,
   "id": "adcd9e9b",
   "metadata": {},
   "outputs": [],
   "source": [
    "qry = \"\"\"select *\n",
    "    from INFORMATION_SCHEMA.COLUMNS\n",
    "    where TABLE_NAME='atlas_exposures'\"\"\"\n",
    "pd.read_sql_query(qry,cnx)"
   ]
  },
  {
   "cell_type": "code",
   "execution_count": null,
   "id": "b7c5918f",
   "metadata": {},
   "outputs": [],
   "source": [
    "# qry = \"\"\"SELECT * FROM atlas_exposures\"\"\"\n",
    "# df_exp = pd.read_sql_query(qry,cnx)\n",
    "# df_exp"
   ]
  },
  {
   "cell_type": "code",
   "execution_count": null,
   "id": "cbc97e52",
   "metadata": {},
   "outputs": [],
   "source": [
    "# t = Time.now()\n",
    "# fname = \"atlas_exposures_{:.4f}.csv\".format(t.mjd)\n",
    "# df_exp.to_csv(fname)"
   ]
  },
  {
   "cell_type": "code",
   "execution_count": null,
   "id": "3a6b6953",
   "metadata": {},
   "outputs": [],
   "source": [
    "df_exp = pd.read_csv(\"atlas_exposures_59788.3936.csv\", index_col = 0)"
   ]
  },
  {
   "cell_type": "code",
   "execution_count": null,
   "id": "cb2f2688",
   "metadata": {},
   "outputs": [],
   "source": [
    "mask_null = np.isnan(df_exp[\"limiting_magnitude\"])\n",
    "df_lim = df_exp[~mask_null]\n",
    "df_lim"
   ]
  },
  {
   "cell_type": "code",
   "execution_count": null,
   "id": "d0ad2b5d",
   "metadata": {},
   "outputs": [],
   "source": [
    "df_atlas = pd.read_csv(\"atlas_co_exposures.tst\", delim_whitespace = True)\n",
    "df_atlas"
   ]
  },
  {
   "cell_type": "code",
   "execution_count": null,
   "id": "534db68e",
   "metadata": {},
   "outputs": [],
   "source": [
    "df_atlas[df_atlas[\"expname\"]==\"01a58016o0492o\"].iloc[0]"
   ]
  },
  {
   "cell_type": "code",
   "execution_count": null,
   "id": "a11f3244",
   "metadata": {},
   "outputs": [],
   "source": [
    "# np.isin is very slow for large lists of strings\n",
    "# set up a subset of each dataframe to compare\n",
    "\n",
    "_df1=df_lim[[\"expname\",\"limiting_magnitude\"]].copy()\n",
    "\n",
    "_df2=df_atlas[[\"expname\",\"mag5sig\"]].copy()\n",
    "\n",
    "# _df1 = _df1.iloc[:10000]\n",
    "# _df2 = _df2.iloc[:10000]\n",
    "\n",
    "# create a dataframe that contains all unique names, and the dataframe that they occur in\n",
    "df_merge = _df1.merge(_df2,on=\"expname\")\n",
    "df_merge[\"mjd\"] = [int(x[3:8]) for x in df_merge[\"expname\"]]\n",
    "df_merge"
   ]
  },
  {
   "cell_type": "code",
   "execution_count": null,
   "id": "7f0d5dbe",
   "metadata": {},
   "outputs": [],
   "source": [
    "x_plot = \"mag5sig\"\n",
    "y_plot = \"limiting_magnitude\"\n",
    "c_plot = \"mjd\"\n",
    "df_plot = df_merge\n",
    "\n",
    "\n",
    "fig = plt.figure()\n",
    "gs = gridspec.GridSpec(1,1)\n",
    "ax1 = plt.subplot(gs[0,0])\n",
    "\n",
    "\n",
    "s1 = ax1.scatter(df_plot[x_plot],df_plot[y_plot], c = df_plot[c_plot])\n",
    "cbar1 = fig.colorbar(s1)\n",
    "cbar1.set_label(c_plot)\n",
    "\n",
    "ax1.plot([np.amin(df_plot[x_plot]),np.amax(df_plot[x_plot])],\n",
    "        [np.amin(df_plot[x_plot]),np.amax(df_plot[x_plot])], c=\"r\")\n",
    "\n",
    "ax1.set_xlabel(x_plot)\n",
    "ax1.set_ylabel(y_plot)\n",
    "\n",
    "plt.show()"
   ]
  },
  {
   "cell_type": "code",
   "execution_count": null,
   "id": "2fb476e9",
   "metadata": {},
   "outputs": [],
   "source": [
    "x_plot = \"mjd\"\n",
    "y_plot1 = \"mag5sig\"\n",
    "y_plot2 = \"limiting_magnitude\"\n",
    "df_plot = df_merge\n",
    "\n",
    "fig = plt.figure()\n",
    "gs = gridspec.GridSpec(1,1)\n",
    "ax1 = plt.subplot(gs[0,0])\n",
    "\n",
    "s1 = ax1.scatter(df_plot[x_plot],df_plot[y_plot2]-df_plot[y_plot1],s=1)\n",
    "\n",
    "ax1.axvline(57855,c=\"k\")\n",
    "\n",
    "ax1.set_xlabel(x_plot)\n",
    "ax1.set_ylabel(\"{}-{}\".format(y_plot2,y_plot1))\n",
    "\n",
    "plt.show()"
   ]
  },
  {
   "cell_type": "code",
   "execution_count": null,
   "id": "8a956072",
   "metadata": {},
   "outputs": [],
   "source": [
    "# qry = \"\"\"SELECT primaryId,dateCreated,dateLastModified,mjd,expname FROM atlas_exposures WHERE limiting_magnitude is null\"\"\"\n",
    "# df_null = pd.read_sql_query(qry,cnx)\n",
    "df_null = df_exp[mask_null]\n",
    "df_null"
   ]
  },
  {
   "cell_type": "code",
   "execution_count": null,
   "id": "63132d37",
   "metadata": {},
   "outputs": [],
   "source": [
    "df_null[df_null[\"expname\"]==\"01a57844o0397o\"]"
   ]
  },
  {
   "cell_type": "code",
   "execution_count": null,
   "id": "c6178e13",
   "metadata": {},
   "outputs": [],
   "source": [
    "df_atlas[df_atlas[\"expname\"]==\"01a57844o0397o\"]"
   ]
  },
  {
   "cell_type": "code",
   "execution_count": null,
   "id": "f6231f1f",
   "metadata": {},
   "outputs": [],
   "source": [
    "# for i in np.arange(391125,400000,1):\n",
    "#     try:\n",
    "#         print(df_null.loc[i])\n",
    "#         break\n",
    "#     except:\n",
    "#         continue"
   ]
  },
  {
   "cell_type": "code",
   "execution_count": null,
   "id": "ecb0238d",
   "metadata": {},
   "outputs": [],
   "source": [
    "df_atlas[df_atlas[\"expname\"]==\"02a59639o0244c\"].iloc[0][\"mag5sig\"]"
   ]
  },
  {
   "cell_type": "code",
   "execution_count": null,
   "id": "03e80cc7",
   "metadata": {},
   "outputs": [],
   "source": [
    "# reselect the exposures where limiting magnitude is null when rerun\n",
    "# This way we don't reupdate exposures which are already fixed\n",
    "qry = \"\"\"SELECT expname FROM atlas_exposures where limiting_magnitude is null\"\"\"\n",
    "df_null = pd.read_sql_query(qry,cnx)\n",
    "df_null"
   ]
  },
  {
   "cell_type": "code",
   "execution_count": null,
   "id": "ac41ac2a",
   "metadata": {},
   "outputs": [],
   "source": [
    "len(df_atlas)"
   ]
  },
  {
   "cell_type": "code",
   "execution_count": null,
   "id": "22a66fa0",
   "metadata": {},
   "outputs": [],
   "source": [
    "# combine the two sources of exposure names\n",
    "_df1=df_null[[\"expname\"]].copy()\n",
    "_df1[\"df\"] = \"rockAtlas NULL\"\n",
    "\n",
    "_df2=df_atlas[[\"expname\"]].copy()\n",
    "_df2[\"df\"] = \"atlas\"\n",
    "              \n",
    "_df = pd.concat([_df1,_df2])\n",
    "_df"
   ]
  },
  {
   "cell_type": "code",
   "execution_count": null,
   "id": "29d1a4ea",
   "metadata": {},
   "outputs": [],
   "source": [
    "# keep only the rows that are duplicates, i.e. the exposure names that are in null list AND present in df_atlas\n",
    "_df_search = _df[_df.duplicated(['expname'], keep=False)]\n",
    "_df_search"
   ]
  },
  {
   "cell_type": "code",
   "execution_count": null,
   "id": "25976fe3",
   "metadata": {},
   "outputs": [],
   "source": [
    "_df_search[_df_search[\"expname\"]==\"01a57800o0484o\"]"
   ]
  },
  {
   "cell_type": "code",
   "execution_count": null,
   "id": "39c9b97e",
   "metadata": {},
   "outputs": [],
   "source": [
    "df_search = _df_search[_df_search[\"df\"]==\"rockAtlas NULL\"]\n",
    "df_search"
   ]
  },
  {
   "cell_type": "code",
   "execution_count": null,
   "id": "8554dfa4",
   "metadata": {},
   "outputs": [],
   "source": [
    "df_atlas[df_atlas[\"expname\"]==\"01a57851o0638o\"]"
   ]
  },
  {
   "cell_type": "code",
   "execution_count": null,
   "id": "7913a6f2",
   "metadata": {
    "scrolled": true
   },
   "outputs": [],
   "source": [
    "df = df_search\n",
    "\n",
    "for i in range(len(df)):\n",
    "        \n",
    "#     if i>20:\n",
    "#         break\n",
    "            \n",
    "    expname = df.iloc[i][\"expname\"]\n",
    "    \n",
    "    try:\n",
    "        mag5sig = df_atlas[df_atlas[\"expname\"]==expname].iloc[0][\"mag5sig\"]\n",
    "    except:\n",
    "        print(\"{}, {} mag5sig not found\".format(i,expname))\n",
    "        continue\n",
    "\n",
    "    qry = \"\"\"UPDATE atlas_exposures\n",
    "            SET limiting_magnitude={}\n",
    "            WHERE expname='{}'\"\"\".format(mag5sig,expname)\n",
    "\n",
    "    print(i, qry)\n",
    "\n",
    "    cursor.execute(qry)\n",
    "    cnx.commit()\n"
   ]
  },
  {
   "cell_type": "code",
   "execution_count": null,
   "id": "1c804c19",
   "metadata": {},
   "outputs": [],
   "source": []
  }
 ],
 "metadata": {
  "kernelspec": {
   "display_name": "atlas-phase",
   "language": "python",
   "name": "atlas-phase"
  },
  "language_info": {
   "codemirror_mode": {
    "name": "ipython",
    "version": 3
   },
   "file_extension": ".py",
   "mimetype": "text/x-python",
   "name": "python",
   "nbconvert_exporter": "python",
   "pygments_lexer": "ipython3",
   "version": "3.9.7"
  }
 },
 "nbformat": 4,
 "nbformat_minor": 5
}
