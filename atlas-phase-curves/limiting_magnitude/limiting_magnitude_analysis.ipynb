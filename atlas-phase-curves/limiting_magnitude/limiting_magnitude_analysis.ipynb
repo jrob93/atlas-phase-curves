{
 "cells": [
  {
   "cell_type": "code",
   "execution_count": 1,
   "id": "b3a4ffef",
   "metadata": {},
   "outputs": [],
   "source": [
    "import numpy as np\n",
    "import pandas as pd\n",
    "import matplotlib.pyplot as plt\n",
    "import matplotlib.gridspec as gridspec\n",
    "import sys\n",
    "import importlib\n",
    "import os"
   ]
  },
  {
   "cell_type": "code",
   "execution_count": 5,
   "id": "8b43fe8f",
   "metadata": {},
   "outputs": [
    {
     "data": {
      "text/plain": [
       "<module 'database_tools' from '/Users/jrobinson/atlas-phase-curves/atlas-phase-curves/tools/database_tools.py'>"
      ]
     },
     "execution_count": 5,
     "metadata": {},
     "output_type": "execute_result"
    }
   ],
   "source": [
    "sys.path.append(\"/Users/jrobinson/atlas-phase-curves/atlas-phase-curves/tools\")\n",
    "import database_tools as dbt\n",
    "importlib.reload(dbt)"
   ]
  },
  {
   "cell_type": "code",
   "execution_count": 6,
   "id": "c754bf68",
   "metadata": {},
   "outputs": [],
   "source": [
    "sys.path.append(\"/Users/jrobinson/atlas-phase-curves/atlas-phase-curves\")\n",
    "from calculate_phase.atlas_SQL_query_df import get_orb_elements_id,atlas_SQL_query_orbid,atlas_SQL_query_orbid_expname\n",
    "from calculate_phase import atlas_database_connection"
   ]
  },
  {
   "cell_type": "code",
   "execution_count": 22,
   "id": "96cfba11",
   "metadata": {},
   "outputs": [],
   "source": [
    "# select all available limiting_magnitude data\n",
    "# not available for all exposures for some reason\n",
    "qry = \"select limiting_magnitude from atlas_exposures where limiting_magnitude is not null order by rand()\"#\" limit 1000000\"\n",
    "cnx=atlas_database_connection.database_connection().connect()"
   ]
  },
  {
   "cell_type": "code",
   "execution_count": 23,
   "id": "faa2b09f",
   "metadata": {},
   "outputs": [],
   "source": [
    "df_data=pd.read_sql_query(qry,cnx)\n",
    "df_data.to_csv(\"df_data_lim_mag.csv\")"
   ]
  },
  {
   "cell_type": "code",
   "execution_count": 24,
   "id": "be0608b0",
   "metadata": {},
   "outputs": [],
   "source": [
    "df_data = pd.read_csv(\"df_data_lim_mag.csv\",index_col=0)"
   ]
  },
  {
   "cell_type": "code",
   "execution_count": 25,
   "id": "c1918331",
   "metadata": {},
   "outputs": [
    {
     "data": {
      "text/html": [
       "<div>\n",
       "<style scoped>\n",
       "    .dataframe tbody tr th:only-of-type {\n",
       "        vertical-align: middle;\n",
       "    }\n",
       "\n",
       "    .dataframe tbody tr th {\n",
       "        vertical-align: top;\n",
       "    }\n",
       "\n",
       "    .dataframe thead th {\n",
       "        text-align: right;\n",
       "    }\n",
       "</style>\n",
       "<table border=\"1\" class=\"dataframe\">\n",
       "  <thead>\n",
       "    <tr style=\"text-align: right;\">\n",
       "      <th></th>\n",
       "      <th>limiting_magnitude</th>\n",
       "    </tr>\n",
       "  </thead>\n",
       "  <tbody>\n",
       "    <tr>\n",
       "      <th>0</th>\n",
       "      <td>19.280000</td>\n",
       "    </tr>\n",
       "    <tr>\n",
       "      <th>1</th>\n",
       "      <td>18.910000</td>\n",
       "    </tr>\n",
       "    <tr>\n",
       "      <th>2</th>\n",
       "      <td>18.660000</td>\n",
       "    </tr>\n",
       "    <tr>\n",
       "      <th>3</th>\n",
       "      <td>19.050000</td>\n",
       "    </tr>\n",
       "    <tr>\n",
       "      <th>4</th>\n",
       "      <td>19.139999</td>\n",
       "    </tr>\n",
       "    <tr>\n",
       "      <th>...</th>\n",
       "      <td>...</td>\n",
       "    </tr>\n",
       "    <tr>\n",
       "      <th>943292</th>\n",
       "      <td>19.210000</td>\n",
       "    </tr>\n",
       "    <tr>\n",
       "      <th>943293</th>\n",
       "      <td>17.330000</td>\n",
       "    </tr>\n",
       "    <tr>\n",
       "      <th>943294</th>\n",
       "      <td>19.070000</td>\n",
       "    </tr>\n",
       "    <tr>\n",
       "      <th>943295</th>\n",
       "      <td>19.570000</td>\n",
       "    </tr>\n",
       "    <tr>\n",
       "      <th>943296</th>\n",
       "      <td>18.870001</td>\n",
       "    </tr>\n",
       "  </tbody>\n",
       "</table>\n",
       "<p>943297 rows × 1 columns</p>\n",
       "</div>"
      ],
      "text/plain": [
       "        limiting_magnitude\n",
       "0                19.280000\n",
       "1                18.910000\n",
       "2                18.660000\n",
       "3                19.050000\n",
       "4                19.139999\n",
       "...                    ...\n",
       "943292           19.210000\n",
       "943293           17.330000\n",
       "943294           19.070000\n",
       "943295           19.570000\n",
       "943296           18.870001\n",
       "\n",
       "[943297 rows x 1 columns]"
      ]
     },
     "execution_count": 25,
     "metadata": {},
     "output_type": "execute_result"
    }
   ],
   "source": [
    "df_data"
   ]
  },
  {
   "cell_type": "code",
   "execution_count": 28,
   "id": "f4c63b27",
   "metadata": {},
   "outputs": [
    {
     "data": {
      "image/png": "[encoded data removed]",
      "text/plain": [
       "<Figure size 432x288 with 1 Axes>"
      ]
     },
     "metadata": {
      "needs_background": "light"
     },
     "output_type": "display_data"
    }
   ],
   "source": [
    "x_plot = \"limiting_magnitude\"\n",
    "df_plot = df_data\n",
    "bins = 50\n",
    "\n",
    "fig = plt.figure()\n",
    "gs = gridspec.GridSpec(1,1)\n",
    "ax1 = plt.subplot(gs[0,0])\n",
    "\n",
    "ax1.hist(df_plot[x_plot], bins = bins)#, log=True)\n",
    "\n",
    "ax1.set_xlabel(x_plot)\n",
    "ax1.set_ylabel(\"number\")\n",
    "\n",
    "plt.show()"
   ]
  },
  {
   "cell_type": "code",
   "execution_count": 30,
   "id": "cd58992f",
   "metadata": {},
   "outputs": [
    {
     "data": {
      "image/png": "[encoded data removed]",
      "text/plain": [
       "<Figure size 432x288 with 1 Axes>"
      ]
     },
     "metadata": {
      "needs_background": "light"
     },
     "output_type": "display_data"
    }
   ],
   "source": [
    "x_plot = \"limiting_magnitude\"\n",
    "df_plot = df_data\n",
    "bins = 50\n",
    "\n",
    "fig = plt.figure()\n",
    "gs = gridspec.GridSpec(1,1)\n",
    "ax1 = plt.subplot(gs[0,0])\n",
    "\n",
    "x=ax1.hist(df_plot[x_plot], density=False, cumulative=True, histtype='step',bins=bins)\n",
    "\n",
    "ax1.set_xlabel(x_plot)\n",
    "ax1.set_ylabel(\"CDF\")\n",
    "\n",
    "plt.show()"
   ]
  },
  {
   "cell_type": "code",
   "execution_count": 33,
   "id": "9d7a0b57",
   "metadata": {},
   "outputs": [
    {
     "name": "stdout",
     "output_type": "stream",
     "text": [
      "943297\n",
      "148121\n"
     ]
    }
   ],
   "source": [
    "print(len(df_data))\n",
    "print(len(df_data[df_data[\"limiting_magnitude\"]<18]))"
   ]
  },
  {
   "cell_type": "code",
   "execution_count": null,
   "id": "f5c87c5e",
   "metadata": {},
   "outputs": [],
   "source": []
  }
 ],
 "metadata": {
  "kernelspec": {
   "display_name": "atlas-phase",
   "language": "python",
   "name": "atlas-phase"
  },
  "language_info": {
   "codemirror_mode": {
    "name": "ipython",
    "version": 3
   },
   "file_extension": ".py",
   "mimetype": "text/x-python",
   "name": "python",
   "nbconvert_exporter": "python",
   "pygments_lexer": "ipython3",
   "version": "3.9.7"
  }
 },
 "nbformat": 4,
 "nbformat_minor": 5
}
