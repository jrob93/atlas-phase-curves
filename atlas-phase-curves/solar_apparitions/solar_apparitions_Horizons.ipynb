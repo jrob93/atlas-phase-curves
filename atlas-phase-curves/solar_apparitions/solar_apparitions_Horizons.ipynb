{
 "cells": [
  {
   "cell_type": "markdown",
   "id": "3b2443b5",
   "metadata": {},
   "source": [
    "Get the actual solar elongation from JPL Horizons"
   ]
  },
  {
   "cell_type": "code",
   "execution_count": 29,
   "id": "f9b40500",
   "metadata": {},
   "outputs": [],
   "source": [
    "%matplotlib notebook"
   ]
  },
  {
   "cell_type": "code",
   "execution_count": 31,
   "id": "43bf5658",
   "metadata": {},
   "outputs": [],
   "source": [
    "%matplotlib inline"
   ]
  },
  {
   "cell_type": "code",
   "execution_count": 1,
   "id": "e12c5260",
   "metadata": {},
   "outputs": [],
   "source": [
    "import numpy as np\n",
    "import pandas as pd\n",
    "import matplotlib.pyplot as plt\n",
    "import matplotlib.gridspec as gridspec\n",
    "from astropy.time import Time\n",
    "\n",
    "from astroquery.jplhorizons import Horizons\n",
    "from sbpy.data import Names"
   ]
  },
  {
   "cell_type": "code",
   "execution_count": 2,
   "id": "9432a2f9",
   "metadata": {},
   "outputs": [],
   "source": [
    "import sys\n",
    "sys.path.append(\"/Users/jrobinson/atlas-phase-curves/atlas-phase-curves\")\n",
    "from calculate_phase import solar_apparitions as sa"
   ]
  },
  {
   "cell_type": "code",
   "execution_count": 3,
   "id": "554b9e72",
   "metadata": {},
   "outputs": [],
   "source": [
    "mjd_jd = 2400000.5 # conversion from MJD to JD"
   ]
  },
  {
   "cell_type": "code",
   "execution_count": 4,
   "id": "29ccc2ae",
   "metadata": {},
   "outputs": [],
   "source": [
    "# obj_id = 2212\n",
    "# obj_id = \"Ryugu\" # more complicated NEA (Apollo asteroid)\n",
    "# obj_id = \"Bennu\" # NEA with pole info in JPL\n",
    "obj_id = \"1998 OH\"\n",
    "loc = \"T05\""
   ]
  },
  {
   "cell_type": "code",
   "execution_count": 5,
   "id": "dfcf801c",
   "metadata": {},
   "outputs": [],
   "source": [
    "# t1=Time(57938,format=\"mjd\")\n",
    "# t2=Time(59379,format=\"mjd\")\n",
    "t1=Time(56938,format=\"mjd\")\n",
    "t2=Time(60379,format=\"mjd\")"
   ]
  },
  {
   "cell_type": "code",
   "execution_count": 6,
   "id": "fd023abd",
   "metadata": {},
   "outputs": [
    {
     "name": "stdout",
     "output_type": "stream",
     "text": [
      "2456938.5 2460379.5\n"
     ]
    }
   ],
   "source": [
    "print(t1.jd,t2.jd)"
   ]
  },
  {
   "cell_type": "code",
   "execution_count": 7,
   "id": "8420c246",
   "metadata": {},
   "outputs": [],
   "source": [
    "# epoch_list = {'start':t1.iso, 'stop':t2.iso, 'step':'1d'} # a range of epochs in Horizons format is FAST!\n",
    "epoch_list = {'start':t1.iso, 'stop':t2.iso, 'step':'5d'} # a range of epochs in Horizons format is FAST!"
   ]
  },
  {
   "cell_type": "code",
   "execution_count": 8,
   "id": "b5f1eb9e",
   "metadata": {},
   "outputs": [],
   "source": [
    "obj = Horizons(id=obj_id, location=loc, epochs=epoch_list)"
   ]
  },
  {
   "cell_type": "code",
   "execution_count": 9,
   "id": "a4473b62",
   "metadata": {},
   "outputs": [],
   "source": [
    "eph = obj.ephemerides()"
   ]
  },
  {
   "cell_type": "code",
   "execution_count": 10,
   "id": "3754c3f3",
   "metadata": {},
   "outputs": [
    {
     "data": {
      "text/html": [
       "<div><i>Table masked=True length=3442</i>\n",
       "<table id=\"table5253295072\" class=\"table-striped table-bordered table-condensed\">\n",
       "<thead><tr><th>targetname</th><th>datetime_str</th><th>datetime_jd</th><th>H</th><th>G</th><th>solar_presence</th><th>flags</th><th>RA</th><th>DEC</th><th>RA_app</th><th>DEC_app</th><th>RA_rate</th><th>DEC_rate</th><th>AZ</th><th>EL</th><th>AZ_rate</th><th>EL_rate</th><th>sat_X</th><th>sat_Y</th><th>sat_PANG</th><th>siderealtime</th><th>airmass</th><th>magextinct</th><th>V</th><th>surfbright</th><th>illumination</th><th>illum_defect</th><th>sat_sep</th><th>sat_vis</th><th>ang_width</th><th>PDObsLon</th><th>PDObsLat</th><th>PDSunLon</th><th>PDSunLat</th><th>SubSol_ang</th><th>SubSol_dist</th><th>NPole_ang</th><th>NPole_dist</th><th>EclLon</th><th>EclLat</th><th>r</th><th>r_rate</th><th>delta</th><th>delta_rate</th><th>lighttime</th><th>vel_sun</th><th>vel_obs</th><th>elong</th><th>elongFlag</th><th>alpha</th><th>lunar_elong</th><th>lunar_illum</th><th>sat_alpha</th><th>sunTargetPA</th><th>velocityPA</th><th>OrbPlaneAng</th><th>constellation</th><th>TDB-UT</th><th>ObsEclLon</th><th>ObsEclLat</th><th>NPole_RA</th><th>NPole_DEC</th><th>GlxLon</th><th>GlxLat</th><th>solartime</th><th>earth_lighttime</th><th>RA_3sigma</th><th>DEC_3sigma</th><th>SMAA_3sigma</th><th>SMIA_3sigma</th><th>Theta_3sigma</th><th>Area_3sigma</th><th>RSS_3sigma</th><th>r_3sigma</th><th>r_rate_3sigma</th><th>SBand_3sigma</th><th>XBand_3sigma</th><th>DoppDelay_3sigma</th><th>true_anom</th><th>hour_angle</th><th>alpha_true</th><th>PABLon</th><th>PABLat</th></tr></thead>\n",
       "<thead><tr><th>---</th><th>---</th><th>d</th><th>mag</th><th>---</th><th>---</th><th>---</th><th>deg</th><th>deg</th><th>deg</th><th>deg</th><th>arcsec / h</th><th>arcsec / h</th><th>deg</th><th>deg</th><th>arcsec / min</th><th>arcsec / min</th><th>arcsec</th><th>arcsec</th><th>deg</th><th>---</th><th>---</th><th>mag</th><th>mag</th><th>mag / arcsec2</th><th>%</th><th>arcsec</th><th>arcsec</th><th>---</th><th>arcsec</th><th>deg</th><th>deg</th><th>deg</th><th>deg</th><th>deg</th><th>arcsec</th><th>deg</th><th>arcsec</th><th>deg</th><th>deg</th><th>AU</th><th>km / s</th><th>AU</th><th>km / s</th><th>min</th><th>km / s</th><th>km / s</th><th>deg</th><th>---</th><th>deg</th><th>deg</th><th>%</th><th>deg</th><th>deg</th><th>deg</th><th>deg</th><th>---</th><th>s</th><th>deg</th><th>deg</th><th>deg</th><th>deg</th><th>deg</th><th>deg</th><th>---</th><th>min</th><th>arcsec</th><th>arcsec</th><th>arcsec</th><th>arcsec</th><th>deg</th><th>arcsec2</th><th>arcsec</th><th>km</th><th>km / s</th><th>Hz</th><th>Hz</th><th>s</th><th>deg</th><th>---</th><th>deg</th><th>deg</th><th>deg</th></tr></thead>\n",
       "<thead><tr><th>str15</th><th>str17</th><th>float64</th><th>float64</th><th>float64</th><th>str1</th><th>str1</th><th>float64</th><th>float64</th><th>float64</th><th>float64</th><th>float64</th><th>float64</th><th>float64</th><th>float64</th><th>float64</th><th>float64</th><th>float64</th><th>float64</th><th>float64</th><th>float64</th><th>float64</th><th>float64</th><th>float64</th><th>float64</th><th>float64</th><th>float64</th><th>float64</th><th>str1</th><th>float64</th><th>int64</th><th>int64</th><th>int64</th><th>int64</th><th>float64</th><th>float64</th><th>int64</th><th>int64</th><th>float64</th><th>float64</th><th>float64</th><th>float64</th><th>float64</th><th>float64</th><th>float64</th><th>float64</th><th>float64</th><th>float64</th><th>str2</th><th>float64</th><th>float64</th><th>float64</th><th>float64</th><th>float64</th><th>float64</th><th>float64</th><th>str3</th><th>float64</th><th>float64</th><th>float64</th><th>int64</th><th>int64</th><th>float64</th><th>float64</th><th>float64</th><th>float64</th><th>float64</th><th>float64</th><th>float64</th><th>float64</th><th>float64</th><th>float64</th><th>float64</th><th>float64</th><th>float64</th><th>float64</th><th>float64</th><th>float64</th><th>float64</th><th>float64</th><th>float64</th><th>float64</th><th>float64</th></tr></thead>\n",
       "<tr><td>12538 (1998 OH)</td><td>2014-Oct-08 00:00</td><td>2456938.5</td><td>15.92</td><td>0.15</td><td>*</td><td></td><td>35.24274</td><td>24.99079</td><td>35.46183</td><td>25.05823</td><td>-38.7762</td><td>-36.1054</td><td>6.086865</td><td>-43.993989</td><td>813.32</td><td>88.98</td><td>-565969.38</td><td>110980.199</td><td>314.814</td><td>14.6861609261</td><td>999.0</td><td>--</td><td>18.466</td><td>4.774</td><td>98.60913</td><td>2.9e-05</td><td>545186.0</td><td>*</td><td>0.002075</td><td>--</td><td>--</td><td>--</td><td>--</td><td>51.19</td><td>0.0</td><td>--</td><td>--</td><td>28.3872</td><td>5.5831</td><td>2.039239538907</td><td>-4.4620707</td><td>1.10478577095999</td><td>-14.3971102</td><td>9.18822308</td><td>17.1617963</td><td>18.6110158</td><td>151.4406</td><td>/L</td><td>13.5505</td><td>33.9</td><td>99.74</td><td>15.0112</td><td>231.116</td><td>274.702</td><td>-9.61713</td><td>Ari</td><td>67.18237</td><td>41.4067692</td><td>10.3455095</td><td>--</td><td>--</td><td>147.414108</td><td>-33.586885</td><td>13.7877596562</td><td>0.000355</td><td>0.021</td><td>0.016</td><td>0.021</td><td>0.016</td><td>5.63</td><td>0.0010655</td><td>0.026</td><td>9.6695</td><td>9e-07</td><td>0.03</td><td>0.11</td><td>6.5e-05</td><td>204.7479</td><td>-11.67796115</td><td>13.5459</td><td>34.7519</td><td>8.0138</td></tr>\n",
       "<tr><td>12538 (1998 OH)</td><td>2014-Oct-09 00:00</td><td>2456939.5</td><td>15.92</td><td>0.15</td><td>*</td><td></td><td>34.93911</td><td>24.7452</td><td>35.15782</td><td>24.81296</td><td>-40.033</td><td>-37.3271</td><td>7.743507</td><td>-44.092142</td><td>811.96</td><td>113.22</td><td>-569940.42</td><td>111468.503</td><td>315.396</td><td>14.7518682331</td><td>999.0</td><td>--</td><td>18.427</td><td>4.752</td><td>98.72067</td><td>2.7e-05</td><td>549797.5</td><td>*</td><td>0.002091</td><td>--</td><td>--</td><td>--</td><td>--</td><td>50.29</td><td>0.0</td><td>--</td><td>--</td><td>28.6345</td><td>5.4739</td><td>2.036649232055</td><td>-4.5075171</td><td>1.09660771891724</td><td>-13.9963042</td><td>9.1202083</td><td>17.1940024</td><td>18.4973517</td><td>152.7215</td><td>/L</td><td>12.9936</td><td>21.0</td><td>99.5689</td><td>14.287</td><td>230.214</td><td>274.535</td><td>-9.346</td><td>Ari</td><td>67.182372</td><td>41.0600657</td><td>10.2048916</td><td>--</td><td>--</td><td>147.230849</td><td>-33.92295</td><td>13.7924564218</td><td>0.000355</td><td>0.021</td><td>0.016</td><td>0.021</td><td>0.016</td><td>6.288</td><td>0.0010815</td><td>0.027</td><td>9.6036</td><td>9e-07</td><td>0.03</td><td>0.11</td><td>6.4e-05</td><td>205.0171</td><td>-11.591986737</td><td>12.989</td><td>34.7047</td><td>7.8837</td></tr>\n",
       "<tr><td>12538 (1998 OH)</td><td>2014-Oct-10 00:00</td><td>2456940.5</td><td>15.92</td><td>0.15</td><td>*</td><td></td><td>34.62692</td><td>24.49134</td><td>34.84526</td><td>24.55941</td><td>-41.259</td><td>-38.5503</td><td>9.421562</td><td>-44.161475</td><td>809.89</td><td>137.67</td><td>-573918.81</td><td>111922.219</td><td>316.044</td><td>14.8175762383</td><td>999.0</td><td>--</td><td>18.387</td><td>4.729</td><td>98.82942</td><td>2.5e-05</td><td>554436.7</td><td>*</td><td>0.002106</td><td>--</td><td>--</td><td>--</td><td>--</td><td>49.32</td><td>0.0</td><td>--</td><td>--</td><td>28.8823</td><td>5.3642</td><td>2.03403267528</td><td>-4.5529801</td><td>1.08866896101021</td><td>-13.5863003</td><td>9.05418366</td><td>17.2265569</td><td>18.3845865</td><td>154.0102</td><td>/L</td><td>12.427</td><td>12.7</td><td>96.8039</td><td>13.5649</td><td>229.239</td><td>274.372</td><td>-9.0662</td><td>Ari</td><td>67.182373</td><td>40.7025813</td><td>10.059626</td><td>--</td><td>--</td><td>147.039994</td><td>-34.269322</td><td>13.7970300717</td><td>0.000355</td><td>0.021</td><td>0.017</td><td>0.021</td><td>0.016</td><td>6.933</td><td>0.0010972</td><td>0.027</td><td>9.5401</td><td>9e-07</td><td>0.03</td><td>0.11</td><td>6.4e-05</td><td>205.2871</td><td>-11.505440945</td><td>12.4223</td><td>34.6523</td><td>7.7513</td></tr>\n",
       "<tr><td>12538 (1998 OH)</td><td>2014-Oct-11 00:00</td><td>2456941.5</td><td>15.92</td><td>0.15</td><td>*</td><td></td><td>34.30646</td><td>24.2292</td><td>34.52443</td><td>24.29759</td><td>-42.4509</td><td>-39.7726</td><td>11.119076</td><td>-44.200992</td><td>807.08</td><td>162.29</td><td>-577903.62</td><td>112341.004</td><td>316.772</td><td>14.8832850422</td><td>999.0</td><td>--</td><td>18.347</td><td>4.706</td><td>98.93505</td><td>2.3e-05</td><td>559100.4</td><td>*</td><td>0.002121</td><td>--</td><td>--</td><td>--</td><td>--</td><td>48.26</td><td>0.0</td><td>--</td><td>--</td><td>29.1307</td><td>5.2543</td><td>2.031389859281</td><td>-4.5984593</td><td>1.08097486877078</td><td>-13.1670461</td><td>8.99019385</td><td>17.2594608</td><td>18.2726177</td><td>155.3057</td><td>/L</td><td>11.8512</td><td>16.9</td><td>91.7926</td><td>12.8453</td><td>228.18</td><td>274.212</td><td>-8.7778</td><td>Ari</td><td>67.182375</td><td>40.3345305</td><td>9.9096697</td><td>--</td><td>--</td><td>146.841541</td><td>-34.625851</td><td>13.8014740222</td><td>0.000355</td><td>0.021</td><td>0.017</td><td>0.021</td><td>0.017</td><td>7.565</td><td>0.0011126</td><td>0.027</td><td>9.4793</td><td>9e-07</td><td>0.03</td><td>0.12</td><td>6.3e-05</td><td>205.5577</td><td>-11.418343486</td><td>11.8465</td><td>34.5949</td><td>7.6167</td></tr>\n",
       "<tr><td>12538 (1998 OH)</td><td>2014-Oct-12 00:00</td><td>2456942.5</td><td>15.92</td><td>0.15</td><td>*</td><td></td><td>33.97807</td><td>23.95879</td><td>34.19565</td><td>24.02751</td><td>-43.6049</td><td>-40.9912</td><td>12.833919</td><td>-44.209758</td><td>803.52</td><td>187.01</td><td>-581893.84</td><td>112724.563</td><td>317.593</td><td>14.9489945092</td><td>999.0</td><td>--</td><td>18.307</td><td>4.682</td><td>99.03719</td><td>2.1e-05</td><td>563784.5</td><td>*</td><td>0.002136</td><td>--</td><td>--</td><td>--</td><td>--</td><td>47.1</td><td>0.0</td><td>--</td><td>--</td><td>29.3796</td><td>5.1439</td><td>2.028720774858</td><td>-4.6439546</td><td>1.07353082427705</td><td>-12.7385491</td><td>8.92828362</td><td>17.2927151</td><td>18.1613402</td><td>156.6068</td><td>/L</td><td>11.2669</td><td>27.9</td><td>84.9871</td><td>12.1284</td><td>227.023</td><td>274.057</td><td>-8.48086</td><td>Ari</td><td>67.182378</td><td>39.9561531</td><td>9.7549872</td><td>--</td><td>--</td><td>146.635498</td><td>-34.99236</td><td>13.8057819287</td><td>0.000355</td><td>0.021</td><td>0.017</td><td>0.022</td><td>0.017</td><td>8.183</td><td>0.0011276</td><td>0.027</td><td>9.4214</td><td>9e-07</td><td>0.03</td><td>0.12</td><td>6.3e-05</td><td>205.8291</td><td>-11.330715761</td><td>11.2622</td><td>34.5326</td><td>7.4798</td></tr>\n",
       "<tr><td>12538 (1998 OH)</td><td>2014-Oct-13 00:00</td><td>2456943.5</td><td>15.92</td><td>0.15</td><td>*</td><td></td><td>33.64207</td><td>23.68016</td><td>33.85928</td><td>23.74922</td><td>-44.7172</td><td>-42.2032</td><td>14.563796</td><td>-44.186914</td><td>799.2</td><td>211.78</td><td>-585888.4</td><td>113072.656</td><td>318.526</td><td>15.0147044012</td><td>999.0</td><td>--</td><td>18.266</td><td>4.657</td><td>99.13548</td><td>1.9e-05</td><td>568483.9</td><td>*</td><td>0.00215</td><td>--</td><td>--</td><td>--</td><td>--</td><td>45.83</td><td>0.0</td><td>--</td><td>--</td><td>29.6291</td><td>5.0331</td><td>2.02602541292</td><td>-4.6894659</td><td>1.06634218073448</td><td>-12.3008904</td><td>8.86849749</td><td>17.3263208</td><td>18.0506621</td><td>157.9122</td><td>/L</td><td>10.6748</td><td>40.1</td><td>76.8658</td><td>11.415</td><td>225.748</td><td>273.907</td><td>-8.17549</td><td>Ari</td><td>67.182381</td><td>39.5677173</td><td>9.5955516</td><td>--</td><td>--</td><td>146.42189</td><td>-35.368647</td><td>13.8099477786</td><td>0.000355</td><td>0.022</td><td>0.017</td><td>0.022</td><td>0.017</td><td>8.785</td><td>0.0011422</td><td>0.027</td><td>9.3669</td><td>9e-07</td><td>0.03</td><td>0.12</td><td>6.2e-05</td><td>206.1012</td><td>-11.242580916</td><td>10.6701</td><td>34.4656</td><td>7.3406</td></tr>\n",
       "<tr><td>12538 (1998 OH)</td><td>2014-Oct-14 00:00</td><td>2456944.5</td><td>15.92</td><td>0.15</td><td>*</td><td></td><td>33.29886</td><td>23.39335</td><td>33.51568</td><td>23.46275</td><td>-45.7837</td><td>-43.4053</td><td>16.306261</td><td>-44.131682</td><td>794.13</td><td>236.54</td><td>-589886.16</td><td>113385.11</td><td>319.593</td><td>15.0804144332</td><td>999.0</td><td>--</td><td>18.226</td><td>4.631</td><td>99.22955</td><td>1.7e-05</td><td>573192.6</td><td>*</td><td>0.002164</td><td>--</td><td>--</td><td>--</td><td>--</td><td>44.42</td><td>0.0</td><td>--</td><td>--</td><td>29.8792</td><td>4.9219</td><td>2.023303764487</td><td>-4.7349929</td><td>1.05941421895893</td><td>-11.8542254</td><td>8.81087939</td><td>17.3602788</td><td>17.9405121</td><td>159.2202</td><td>/L</td><td>10.076</td><td>52.5</td><td>67.8786</td><td>10.7058</td><td>224.335</td><td>273.762</td><td>-7.86179</td><td>Ari</td><td>67.182385</td><td>39.1695229</td><td>9.4313459</td><td>--</td><td>--</td><td>146.200759</td><td>-35.75448</td><td>13.81396586</td><td>0.000355</td><td>0.022</td><td>0.017</td><td>0.022</td><td>0.017</td><td>9.373</td><td>0.0011564</td><td>0.028</td><td>9.3159</td><td>9e-07</td><td>0.03</td><td>0.12</td><td>6.2e-05</td><td>206.374</td><td>-11.153963924</td><td>10.0713</td><td>34.3938</td><td>7.1991</td></tr>\n",
       "<tr><td>12538 (1998 OH)</td><td>2014-Oct-15 00:00</td><td>2456945.5</td><td>15.92</td><td>0.15</td><td>*</td><td></td><td>32.94882</td><td>23.09845</td><td>33.16524</td><td>23.1682</td><td>-46.8005</td><td>-44.5941</td><td>18.058736</td><td>-44.043376</td><td>788.31</td><td>261.22</td><td>-593885.9</td><td>113661.823</td><td>320.824</td><td>15.1461243324</td><td>999.0</td><td>--</td><td>18.184</td><td>4.605</td><td>99.31903</td><td>1.5e-05</td><td>577902.6</td><td>*</td><td>0.002178</td><td>--</td><td>--</td><td>--</td><td>--</td><td>42.84</td><td>0.0</td><td>--</td><td>--</td><td>30.1298</td><td>4.8104</td><td>2.020555820706</td><td>-4.7805353</td><td>1.0527521056425</td><td>-11.3987779</td><td>8.75547228</td><td>17.3945904</td><td>17.8308411</td><td>160.5285</td><td>/L</td><td>9.4717</td><td>64.8</td><td>58.4206</td><td>10.0018</td><td>222.755</td><td>273.623</td><td>-7.53991</td><td>Ari</td><td>67.18239</td><td>38.7619027</td><td>9.2623632</td><td>--</td><td>--</td><td>145.972162</td><td>-36.149597</td><td>13.8178307361</td><td>0.000355</td><td>0.022</td><td>0.017</td><td>0.022</td><td>0.017</td><td>9.945</td><td>0.00117</td><td>0.028</td><td>9.2688</td><td>9e-07</td><td>0.03</td><td>0.13</td><td>6.2e-05</td><td>206.6475</td><td>-11.064891572</td><td>9.467</td><td>34.3176</td><td>7.0553</td></tr>\n",
       "<tr><td>12538 (1998 OH)</td><td>2014-Oct-16 00:00</td><td>2456946.5</td><td>15.92</td><td>0.15</td><td>*</td><td></td><td>32.5924</td><td>22.79557</td><td>32.80839</td><td>22.86567</td><td>-47.7638</td><td>-45.7662</td><td>19.818533</td><td>-43.921413</td><td>781.75</td><td>285.76</td><td>-597886.33</td><td>113902.773</td><td>322.254</td><td>15.2118338866</td><td>999.0</td><td>--</td><td>18.143</td><td>4.578</td><td>99.40355</td><td>1.3e-05</td><td>582604.0</td><td>*</td><td>0.002191</td><td>--</td><td>--</td><td>--</td><td>--</td><td>41.06</td><td>0.0</td><td>--</td><td>--</td><td>30.3811</td><td>4.6984</td><td>2.017781572855</td><td>-4.8260931</td><td>1.04636085626688</td><td>-10.934831</td><td>8.70231788</td><td>17.4292565</td><td>17.7216182</td><td>161.8345</td><td>/L</td><td>8.8634</td><td>76.9</td><td>48.8291</td><td>9.304</td><td>220.97</td><td>273.491</td><td>-7.21001</td><td>Ari</td><td>67.182394</td><td>38.3452233</td><td>9.0886081</td><td>--</td><td>--</td><td>145.736177</td><td>-36.553707</td><td>13.8215372343</td><td>0.000355</td><td>0.022</td><td>0.017</td><td>0.022</td><td>0.017</td><td>10.501</td><td>0.0011831</td><td>0.028</td><td>9.2258</td><td>9e-07</td><td>0.04</td><td>0.13</td><td>6.2e-05</td><td>206.9218</td><td>-10.975392399</td><td>8.8587</td><td>34.2371</td><td>6.9093</td></tr>\n",
       "<tr><td>12538 (1998 OH)</td><td>2014-Oct-17 00:00</td><td>2456947.5</td><td>15.92</td><td>0.15</td><td>*</td><td></td><td>32.23003</td><td>22.48482</td><td>32.44559</td><td>22.55527</td><td>-48.6697</td><td>-46.9178</td><td>21.582884</td><td>-43.765318</td><td>774.47</td><td>310.1</td><td>-601886.1</td><td>114108.026</td><td>323.932</td><td>15.2775429883</td><td>999.0</td><td>--</td><td>18.101</td><td>4.549</td><td>99.48276</td><td>1.1e-05</td><td>587284.1</td><td>*</td><td>0.002204</td><td>--</td><td>--</td><td>--</td><td>--</td><td>39.03</td><td>0.0</td><td>--</td><td>--</td><td>30.633</td><td>4.5861</td><td>2.014981012351</td><td>-4.8716658</td><td>1.04024530301833</td><td>-10.4627189</td><td>8.65145638</td><td>17.4642781</td><td>17.6128265</td><td>163.1345</td><td>/L</td><td>8.2531</td><td>89.0</td><td>39.3965</td><td>8.6142</td><td>218.934</td><td>273.366</td><td>-6.87228</td><td>Ari</td><td>67.1824</td><td>37.9198849</td><td>8.9100974</td><td>--</td><td>--</td><td>145.492897</td><td>-36.966491</td><td>13.8250804552</td><td>0.000355</td><td>0.022</td><td>0.017</td><td>0.022</td><td>0.017</td><td>11.04</td><td>0.0011956</td><td>0.028</td><td>9.1873</td><td>9e-07</td><td>0.04</td><td>0.13</td><td>6.1e-05</td><td>207.1968</td><td>-10.885496577</td><td>8.2485</td><td>34.1525</td><td>6.7609</td></tr>\n",
       "<tr><td>12538 (1998 OH)</td><td>2014-Oct-18 00:00</td><td>2456948.5</td><td>15.92</td><td>0.15</td><td>*</td><td>m</td><td>31.8622</td><td>22.16637</td><td>32.07731</td><td>22.23716</td><td>-49.5146</td><td>-48.0453</td><td>23.348962</td><td>-43.57473</td><td>766.49</td><td>334.16</td><td>-605883.84</td><td>114277.733</td><td>325.919</td><td>15.3432515728</td><td>999.0</td><td>--</td><td>18.059</td><td>4.52</td><td>99.55629</td><td>9.8e-06</td><td>591926.1</td><td>*</td><td>0.002217</td><td>--</td><td>--</td><td>--</td><td>--</td><td>36.68</td><td>0.0</td><td>--</td><td>--</td><td>30.8855</td><td>4.4733</td><td>2.012154130764</td><td>-4.9172533</td><td>1.03441006659914</td><td>-9.9828219</td><td>8.60292619</td><td>17.4996566</td><td>17.5044578</td><td>164.4239</td><td>/L</td><td>7.6433</td><td>101.0</td><td>30.3878</td><td>7.9345</td><td>216.586</td><td>273.249</td><td>-6.52694</td><td>Ari</td><td>67.182406</td><td>37.4863214</td><td>8.7268605</td><td>--</td><td>--</td><td>145.24244</td><td>-37.387599</td><td>13.8284556963</td><td>0.000355</td><td>0.022</td><td>0.017</td><td>0.022</td><td>0.017</td><td>11.563</td><td>0.0012074</td><td>0.028</td><td>9.1535</td><td>9e-07</td><td>0.04</td><td>0.13</td><td>6.1e-05</td><td>207.4727</td><td>-10.795235891</td><td>7.6387</td><td>34.064</td><td>6.6104</td></tr>\n",
       "<tr><td>12538 (1998 OH)</td><td>2014-Oct-19 00:00</td><td>2456949.5</td><td>15.92</td><td>0.15</td><td>*</td><td>m</td><td>31.4894</td><td>21.84038</td><td>31.70405</td><td>21.91152</td><td>-50.2948</td><td>-49.1447</td><td>25.113913</td><td>-43.349414</td><td>757.85</td><td>357.9</td><td>-609878.1</td><td>114412.139</td><td>328.297</td><td>15.4089596468</td><td>999.0</td><td>--</td><td>18.017</td><td>4.491</td><td>99.62381</td><td>8.4e-06</td><td>596507.6</td><td>*</td><td>0.002229</td><td>--</td><td>--</td><td>--</td><td>--</td><td>33.94</td><td>0.0</td><td>--</td><td>--</td><td>31.1386</td><td>4.3602</td><td>2.009300919821</td><td>-4.9628552</td><td>1.02885953027904</td><td>-9.4955639</td><td>8.55676379</td><td>17.5353928</td><td>17.3965093</td><td>165.6966</td><td>/L</td><td>7.0373</td><td>113.1</td><td>22.0596</td><td>7.2678</td><td>213.843</td><td>273.14</td><td>-6.17421</td><td>Ari</td><td>67.182412</td><td>37.0449987</td><td>8.5389402</td><td>--</td><td>--</td><td>144.984941</td><td>-37.81665</td><td>13.8316584781</td><td>0.000355</td><td>0.022</td><td>0.017</td><td>0.023</td><td>0.017</td><td>12.069</td><td>0.0012185</td><td>0.028</td><td>9.1246</td><td>9e-07</td><td>0.04</td><td>0.13</td><td>6.1e-05</td><td>207.7493</td><td>-10.704643607</td><td>7.0329</td><td>33.9719</td><td>6.4575</td></tr>\n",
       "<tr><td>12538 (1998 OH)</td><td>2014-Oct-20 00:00</td><td>2456950.5</td><td>15.92</td><td>0.15</td><td>*</td><td>m</td><td>31.11216</td><td>21.50707</td><td>31.32632</td><td>21.57855</td><td>-51.0071</td><td>-50.2122</td><td>26.874885</td><td>-43.089257</td><td>748.58</td><td>381.24</td><td>-613867.4</td><td>114511.581</td><td>331.173</td><td>15.4746673014</td><td>999.0</td><td>--</td><td>17.975</td><td>4.46</td><td>99.68496</td><td>7.1e-06</td><td>600998.4</td><td>*</td><td>0.00224</td><td>--</td><td>--</td><td>--</td><td>--</td><td>30.71</td><td>0.0</td><td>--</td><td>--</td><td>31.3924</td><td>4.2466</td><td>2.00642137142</td><td>-5.0084713</td><td>1.02359781453768</td><td>-9.0014127</td><td>8.51300344</td><td>17.571488</td><td>17.2889808</td><td>166.944</td><td>/L</td><td>6.4395</td><td>125.3</td><td>14.6736</td><td>6.6179</td><td>210.599</td><td>273.041</td><td>-5.81438</td><td>Ari</td><td>67.182419</td><td>36.5964151</td><td>8.346393</td><td>--</td><td>--</td><td>144.720557</td><td>-38.253237</td><td>13.8346845634</td><td>0.000355</td><td>0.022</td><td>0.018</td><td>0.023</td><td>0.017</td><td>12.558</td><td>0.0012288</td><td>0.028</td><td>9.101</td><td>9e-07</td><td>0.04</td><td>0.14</td><td>6.1e-05</td><td>208.0266</td><td>-10.613754364</td><td>6.4353</td><td>33.8764</td><td>6.3025</td></tr>\n",
       "<tr><td>12538 (1998 OH)</td><td>2014-Oct-21 00:00</td><td>2456951.5</td><td>15.92</td><td>0.15</td><td>*</td><td>m</td><td>30.731</td><td>21.16666</td><td>30.94468</td><td>21.23847</td><td>-51.6481</td><td>-51.2439</td><td>28.629059</td><td>-42.794275</td><td>738.71</td><td>404.13</td><td>-617850.26</td><td>114576.491</td><td>334.693</td><td>15.5403746818</td><td>999.0</td><td>--</td><td>17.933</td><td>4.43</td><td>99.73942</td><td>5.9e-06</td><td>605356.3</td><td>*</td><td>0.002251</td><td>--</td><td>--</td><td>--</td><td>--</td><td>26.83</td><td>0.0</td><td>--</td><td>--</td><td>31.6469</td><td>4.1326</td><td>2.003515477639</td><td>-5.0541012</td><td>1.01862875096687</td><td>-8.500882</td><td>8.47167699</td><td>17.6079434</td><td>17.181875</td><td>168.1545</td><td>/L</td><td>5.8561</td><td>137.5</td><td>8.5027</td><td>5.9906</td><td>206.709</td><td>272.95</td><td>-5.44772</td><td>Ari</td><td>67.182427</td><td>36.1410994</td><td>8.1492895</td><td>--</td><td>--</td><td>144.449471</td><td>-38.696925</td><td>13.8375299397</td><td>0.000355</td><td>0.023</td><td>0.018</td><td>0.023</td><td>0.017</td><td>13.029</td><td>0.0012384</td><td>0.029</td><td>9.0828</td><td>9e-07</td><td>0.04</td><td>0.14</td><td>6.1e-05</td><td>208.3048</td><td>-10.522604093</td><td>5.8521</td><td>33.7777</td><td>6.1453</td></tr>\n",
       "<tr><td>12538 (1998 OH)</td><td>2014-Oct-22 00:00</td><td>2456952.5</td><td>15.92</td><td>0.15</td><td>*</td><td>m</td><td>30.34648</td><td>20.81941</td><td>30.55968</td><td>20.89155</td><td>-52.2148</td><td>-52.2359</td><td>30.373673</td><td>-42.464616</td><td>728.3</td><td>426.53</td><td>-621825.14</td><td>114607.395</td><td>339.044</td><td>15.6060819886</td><td>999.0</td><td>--</td><td>17.891</td><td>4.399</td><td>99.7869</td><td>4.8e-06</td><td>609522.5</td><td>*</td><td>0.002261</td><td>--</td><td>--</td><td>--</td><td>--</td><td>22.11</td><td>0.0</td><td>--</td><td>--</td><td>31.902</td><td>4.0182</td><td>2.000583230746</td><td>-5.0997445</td><td>1.01395585461322</td><td>-7.9945349</td><td>8.4328137</td><td>17.6447601</td><td>17.0751983</td><td>169.3118</td><td>/L</td><td>5.2955</td><td>149.9</td><td>3.8264</td><td>5.3937</td><td>201.983</td><td>272.87</td><td>-5.07456</td><td>Ari</td><td>67.182435</td><td>35.6796102</td><td>7.9477146</td><td>--</td><td>--</td><td>144.171885</td><td>-39.147251</td><td>13.840190842</td><td>0.000355</td><td>0.023</td><td>0.018</td><td>0.023</td><td>0.017</td><td>13.483</td><td>0.0012471</td><td>0.029</td><td>9.0703</td><td>9e-07</td><td>0.04</td><td>0.14</td><td>6.1e-05</td><td>208.5838</td><td>-10.431229885</td><td>5.2917</td><td>33.6762</td><td>5.9859</td></tr>\n",
       "<tr><td>12538 (1998 OH)</td><td>2014-Oct-23 00:00</td><td>2456953.5</td><td>15.92</td><td>0.15</td><td>*</td><td>m</td><td>29.95918</td><td>20.46561</td><td>30.17189</td><td>20.53807</td><td>-52.7045</td><td>-53.1843</td><td>32.106054</td><td>-42.100553</td><td>717.39</td><td>448.38</td><td>-625790.51</td><td>114604.916</td><td>344.471</td><td>15.6717894775</td><td>999.0</td><td>--</td><td>17.851</td><td>4.369</td><td>99.8271</td><td>3.9e-06</td><td>613413.2</td><td>*</td><td>0.002271</td><td>--</td><td>--</td><td>--</td><td>--</td><td>16.32</td><td>0.0</td><td>--</td><td>--</td><td>32.1578</td><td>3.9034</td><td>1.997624623208</td><td>-5.145401</td><td>1.00958229463201</td><td>-7.482986</td><td>8.39643991</td><td>17.6819394</td><td>16.9689642</td><td>170.3925</td><td>/L</td><td>4.7696</td><td>161.9</td><td>0.9158</td><td>4.8386</td><td>196.179</td><td>272.8</td><td>-4.69522</td><td>Ari</td><td>67.182444</td><td>35.2125337</td><td>7.7417678</td><td>--</td><td>--</td><td>143.888028</td><td>-39.603727</td><td>13.8426637808</td><td>0.000355</td><td>0.023</td><td>0.018</td><td>0.023</td><td>0.017</td><td>13.92</td><td>0.0012548</td><td>0.029</td><td>9.0636</td><td>9e-07</td><td>0.04</td><td>0.14</td><td>6e-05</td><td>208.8636</td><td>-10.339669848</td><td>4.7662</td><td>33.5721</td><td>5.8244</td></tr>\n",
       "<tr><td>12538 (1998 OH)</td><td>2014-Oct-24 00:00</td><td>2456954.5</td><td>15.92</td><td>0.15</td><td>*</td><td>m</td><td>29.56967</td><td>20.10555</td><td>29.78191</td><td>20.17834</td><td>-53.1145</td><td>-54.0854</td><td>33.82364</td><td>-41.702488</td><td>706.03</td><td>469.63</td><td>-629744.83</td><td>114569.765</td><td>351.256</td><td>15.7374974146</td><td>999.0</td><td>--</td><td>17.814</td><td>4.34</td><td>99.85975</td><td>3.2e-06</td><td>616909.9</td><td>*</td><td>0.00228</td><td>--</td><td>--</td><td>--</td><td>--</td><td>9.17</td><td>0.0</td><td>--</td><td>--</td><td>32.4142</td><td>3.7882</td><td>1.994639647706</td><td>-5.1910702</td><td>1.00551086396627</td><td>-6.9669024</td><td>8.36257886</td><td>17.7194824</td><td>16.8631971</td><td>171.3639</td><td>/L</td><td>4.2952</td><td>171.2</td><td>0.0072</td><td>4.3412</td><td>189.014</td><td>272.741</td><td>-4.31007</td><td>Ari</td><td>67.182453</td><td>34.7404817</td><td>7.5315633</td><td>--</td><td>--</td><td>143.598154</td><td>-40.065841</td><td>13.8449455343</td><td>0.000355</td><td>0.023</td><td>0.018</td><td>0.023</td><td>0.017</td><td>14.339</td><td>0.0012617</td><td>0.029</td><td>9.063</td><td>9e-07</td><td>0.04</td><td>0.14</td><td>6e-05</td><td>209.1443</td><td>-10.24796295</td><td>4.2924</td><td>33.4657</td><td>5.6609</td></tr>\n",
       "<tr><td>...</td><td>...</td><td>...</td><td>...</td><td>...</td><td>...</td><td>...</td><td>...</td><td>...</td><td>...</td><td>...</td><td>...</td><td>...</td><td>...</td><td>...</td><td>...</td><td>...</td><td>...</td><td>...</td><td>...</td><td>...</td><td>...</td><td>...</td><td>...</td><td>...</td><td>...</td><td>...</td><td>...</td><td>...</td><td>...</td><td>...</td><td>...</td><td>...</td><td>...</td><td>...</td><td>...</td><td>...</td><td>...</td><td>...</td><td>...</td><td>...</td><td>...</td><td>...</td><td>...</td><td>...</td><td>...</td><td>...</td><td>...</td><td>...</td><td>...</td><td>...</td><td>...</td><td>...</td><td>...</td><td>...</td><td>...</td><td>...</td><td>...</td><td>...</td><td>...</td><td>...</td><td>...</td><td>...</td><td>...</td><td>...</td><td>...</td><td>...</td><td>...</td><td>...</td><td>...</td><td>...</td><td>...</td><td>...</td><td>...</td><td>...</td><td>...</td><td>...</td><td>...</td><td>...</td><td>...</td><td>...</td><td>...</td><td>...</td></tr>\n",
       "<tr><td>12538 (1998 OH)</td><td>2024-Feb-22 00:00</td><td>2460362.5</td><td>15.92</td><td>0.15</td><td>*</td><td></td><td>355.7729</td><td>8.02743</td><td>356.07473</td><td>8.15922</td><td>66.79286</td><td>16.07146</td><td>175.784759</td><td>77.41974</td><td>890.04</td><td>62.24</td><td>75321.956</td><td>67029.43</td><td>49.477</td><td>23.6765350246</td><td>1.024</td><td>0.134</td><td>20.703</td><td>4.86</td><td>98.81345</td><td>9.1e-06</td><td>101515.7</td><td>*</td><td>0.00077</td><td>--</td><td>--</td><td>--</td><td>--</td><td>229.04</td><td>0.0</td><td>--</td><td>--</td><td>11.5707</td><td>12.5277</td><td>2.157385057426</td><td>-1.2484075</td><td>2.97773955149233</td><td>9.778863</td><td>24.76510469</td><td>15.7140879</td><td>42.3566</td><td>28.1988</td><td>/T</td><td>12.5118</td><td>124.8</td><td>94.4772</td><td>139.2869</td><td>49.051</td><td>266.56</td><td>7.39287</td><td>Psc</td><td>69.185224</td><td>359.6682422</td><td>9.0425227</td><td>--</td><td>--</td><td>95.296805</td><td>-51.1406</td><td>13.3566427103</td><td>0.000355</td><td>0.016</td><td>0.005</td><td>0.016</td><td>0.00511</td><td>-1.63</td><td>0.0002553</td><td>0.017</td><td>10.7147</td><td>2.2e-06</td><td>0.02</td><td>0.08</td><td>7.1e-05</td><td>186.7255</td><td>-0.061780106</td><td>12.5072</td><td>5.4171</td><td>10.8456</td></tr>\n",
       "<tr><td>12538 (1998 OH)</td><td>2024-Feb-23 00:00</td><td>2460363.5</td><td>15.92</td><td>0.15</td><td>*</td><td></td><td>356.22768</td><td>8.13481</td><td>356.52964</td><td>8.26669</td><td>66.8349</td><td>16.17405</td><td>178.181631</td><td>77.553224</td><td>891.56</td><td>27.02</td><td>73638.845</td><td>66106.556</td><td>49.131</td><td>23.7422446828</td><td>1.024</td><td>0.134</td><td>20.698</td><td>4.852</td><td>98.85403</td><td>8.8e-06</td><td>99574.8</td><td>*</td><td>0.000769</td><td>--</td><td>--</td><td>--</td><td>--</td><td>228.79</td><td>0.0</td><td>--</td><td>--</td><td>11.8</td><td>12.4404</td><td>2.156651246072</td><td>-1.292801</td><td>2.98332452465913</td><td>9.5510618</td><td>24.81155349</td><td>15.7230102</td><td>42.4179332</td><td>27.6597</td><td>/T</td><td>12.2953</td><td>135.9</td><td>97.9588</td><td>140.0426</td><td>48.803</td><td>266.658</td><td>7.32741</td><td>Psc</td><td>69.185242</td><td>0.1293986</td><td>8.9599771</td><td>--</td><td>--</td><td>96.021889</td><td>-51.228227</td><td>13.3587335701</td><td>0.000355</td><td>0.016</td><td>0.005</td><td>0.016</td><td>0.00511</td><td>-1.731</td><td>0.0002549</td><td>0.017</td><td>10.7106</td><td>2.2e-06</td><td>0.02</td><td>0.08</td><td>7.1e-05</td><td>186.9659</td><td>-0.026397963</td><td>12.2906</td><td>5.7634</td><td>10.758</td></tr>\n",
       "<tr><td>12538 (1998 OH)</td><td>2024-Feb-24 00:00</td><td>2460364.5</td><td>15.92</td><td>0.15</td><td>*</td><td></td><td>356.68284</td><td>8.24287</td><td>356.98494</td><td>8.37482</td><td>66.87767</td><td>16.27322</td><td>180.622331</td><td>77.666557</td><td>891.68</td><td>-8.89</td><td>71959.989</td><td>65176.914</td><td>48.783</td><td>23.8079535726</td><td>1.023</td><td>0.134</td><td>20.693</td><td>4.843</td><td>98.89399</td><td>8.5e-06</td><td>97638.29</td><td>*</td><td>0.000767</td><td>--</td><td>--</td><td>--</td><td>--</td><td>228.54</td><td>0.0</td><td>--</td><td>--</td><td>12.0294</td><td>12.3529</td><td>2.155891793313</td><td>-1.3372024</td><td>2.98877544139992</td><td>9.3225973</td><td>24.85688738</td><td>15.7322447</td><td>42.4789131</td><td>27.1217</td><td>/T</td><td>12.0783</td><td>146.8</td><td>99.7094</td><td>140.7976</td><td>48.548</td><td>266.755</td><td>7.2603</td><td>Peg</td><td>69.18526</td><td>0.5909596</td><td>8.8778919</td><td>--</td><td>--</td><td>96.75065</td><td>-51.310323</td><td>13.3609982154</td><td>0.000355</td><td>0.016</td><td>0.005</td><td>0.016</td><td>0.00512</td><td>-1.831</td><td>0.0002545</td><td>0.017</td><td>10.7073</td><td>2.2e-06</td><td>0.02</td><td>0.08</td><td>7.1e-05</td><td>187.2064</td><td>0.008957372</td><td>12.0736</td><td>6.1098</td><td>10.6705</td></tr>\n",
       "<tr><td>12538 (1998 OH)</td><td>2024-Feb-25 00:00</td><td>2460365.5</td><td>15.92</td><td>0.15</td><td>*</td><td></td><td>357.13842</td><td>8.3516</td><td>357.44065</td><td>8.48361</td><td>66.92126</td><td>16.36903</td><td>183.100257</td><td>77.759215</td><td>890.32</td><td>-45.33</td><td>70285.259</td><td>64240.807</td><td>48.432</td><td>23.8736617894</td><td>1.023</td><td>0.134</td><td>20.688</td><td>4.835</td><td>98.93333</td><td>8.2e-06</td><td>95706.2</td><td>*</td><td>0.000766</td><td>--</td><td>--</td><td>--</td><td>--</td><td>228.28</td><td>0.0</td><td>--</td><td>--</td><td>12.2587</td><td>12.2651</td><td>2.155106694543</td><td>-1.3816117</td><td>2.99409191003317</td><td>9.0934284</td><td>24.90110311</td><td>15.7417915</td><td>42.5395689</td><td>26.5851</td><td>/T</td><td>11.8608</td><td>157.3</td><td>99.7146</td><td>141.5517</td><td>48.286</td><td>266.853</td><td>7.19157</td><td>Peg</td><td>69.185278</td><td>1.0529259</td><td>8.7962562</td><td>--</td><td>--</td><td>97.482911</td><td>-51.386853</td><td>13.3634313794</td><td>0.000355</td><td>0.016</td><td>0.005</td><td>0.016</td><td>0.00512</td><td>-1.932</td><td>0.0002542</td><td>0.017</td><td>10.7048</td><td>2.2e-06</td><td>0.02</td><td>0.08</td><td>7.1e-05</td><td>187.4471</td><td>0.04428537</td><td>11.8561</td><td>6.4565</td><td>10.5832</td></tr>\n",
       "<tr><td>12538 (1998 OH)</td><td>2024-Feb-26 00:00</td><td>2460366.5</td><td>15.92</td><td>0.15</td><td>*</td><td></td><td>357.59441</td><td>8.46098</td><td>357.89676</td><td>8.59304</td><td>66.96573</td><td>16.46154</td><td>185.608079</td><td>77.830767</td><td>887.43</td><td>-82.12</td><td>68614.531</td><td>63298.538</td><td>48.078</td><td>23.9393695249</td><td>1.023</td><td>0.134</td><td>20.683</td><td>4.826</td><td>98.97205</td><td>7.9e-06</td><td>93778.61</td><td>*</td><td>0.000764</td><td>--</td><td>--</td><td>--</td><td>--</td><td>228.01</td><td>0.0</td><td>--</td><td>--</td><td>12.4881</td><td>12.177</td><td>2.154295945001</td><td>-1.4260293</td><td>2.99927351392533</td><td>8.8635093</td><td>24.94419719</td><td>15.7516508</td><td>42.5999181</td><td>26.0496</td><td>/T</td><td>11.643</td><td>166.6</td><td>98.0009</td><td>142.3051</td><td>48.018</td><td>266.951</td><td>7.12123</td><td>Peg</td><td>69.185296</td><td>1.5153003</td><td>8.7150597</td><td>--</td><td>--</td><td>98.218491</td><td>-51.457787</td><td>13.3660276868</td><td>0.000355</td><td>0.016</td><td>0.005</td><td>0.016</td><td>0.00512</td><td>-2.033</td><td>0.0002538</td><td>0.017</td><td>10.703</td><td>2.2e-06</td><td>0.02</td><td>0.08</td><td>7.1e-05</td><td>187.688</td><td>0.079585467</td><td>11.6382</td><td>6.8034</td><td>10.4961</td></tr>\n",
       "<tr><td>12538 (1998 OH)</td><td>2024-Feb-27 00:00</td><td>2460367.5</td><td>15.92</td><td>0.15</td><td>*</td><td></td><td>358.05081</td><td>8.57097</td><td>358.3533</td><td>8.70307</td><td>67.01113</td><td>16.55081</td><td>188.137856</td><td>77.880881</td><td>882.96</td><td>-119.07</td><td>66947.685</td><td>62350.409</td><td>47.72</td><td>0.0050770385</td><td>1.022</td><td>0.134</td><td>20.677</td><td>4.817</td><td>99.01012</td><td>7.6e-06</td><td>91855.58</td><td>*</td><td>0.000763</td><td>--</td><td>--</td><td>--</td><td>--</td><td>227.73</td><td>0.0</td><td>--</td><td>--</td><td>12.7175</td><td>12.0887</td><td>2.153459539784</td><td>-1.4704555</td><td>3.00431980920866</td><td>8.6327908</td><td>24.98616595</td><td>15.7618227</td><td>42.6599671</td><td>25.5154</td><td>/T</td><td>11.4247</td><td>170.3</td><td>94.6324</td><td>143.0575</td><td>47.742</td><td>267.049</td><td>7.04931</td><td>Peg</td><td>69.185313</td><td>1.9780872</td><td>8.6342922</td><td>--</td><td>--</td><td>98.957204</td><td>-51.523094</td><td>13.3687816788</td><td>0.000355</td><td>0.016</td><td>0.005</td><td>0.016</td><td>0.00512</td><td>-2.134</td><td>0.0002535</td><td>0.017</td><td>10.7021</td><td>2.2e-06</td><td>0.02</td><td>0.08</td><td>7.1e-05</td><td>187.9291</td><td>0.114857083</td><td>11.4199</td><td>7.1505</td><td>10.4092</td></tr>\n",
       "<tr><td>12538 (1998 OH)</td><td>2024-Feb-28 00:00</td><td>2460368.5</td><td>15.92</td><td>0.15</td><td>*</td><td></td><td>358.50765</td><td>8.68157</td><td>358.81028</td><td>8.8137</td><td>67.05748</td><td>16.63688</td><td>190.681182</td><td>77.909338</td><td>876.92</td><td>-155.99</td><td>65284.604</td><td>61396.723</td><td>47.358</td><td>0.0707846222</td><td>1.022</td><td>0.134</td><td>20.672</td><td>4.809</td><td>99.04755</td><td>7.3e-06</td><td>89937.18</td><td>*</td><td>0.000762</td><td>--</td><td>--</td><td>--</td><td>--</td><td>227.45</td><td>0.0</td><td>--</td><td>--</td><td>12.947</td><td>12.0002</td><td>2.152597473838</td><td>-1.5148905</td><td>3.0092303233419</td><td>8.4012219</td><td>25.02700545</td><td>15.7723075</td><td>42.7197119</td><td>24.9826</td><td>/T</td><td>11.206</td><td>163.8</td><td>89.7058</td><td>143.8091</td><td>47.457</td><td>267.147</td><td>6.97581</td><td>Peg</td><td>69.185329</td><td>2.4412917</td><td>8.5539437</td><td>--</td><td>--</td><td>99.698862</td><td>-51.582745</td><td>13.3716878367</td><td>0.000355</td><td>0.016</td><td>0.005</td><td>0.016</td><td>0.00512</td><td>-2.235</td><td>0.0002532</td><td>0.017</td><td>10.7019</td><td>2.2e-06</td><td>0.02</td><td>0.08</td><td>7.1e-05</td><td>188.1703</td><td>0.150099622</td><td>11.2012</td><td>7.4978</td><td>10.3223</td></tr>\n",
       "<tr><td>12538 (1998 OH)</td><td>2024-Feb-29 00:00</td><td>2460369.5</td><td>15.92</td><td>0.15</td><td>*</td><td></td><td>358.96493</td><td>8.79274</td><td>359.2677</td><td>8.9249</td><td>67.1048</td><td>16.71977</td><td>193.229354</td><td>77.916034</td><td>869.32</td><td>-192.67</td><td>63625.179</td><td>60437.783</td><td>46.991</td><td>0.1364925634</td><td>1.022</td><td>0.134</td><td>20.666</td><td>4.8</td><td>99.08432</td><td>7e-06</td><td>88023.51</td><td>*</td><td>0.000761</td><td>--</td><td>--</td><td>--</td><td>--</td><td>227.16</td><td>0.0</td><td>--</td><td>--</td><td>13.1765</td><td>11.9113</td><td>2.151709741965</td><td>-1.5593346</td><td>3.01400455425182</td><td>8.1687506</td><td>25.06671152</td><td>15.7831053</td><td>42.7791391</td><td>24.451</td><td>/T</td><td>10.987</td><td>153.9</td><td>83.3457</td><td>144.5597</td><td>47.165</td><td>267.245</td><td>6.90076</td><td>Peg</td><td>69.185346</td><td>2.9049193</td><td>8.4740046</td><td>--</td><td>--</td><td>100.443272</td><td>-51.636714</td><td>13.3747406029</td><td>0.000355</td><td>0.016</td><td>0.005</td><td>0.016</td><td>0.00512</td><td>-2.335</td><td>0.000253</td><td>0.017</td><td>10.7024</td><td>2.2e-06</td><td>0.02</td><td>0.08</td><td>7.1e-05</td><td>188.4118</td><td>0.185312488</td><td>10.9822</td><td>7.8453</td><td>10.2357</td></tr>\n",
       "<tr><td>12538 (1998 OH)</td><td>2024-Mar-01 00:00</td><td>2460370.5</td><td>15.92</td><td>0.15</td><td>*</td><td></td><td>359.42266</td><td>8.90447</td><td>359.72559</td><td>9.03665</td><td>67.15308</td><td>16.79952</td><td>195.77356</td><td>77.900986</td><td>860.21</td><td>-228.92</td><td>61969.305</td><td>59473.893</td><td>46.619</td><td>0.2022011094</td><td>1.022</td><td>0.134</td><td>20.659</td><td>4.79</td><td>99.12044</td><td>6.7e-06</td><td>86114.65</td><td>*</td><td>0.00076</td><td>--</td><td>--</td><td>--</td><td>--</td><td>226.86</td><td>0.0</td><td>--</td><td>--</td><td>13.406</td><td>11.8222</td><td>2.150796338822</td><td>-1.6037879</td><td>3.01864196963749</td><td>7.9353232</td><td>25.10527973</td><td>15.7942164</td><td>42.8382256</td><td>23.9207</td><td>/T</td><td>10.7676</td><td>143.0</td><td>75.7027</td><td>145.3094</td><td>46.862</td><td>267.343</td><td>6.82418</td><td>Psc</td><td>69.185362</td><td>3.3689746</td><td>8.3944656</td><td>--</td><td>--</td><td>101.190239</td><td>-51.684978</td><td>13.377934402</td><td>0.000355</td><td>0.016</td><td>0.005</td><td>0.016</td><td>0.00513</td><td>-2.436</td><td>0.0002528</td><td>0.017</td><td>10.7037</td><td>2.2e-06</td><td>0.02</td><td>0.08</td><td>7.1e-05</td><td>188.6535</td><td>0.220495089</td><td>10.7628</td><td>8.193</td><td>10.1492</td></tr>\n",
       "<tr><td>12538 (1998 OH)</td><td>2024-Mar-02 00:00</td><td>2460371.5</td><td>15.92</td><td>0.15</td><td>*</td><td></td><td>359.88085</td><td>9.01674</td><td>0.18395</td><td>9.14894</td><td>67.2023</td><td>16.87614</td><td>198.305066</td><td>77.864327</td><td>849.64</td><td>-264.53</td><td>60316.883</td><td>58505.358</td><td>46.24</td><td>0.2679104341</td><td>1.022</td><td>0.134</td><td>20.653</td><td>4.781</td><td>99.15588</td><td>6.4e-06</td><td>84210.72</td><td>*</td><td>0.000758</td><td>--</td><td>--</td><td>--</td><td>--</td><td>226.55</td><td>0.0</td><td>--</td><td>--</td><td>13.6355</td><td>11.7329</td><td>2.149857258923</td><td>-1.6482508</td><td>3.0231420060068</td><td>7.7008843</td><td>25.14270539</td><td>15.8056409</td><td>42.8969384</td><td>23.3919</td><td>/T</td><td>10.5479</td><td>131.7</td><td>66.9562</td><td>146.0579</td><td>46.55</td><td>267.441</td><td>6.74608</td><td>Psc</td><td>69.185377</td><td>3.833461</td><td>8.3153174</td><td>--</td><td>--</td><td>101.939563</td><td>-51.727513</td><td>13.3812636632</td><td>0.000355</td><td>0.016</td><td>0.005</td><td>0.016</td><td>0.00513</td><td>-2.538</td><td>0.0002525</td><td>0.016</td><td>10.7056</td><td>2.2e-06</td><td>0.02</td><td>0.08</td><td>7.1e-05</td><td>188.8953</td><td>0.255646845</td><td>10.5431</td><td>8.541</td><td>10.0628</td></tr>\n",
       "<tr><td>12538 (1998 OH)</td><td>2024-Mar-03 00:00</td><td>2460372.5</td><td>15.92</td><td>0.15</td><td>*</td><td></td><td>0.3395</td><td>9.12952</td><td>0.6428</td><td>9.26174</td><td>67.25243</td><td>16.94962</td><td>200.815402</td><td>77.80631</td><td>837.7</td><td>-299.34</td><td>58667.821</td><td>57532.483</td><td>45.855</td><td>0.3336206053</td><td>1.023</td><td>0.134</td><td>20.646</td><td>4.772</td><td>99.19065</td><td>6.1e-06</td><td>82311.85</td><td>*</td><td>0.000757</td><td>--</td><td>--</td><td>--</td><td>--</td><td>226.22</td><td>0.0</td><td>--</td><td>--</td><td>13.8652</td><td>11.6433</td><td>2.14889249664</td><td>-1.6927235</td><td>3.02750406722359</td><td>7.4653753</td><td>25.17898354</td><td>15.8173791</td><td>42.9552318</td><td>22.8644</td><td>/T</td><td>10.3279</td><td>120.0</td><td>57.3256</td><td>146.8054</td><td>46.227</td><td>267.54</td><td>6.66647</td><td>Psc</td><td>69.185393</td><td>4.2983801</td><td>8.2365511</td><td>--</td><td>--</td><td>102.691043</td><td>-51.7643</td><td>13.384722845</td><td>0.000355</td><td>0.016</td><td>0.005</td><td>0.016</td><td>0.00513</td><td>-2.639</td><td>0.0002524</td><td>0.016</td><td>10.7082</td><td>2.3e-06</td><td>0.02</td><td>0.08</td><td>7.1e-05</td><td>189.1374</td><td>0.29076719</td><td>10.3231</td><td>8.8892</td><td>9.9765</td></tr>\n",
       "<tr><td>12538 (1998 OH)</td><td>2024-Mar-04 00:00</td><td>2460373.5</td><td>15.92</td><td>0.15</td><td>*</td><td></td><td>0.79863</td><td>9.2428</td><td>1.10214</td><td>9.37503</td><td>67.30339</td><td>17.01994</td><td>203.296534</td><td>77.727294</td><td>824.52</td><td>-333.17</td><td>57022.033</td><td>56555.574</td><td>45.461</td><td>0.3993315587</td><td>1.023</td><td>0.134</td><td>20.64</td><td>4.762</td><td>99.22473</td><td>5.9e-06</td><td>80418.18</td><td>*</td><td>0.000756</td><td>--</td><td>--</td><td>--</td><td>--</td><td>225.89</td><td>0.0</td><td>--</td><td>--</td><td>14.0948</td><td>11.5534</td><td>2.147902046204</td><td>-1.7372062</td><td>3.03172752283316</td><td>7.2287353</td><td>25.21410895</td><td>15.8294311</td><td>43.0130433</td><td>22.3384</td><td>/T</td><td>10.1076</td><td>107.8</td><td>47.0883</td><td>147.5517</td><td>45.891</td><td>267.638</td><td>6.58538</td><td>Psc</td><td>69.185408</td><td>4.7637307</td><td>8.1581576</td><td>--</td><td>--</td><td>103.444472</td><td>-51.795322</td><td>13.3883064667</td><td>0.000355</td><td>0.016</td><td>0.005</td><td>0.016</td><td>0.00513</td><td>-2.74</td><td>0.0002522</td><td>0.016</td><td>10.7114</td><td>2.3e-06</td><td>0.02</td><td>0.08</td><td>7.1e-05</td><td>189.3797</td><td>0.325855586</td><td>10.1028</td><td>9.2376</td><td>9.8903</td></tr>\n",
       "<tr><td>12538 (1998 OH)</td><td>2024-Mar-05 00:00</td><td>2460374.5</td><td>15.92</td><td>0.15</td><td>*</td><td></td><td>1.25824</td><td>9.35655</td><td>1.56197</td><td>9.48879</td><td>67.35509</td><td>17.08708</td><td>205.741012</td><td>77.627739</td><td>810.2</td><td>-365.9</td><td>55379.444</td><td>55574.939</td><td>45.059</td><td>0.4650430745</td><td>1.023</td><td>0.134</td><td>20.633</td><td>4.753</td><td>99.25812</td><td>5.6e-06</td><td>78529.88</td><td>*</td><td>0.000755</td><td>--</td><td>--</td><td>--</td><td>--</td><td>225.54</td><td>0.0</td><td>--</td><td>--</td><td>14.3246</td><td>11.4632</td><td>2.146885901708</td><td>-1.7816992</td><td>3.0358117072408</td><td>6.9909035</td><td>25.24807608</td><td>15.8417973</td><td>43.0702882</td><td>21.8139</td><td>/T</td><td>9.8871</td><td>95.3</td><td>36.6057</td><td>148.2967</td><td>45.544</td><td>267.737</td><td>6.50283</td><td>Psc</td><td>69.185422</td><td>5.2295089</td><td>8.0801284</td><td>--</td><td>--</td><td>104.199641</td><td>-51.820563</td><td>13.3920091483</td><td>0.000355</td><td>0.016</td><td>0.005</td><td>0.016</td><td>0.00514</td><td>-2.841</td><td>0.0002521</td><td>0.016</td><td>10.7152</td><td>2.3e-06</td><td>0.02</td><td>0.08</td><td>7.1e-05</td><td>189.6223</td><td>0.36091153</td><td>9.8823</td><td>9.5862</td><td>9.8043</td></tr>\n",
       "<tr><td>12538 (1998 OH)</td><td>2024-Mar-06 00:00</td><td>2460375.5</td><td>15.92</td><td>0.15</td><td>*</td><td>m</td><td>1.71834</td><td>9.47076</td><td>2.0223</td><td>9.603</td><td>67.40739</td><td>17.15097</td><td>208.142093</td><td>77.508194</td><td>794.89</td><td>-397.4</td><td>53739.989</td><td>54590.888</td><td>44.647</td><td>0.5307547688</td><td>1.024</td><td>0.134</td><td>20.625</td><td>4.743</td><td>99.29081</td><td>5.3e-06</td><td>76647.14</td><td>*</td><td>0.000754</td><td>--</td><td>--</td><td>--</td><td>--</td><td>225.18</td><td>0.0</td><td>--</td><td>--</td><td>14.5544</td><td>11.3728</td><td>2.145844057107</td><td>-1.8262026</td><td>3.03975592189958</td><td>6.7518274</td><td>25.28087911</td><td>15.8544778</td><td>43.1268541</td><td>21.2909</td><td>/T</td><td>9.6664</td><td>82.2</td><td>26.3481</td><td>149.0405</td><td>45.182</td><td>267.836</td><td>6.41882</td><td>Psc</td><td>69.185436</td><td>5.6957066</td><td>8.0024547</td><td>--</td><td>--</td><td>104.956339</td><td>-51.840012</td><td>13.3958256596</td><td>0.000355</td><td>0.016</td><td>0.005</td><td>0.016</td><td>0.00514</td><td>-2.942</td><td>0.0002519</td><td>0.016</td><td>10.7197</td><td>2.3e-06</td><td>0.02</td><td>0.08</td><td>7.2e-05</td><td>189.8651</td><td>0.395934565</td><td>9.6616</td><td>9.9351</td><td>9.7184</td></tr>\n",
       "<tr><td>12538 (1998 OH)</td><td>2024-Mar-07 00:00</td><td>2460376.5</td><td>15.92</td><td>0.15</td><td>*</td><td>m</td><td>2.17893</td><td>9.5854</td><td>2.48313</td><td>9.71763</td><td>67.46009</td><td>17.2115</td><td>210.493825</td><td>77.369286</td><td>778.73</td><td>-427.57</td><td>52103.613</td><td>53603.733</td><td>44.224</td><td>0.5964661283</td><td>1.024</td><td>0.134</td><td>20.618</td><td>4.733</td><td>99.3228</td><td>5.1e-06</td><td>74770.16</td><td>*</td><td>0.000753</td><td>--</td><td>--</td><td>--</td><td>--</td><td>224.81</td><td>0.0</td><td>--</td><td>--</td><td>14.7843</td><td>11.2821</td><td>2.144776506223</td><td>-1.8707169</td><td>3.04355944374266</td><td>6.5114767</td><td>25.31251204</td><td>15.8674728</td><td>43.1825995</td><td>20.7695</td><td>/T</td><td>9.4455</td><td>68.6</td><td>16.9064</td><td>149.7827</td><td>44.806</td><td>267.935</td><td>6.33338</td><td>Psc</td><td>69.18545</td><td>6.1623129</td><td>7.9251279</td><td>--</td><td>--</td><td>105.714349</td><td>-51.853657</td><td>13.3997509742</td><td>0.000355</td><td>0.016</td><td>0.005</td><td>0.016</td><td>0.00514</td><td>-3.044</td><td>0.0002519</td><td>0.016</td><td>10.7247</td><td>2.3e-06</td><td>0.02</td><td>0.07</td><td>7.2e-05</td><td>190.1081</td><td>0.430924295</td><td>9.4407</td><td>10.2842</td><td>9.6326</td></tr>\n",
       "<tr><td>12538 (1998 OH)</td><td>2024-Mar-08 00:00</td><td>2460377.5</td><td>15.92</td><td>0.15</td><td>*</td><td>m</td><td>2.64003</td><td>9.70045</td><td>2.94444</td><td>9.83266</td><td>67.51296</td><td>17.26854</td><td>212.791106</td><td>77.211703</td><td>761.86</td><td>-456.35</td><td>50470.279</td><td>52613.788</td><td>43.789</td><td>0.6621766282</td><td>1.025</td><td>0.134</td><td>20.61</td><td>4.724</td><td>99.35406</td><td>4.9e-06</td><td>72899.19</td><td>*</td><td>0.000752</td><td>--</td><td>--</td><td>--</td><td>--</td><td>224.42</td><td>0.0</td><td>--</td><td>--</td><td>15.0143</td><td>11.1912</td><td>2.143683242741</td><td>-1.915242</td><td>3.04722154347124</td><td>6.2698629</td><td>25.34296879</td><td>15.8807827</td><td>43.2373592</td><td>20.2498</td><td>/T</td><td>9.2245</td><td>54.6</td><td>8.9692</td><td>150.5235</td><td>44.413</td><td>268.034</td><td>6.24653</td><td>Psc</td><td>69.185464</td><td>6.6293147</td><td>7.8481392</td><td>--</td><td>--</td><td>106.473452</td><td>-51.861492</td><td>13.4037803124</td><td>0.000355</td><td>0.016</td><td>0.005</td><td>0.016</td><td>0.00515</td><td>-3.145</td><td>0.0002518</td><td>0.016</td><td>10.7303</td><td>2.3e-06</td><td>0.02</td><td>0.07</td><td>7.2e-05</td><td>190.3513</td><td>0.465880393</td><td>9.2197</td><td>10.6336</td><td>9.5469</td></tr>\n",
       "<tr><td>12538 (1998 OH)</td><td>2024-Mar-09 00:00</td><td>2460378.5</td><td>15.92</td><td>0.15</td><td>*</td><td>m</td><td>3.10163</td><td>9.81588</td><td>3.40625</td><td>9.94806</td><td>67.56576</td><td>17.32191</td><td>215.029706</td><td>77.036186</td><td>744.43</td><td>-483.69</td><td>48839.961</td><td>51621.371</td><td>43.34</td><td>0.7278859264</td><td>1.026</td><td>0.134</td><td>20.603</td><td>4.714</td><td>99.38461</td><td>4.6e-06</td><td>71034.51</td><td>*</td><td>0.000752</td><td>--</td><td>--</td><td>--</td><td>--</td><td>224.01</td><td>0.0</td><td>--</td><td>--</td><td>15.2444</td><td>11.1</td><td>2.142564260219</td><td>-1.9597784</td><td>3.05074151585889</td><td>6.0270601</td><td>25.37224351</td><td>15.8944076</td><td>43.2909622</td><td>19.7318</td><td>/T</td><td>9.0034</td><td>40.2</td><td>3.2461</td><td>151.2625</td><td>44.003</td><td>268.134</td><td>6.15829</td><td>Psc</td><td>69.185477</td><td>7.0967</td><td>7.7714798</td><td>--</td><td>--</td><td>107.233425</td><td>-51.863515</td><td>13.4079091533</td><td>0.000355</td><td>0.016</td><td>0.005</td><td>0.016</td><td>0.00515</td><td>-3.247</td><td>0.0002518</td><td>0.016</td><td>10.7364</td><td>2.3e-06</td><td>0.02</td><td>0.07</td><td>7.2e-05</td><td>190.5948</td><td>0.500802617</td><td>8.9986</td><td>10.9832</td><td>9.4613</td></tr>\n",
       "<tr><td>12538 (1998 OH)</td><td>2024-Mar-10 00:00</td><td>2460379.5</td><td>15.92</td><td>0.15</td><td>*</td><td>m</td><td>3.56374</td><td>9.93168</td><td>3.86855</td><td>10.0638</td><td>67.61826</td><td>17.37145</td><td>217.206265</td><td>76.843511</td><td>726.57</td><td>-509.57</td><td>47212.646</td><td>50626.803</td><td>42.877</td><td>0.7935940449</td><td>1.027</td><td>0.134</td><td>20.595</td><td>4.703</td><td>99.41443</td><td>4.4e-06</td><td>69176.42</td><td>*</td><td>0.000751</td><td>--</td><td>--</td><td>--</td><td>--</td><td>223.58</td><td>0.0</td><td>--</td><td>--</td><td>15.4746</td><td>11.0085</td><td>2.141419552086</td><td>-2.0043262</td><td>3.05411872010949</td><td>5.7832173</td><td>25.40033086</td><td>15.9083479</td><td>43.3432609</td><td>19.2157</td><td>/T</td><td>8.7823</td><td>25.9</td><td>0.3366</td><td>151.9998</td><td>43.575</td><td>268.233</td><td>6.06868</td><td>Psc</td><td>69.185489</td><td>7.564461</td><td>7.6951403</td><td>--</td><td>--</td><td>107.994041</td><td>-51.859725</td><td>13.4121331957</td><td>0.000355</td><td>0.016</td><td>0.005</td><td>0.016</td><td>0.00516</td><td>-3.348</td><td>0.0002517</td><td>0.016</td><td>10.7431</td><td>2.3e-06</td><td>0.02</td><td>0.07</td><td>7.2e-05</td><td>190.8386</td><td>0.535690819</td><td>8.7775</td><td>11.333</td><td>9.3757</td></tr>\n",
       "</table></div>"
      ],
      "text/plain": [
       "<Table masked=True length=3442>\n",
       "   targetname      datetime_str   datetime_jd    H       G    solar_presence flags     RA      DEC    ... SBand_3sigma XBand_3sigma DoppDelay_3sigma true_anom   hour_angle  alpha_true  PABLon  PABLat\n",
       "      ---              ---             d        mag     ---        ---        ---     deg      deg    ...      Hz           Hz             s            deg         ---         deg       deg     deg  \n",
       "     str15            str17         float64   float64 float64      str1       str1  float64  float64  ...   float64      float64        float64       float64     float64     float64   float64 float64\n",
       "--------------- ----------------- ----------- ------- ------- -------------- ----- --------- -------- ... ------------ ------------ ---------------- --------- ------------- ---------- ------- -------\n",
       "12538 (1998 OH) 2014-Oct-08 00:00   2456938.5   15.92    0.15              *        35.24274 24.99079 ...         0.03         0.11          6.5e-05  204.7479  -11.67796115    13.5459 34.7519  8.0138\n",
       "12538 (1998 OH) 2014-Oct-09 00:00   2456939.5   15.92    0.15              *        34.93911  24.7452 ...         0.03         0.11          6.4e-05  205.0171 -11.591986737     12.989 34.7047  7.8837\n",
       "12538 (1998 OH) 2014-Oct-10 00:00   2456940.5   15.92    0.15              *        34.62692 24.49134 ...         0.03         0.11          6.4e-05  205.2871 -11.505440945    12.4223 34.6523  7.7513\n",
       "12538 (1998 OH) 2014-Oct-11 00:00   2456941.5   15.92    0.15              *        34.30646  24.2292 ...         0.03         0.12          6.3e-05  205.5577 -11.418343486    11.8465 34.5949  7.6167\n",
       "12538 (1998 OH) 2014-Oct-12 00:00   2456942.5   15.92    0.15              *        33.97807 23.95879 ...         0.03         0.12          6.3e-05  205.8291 -11.330715761    11.2622 34.5326  7.4798\n",
       "12538 (1998 OH) 2014-Oct-13 00:00   2456943.5   15.92    0.15              *        33.64207 23.68016 ...         0.03         0.12          6.2e-05  206.1012 -11.242580916    10.6701 34.4656  7.3406\n",
       "12538 (1998 OH) 2014-Oct-14 00:00   2456944.5   15.92    0.15              *        33.29886 23.39335 ...         0.03         0.12          6.2e-05   206.374 -11.153963924    10.0713 34.3938  7.1991\n",
       "12538 (1998 OH) 2014-Oct-15 00:00   2456945.5   15.92    0.15              *        32.94882 23.09845 ...         0.03         0.13          6.2e-05  206.6475 -11.064891572      9.467 34.3176  7.0553\n",
       "12538 (1998 OH) 2014-Oct-16 00:00   2456946.5   15.92    0.15              *         32.5924 22.79557 ...         0.04         0.13          6.2e-05  206.9218 -10.975392399     8.8587 34.2371  6.9093\n",
       "12538 (1998 OH) 2014-Oct-17 00:00   2456947.5   15.92    0.15              *        32.23003 22.48482 ...         0.04         0.13          6.1e-05  207.1968 -10.885496577     8.2485 34.1525  6.7609\n",
       "12538 (1998 OH) 2014-Oct-18 00:00   2456948.5   15.92    0.15              *     m   31.8622 22.16637 ...         0.04         0.13          6.1e-05  207.4727 -10.795235891     7.6387  34.064  6.6104\n",
       "12538 (1998 OH) 2014-Oct-19 00:00   2456949.5   15.92    0.15              *     m   31.4894 21.84038 ...         0.04         0.13          6.1e-05  207.7493 -10.704643607     7.0329 33.9719  6.4575\n",
       "12538 (1998 OH) 2014-Oct-20 00:00   2456950.5   15.92    0.15              *     m  31.11216 21.50707 ...         0.04         0.14          6.1e-05  208.0266 -10.613754364     6.4353 33.8764  6.3025\n",
       "12538 (1998 OH) 2014-Oct-21 00:00   2456951.5   15.92    0.15              *     m    30.731 21.16666 ...         0.04         0.14          6.1e-05  208.3048 -10.522604093     5.8521 33.7777  6.1453\n",
       "12538 (1998 OH) 2014-Oct-22 00:00   2456952.5   15.92    0.15              *     m  30.34648 20.81941 ...         0.04         0.14          6.1e-05  208.5838 -10.431229885     5.2917 33.6762  5.9859\n",
       "12538 (1998 OH) 2014-Oct-23 00:00   2456953.5   15.92    0.15              *     m  29.95918 20.46561 ...         0.04         0.14            6e-05  208.8636 -10.339669848     4.7662 33.5721  5.8244\n",
       "12538 (1998 OH) 2014-Oct-24 00:00   2456954.5   15.92    0.15              *     m  29.56967 20.10555 ...         0.04         0.14            6e-05  209.1443  -10.24796295     4.2924 33.4657  5.6609\n",
       "            ...               ...         ...     ...     ...            ...   ...       ...      ... ...          ...          ...              ...       ...           ...        ...     ...     ...\n",
       "12538 (1998 OH) 2024-Feb-22 00:00   2460362.5   15.92    0.15              *        355.7729  8.02743 ...         0.02         0.08          7.1e-05  186.7255  -0.061780106    12.5072  5.4171 10.8456\n",
       "12538 (1998 OH) 2024-Feb-23 00:00   2460363.5   15.92    0.15              *       356.22768  8.13481 ...         0.02         0.08          7.1e-05  186.9659  -0.026397963    12.2906  5.7634  10.758\n",
       "12538 (1998 OH) 2024-Feb-24 00:00   2460364.5   15.92    0.15              *       356.68284  8.24287 ...         0.02         0.08          7.1e-05  187.2064   0.008957372    12.0736  6.1098 10.6705\n",
       "12538 (1998 OH) 2024-Feb-25 00:00   2460365.5   15.92    0.15              *       357.13842   8.3516 ...         0.02         0.08          7.1e-05  187.4471    0.04428537    11.8561  6.4565 10.5832\n",
       "12538 (1998 OH) 2024-Feb-26 00:00   2460366.5   15.92    0.15              *       357.59441  8.46098 ...         0.02         0.08          7.1e-05   187.688   0.079585467    11.6382  6.8034 10.4961\n",
       "12538 (1998 OH) 2024-Feb-27 00:00   2460367.5   15.92    0.15              *       358.05081  8.57097 ...         0.02         0.08          7.1e-05  187.9291   0.114857083    11.4199  7.1505 10.4092\n",
       "12538 (1998 OH) 2024-Feb-28 00:00   2460368.5   15.92    0.15              *       358.50765  8.68157 ...         0.02         0.08          7.1e-05  188.1703   0.150099622    11.2012  7.4978 10.3223\n",
       "12538 (1998 OH) 2024-Feb-29 00:00   2460369.5   15.92    0.15              *       358.96493  8.79274 ...         0.02         0.08          7.1e-05  188.4118   0.185312488    10.9822  7.8453 10.2357\n",
       "12538 (1998 OH) 2024-Mar-01 00:00   2460370.5   15.92    0.15              *       359.42266  8.90447 ...         0.02         0.08          7.1e-05  188.6535   0.220495089    10.7628   8.193 10.1492\n",
       "12538 (1998 OH) 2024-Mar-02 00:00   2460371.5   15.92    0.15              *       359.88085  9.01674 ...         0.02         0.08          7.1e-05  188.8953   0.255646845    10.5431   8.541 10.0628\n",
       "12538 (1998 OH) 2024-Mar-03 00:00   2460372.5   15.92    0.15              *          0.3395  9.12952 ...         0.02         0.08          7.1e-05  189.1374    0.29076719    10.3231  8.8892  9.9765\n",
       "12538 (1998 OH) 2024-Mar-04 00:00   2460373.5   15.92    0.15              *         0.79863   9.2428 ...         0.02         0.08          7.1e-05  189.3797   0.325855586    10.1028  9.2376  9.8903\n",
       "12538 (1998 OH) 2024-Mar-05 00:00   2460374.5   15.92    0.15              *         1.25824  9.35655 ...         0.02         0.08          7.1e-05  189.6223    0.36091153     9.8823  9.5862  9.8043\n",
       "12538 (1998 OH) 2024-Mar-06 00:00   2460375.5   15.92    0.15              *     m   1.71834  9.47076 ...         0.02         0.08          7.2e-05  189.8651   0.395934565     9.6616  9.9351  9.7184\n",
       "12538 (1998 OH) 2024-Mar-07 00:00   2460376.5   15.92    0.15              *     m   2.17893   9.5854 ...         0.02         0.07          7.2e-05  190.1081   0.430924295     9.4407 10.2842  9.6326\n",
       "12538 (1998 OH) 2024-Mar-08 00:00   2460377.5   15.92    0.15              *     m   2.64003  9.70045 ...         0.02         0.07          7.2e-05  190.3513   0.465880393     9.2197 10.6336  9.5469\n",
       "12538 (1998 OH) 2024-Mar-09 00:00   2460378.5   15.92    0.15              *     m   3.10163  9.81588 ...         0.02         0.07          7.2e-05  190.5948   0.500802617     8.9986 10.9832  9.4613\n",
       "12538 (1998 OH) 2024-Mar-10 00:00   2460379.5   15.92    0.15              *     m   3.56374  9.93168 ...         0.02         0.07          7.2e-05  190.8386   0.535690819     8.7775  11.333  9.3757"
      ]
     },
     "execution_count": 10,
     "metadata": {},
     "output_type": "execute_result"
    }
   ],
   "source": [
    "eph"
   ]
  },
  {
   "cell_type": "code",
   "execution_count": 11,
   "id": "3e5617ef",
   "metadata": {},
   "outputs": [],
   "source": [
    "df_eph = eph.to_pandas()"
   ]
  },
  {
   "cell_type": "code",
   "execution_count": 12,
   "id": "dbbd7120",
   "metadata": {},
   "outputs": [
    {
     "data": {
      "text/plain": [
       "['targetname',\n",
       " 'datetime_str',\n",
       " 'datetime_jd',\n",
       " 'H',\n",
       " 'G',\n",
       " 'solar_presence',\n",
       " 'flags',\n",
       " 'RA',\n",
       " 'DEC',\n",
       " 'RA_app',\n",
       " 'DEC_app',\n",
       " 'RA_rate',\n",
       " 'DEC_rate',\n",
       " 'AZ',\n",
       " 'EL',\n",
       " 'AZ_rate',\n",
       " 'EL_rate',\n",
       " 'sat_X',\n",
       " 'sat_Y',\n",
       " 'sat_PANG',\n",
       " 'siderealtime',\n",
       " 'airmass',\n",
       " 'magextinct',\n",
       " 'V',\n",
       " 'surfbright',\n",
       " 'illumination',\n",
       " 'illum_defect',\n",
       " 'sat_sep',\n",
       " 'sat_vis',\n",
       " 'ang_width',\n",
       " 'PDObsLon',\n",
       " 'PDObsLat',\n",
       " 'PDSunLon',\n",
       " 'PDSunLat',\n",
       " 'SubSol_ang',\n",
       " 'SubSol_dist',\n",
       " 'NPole_ang',\n",
       " 'NPole_dist',\n",
       " 'EclLon',\n",
       " 'EclLat',\n",
       " 'r',\n",
       " 'r_rate',\n",
       " 'delta',\n",
       " 'delta_rate',\n",
       " 'lighttime',\n",
       " 'vel_sun',\n",
       " 'vel_obs',\n",
       " 'elong',\n",
       " 'elongFlag',\n",
       " 'alpha',\n",
       " 'lunar_elong',\n",
       " 'lunar_illum',\n",
       " 'sat_alpha',\n",
       " 'sunTargetPA',\n",
       " 'velocityPA',\n",
       " 'OrbPlaneAng',\n",
       " 'constellation',\n",
       " 'TDB-UT',\n",
       " 'ObsEclLon',\n",
       " 'ObsEclLat',\n",
       " 'NPole_RA',\n",
       " 'NPole_DEC',\n",
       " 'GlxLon',\n",
       " 'GlxLat',\n",
       " 'solartime',\n",
       " 'earth_lighttime',\n",
       " 'RA_3sigma',\n",
       " 'DEC_3sigma',\n",
       " 'SMAA_3sigma',\n",
       " 'SMIA_3sigma',\n",
       " 'Theta_3sigma',\n",
       " 'Area_3sigma',\n",
       " 'RSS_3sigma',\n",
       " 'r_3sigma',\n",
       " 'r_rate_3sigma',\n",
       " 'SBand_3sigma',\n",
       " 'XBand_3sigma',\n",
       " 'DoppDelay_3sigma',\n",
       " 'true_anom',\n",
       " 'hour_angle',\n",
       " 'alpha_true',\n",
       " 'PABLon',\n",
       " 'PABLat']"
      ]
     },
     "execution_count": 12,
     "metadata": {},
     "output_type": "execute_result"
    }
   ],
   "source": [
    "list(df_eph)"
   ]
  },
  {
   "cell_type": "code",
   "execution_count": 13,
   "id": "b7795684",
   "metadata": {},
   "outputs": [],
   "source": [
    "df_eph[\"mjd\"] = df_eph[\"datetime_jd\"] - mjd_jd"
   ]
  },
  {
   "cell_type": "code",
   "execution_count": 14,
   "id": "353d27e7",
   "metadata": {},
   "outputs": [
    {
     "data": {
      "text/plain": [
       "<matplotlib.collections.PathCollection at 0x131a279d0>"
      ]
     },
     "execution_count": 14,
     "metadata": {},
     "output_type": "execute_result"
    },
    {
     "data": {
      "image/png": "[encoded data removed]",
      "text/plain": [
       "<Figure size 432x288 with 1 Axes>"
      ]
     },
     "metadata": {
      "needs_background": "light"
     },
     "output_type": "display_data"
    }
   ],
   "source": [
    "plt.scatter(df_eph[\"mjd\"],df_eph[\"elong\"])"
   ]
  },
  {
   "cell_type": "code",
   "execution_count": 15,
   "id": "857ec1b8",
   "metadata": {},
   "outputs": [],
   "source": [
    "# test JPL leading/trailing"
   ]
  },
  {
   "cell_type": "code",
   "execution_count": 16,
   "id": "25cbe3eb",
   "metadata": {},
   "outputs": [
    {
     "data": {
      "text/plain": [
       "/T    1978\n",
       "/L    1464\n",
       "Name: elongFlag, dtype: int64"
      ]
     },
     "execution_count": 16,
     "metadata": {},
     "output_type": "execute_result"
    }
   ],
   "source": [
    "df_eph[\"elongFlag\"].value_counts()"
   ]
  },
  {
   "cell_type": "code",
   "execution_count": 17,
   "id": "5aee318f",
   "metadata": {},
   "outputs": [
    {
     "data": {
      "text/plain": [
       "0       <NA>\n",
       "1       <NA>\n",
       "2       <NA>\n",
       "3       <NA>\n",
       "4       <NA>\n",
       "        ... \n",
       "3437    <NA>\n",
       "3438    <NA>\n",
       "3439    <NA>\n",
       "3440    <NA>\n",
       "3441    <NA>\n",
       "Name: NPole_ang, Length: 3442, dtype: Int64"
      ]
     },
     "execution_count": 17,
     "metadata": {},
     "output_type": "execute_result"
    }
   ],
   "source": [
    "df_eph[\"NPole_ang\"]"
   ]
  },
  {
   "cell_type": "code",
   "execution_count": 26,
   "id": "4a59243a",
   "metadata": {
    "scrolled": true
   },
   "outputs": [
    {
     "data": {
      "image/png": "[encoded data removed]",
      "text/plain": [
       "<Figure size 432x288 with 2 Axes>"
      ]
     },
     "metadata": {
      "needs_background": "light"
     },
     "output_type": "display_data"
    }
   ],
   "source": [
    "x_plot = \"mjd\"\n",
    "y_plot = \"elong\"\n",
    "df_plot1 = df_eph[df_eph[\"elongFlag\"]==\"/L\"]\n",
    "df_plot2 = df_eph[df_eph[\"elongFlag\"]==\"/T\"]\n",
    "\n",
    "# y_plot2 = \"alpha_true\"\n",
    "# y_plot2 = \"NPole_ang\"\n",
    "y_plot2 = \"V\"\n",
    "\n",
    "fig = plt.figure()\n",
    "gs = gridspec.GridSpec(1,1)\n",
    "ax1 = plt.subplot(gs[0,0])\n",
    "ax2 = ax1.twinx()\n",
    "\n",
    "ax1.scatter(df_plot1[x_plot],df_plot1[y_plot])\n",
    "ax1.scatter(df_plot2[x_plot],df_plot2[y_plot])\n",
    "\n",
    "ax2.scatter(df_plot1[x_plot],df_plot1[y_plot2],c = \"C2\", s=1)\n",
    "ax2.scatter(df_plot2[x_plot],df_plot2[y_plot2],c = \"C3\", s=1)\n",
    "\n",
    "\n",
    "ax1.set_xlabel(x_plot)\n",
    "ax1.set_ylabel(y_plot)\n",
    "ax2.set_ylabel(y_plot2)\n",
    "\n",
    "plt.show()"
   ]
  },
  {
   "cell_type": "code",
   "execution_count": 19,
   "id": "b4ad0995",
   "metadata": {},
   "outputs": [
    {
     "data": {
      "text/html": [
       "<div>\n",
       "<style scoped>\n",
       "    .dataframe tbody tr th:only-of-type {\n",
       "        vertical-align: middle;\n",
       "    }\n",
       "\n",
       "    .dataframe tbody tr th {\n",
       "        vertical-align: top;\n",
       "    }\n",
       "\n",
       "    .dataframe thead th {\n",
       "        text-align: right;\n",
       "    }\n",
       "</style>\n",
       "<table border=\"1\" class=\"dataframe\">\n",
       "  <thead>\n",
       "    <tr style=\"text-align: right;\">\n",
       "      <th></th>\n",
       "      <th>targetname</th>\n",
       "      <th>datetime_jd</th>\n",
       "      <th>datetime_str</th>\n",
       "      <th>H</th>\n",
       "      <th>G</th>\n",
       "      <th>e</th>\n",
       "      <th>q</th>\n",
       "      <th>incl</th>\n",
       "      <th>Omega</th>\n",
       "      <th>w</th>\n",
       "      <th>Tp_jd</th>\n",
       "      <th>n</th>\n",
       "      <th>M</th>\n",
       "      <th>nu</th>\n",
       "      <th>a</th>\n",
       "      <th>Q</th>\n",
       "      <th>P</th>\n",
       "    </tr>\n",
       "  </thead>\n",
       "  <tbody>\n",
       "    <tr>\n",
       "      <th>0</th>\n",
       "      <td>12538 (1998 OH)</td>\n",
       "      <td>2.459720e+06</td>\n",
       "      <td>A.D. 2022-May-20 16:05:13.4447</td>\n",
       "      <td>15.92</td>\n",
       "      <td>0.15</td>\n",
       "      <td>0.406142</td>\n",
       "      <td>0.915511</td>\n",
       "      <td>24.5354</td>\n",
       "      <td>220.696989</td>\n",
       "      <td>321.78026</td>\n",
       "      <td>2.459985e+06</td>\n",
       "      <td>0.514911</td>\n",
       "      <td>223.714405</td>\n",
       "      <td>200.800163</td>\n",
       "      <td>1.541633</td>\n",
       "      <td>2.167755</td>\n",
       "      <td>699.149287</td>\n",
       "    </tr>\n",
       "  </tbody>\n",
       "</table>\n",
       "</div>"
      ],
      "text/plain": [
       "        targetname   datetime_jd                    datetime_str      H     G  \\\n",
       "0  12538 (1998 OH)  2.459720e+06  A.D. 2022-May-20 16:05:13.4447  15.92  0.15   \n",
       "\n",
       "          e         q     incl       Omega          w         Tp_jd         n  \\\n",
       "0  0.406142  0.915511  24.5354  220.696989  321.78026  2.459985e+06  0.514911   \n",
       "\n",
       "            M          nu         a         Q           P  \n",
       "0  223.714405  200.800163  1.541633  2.167755  699.149287  "
      ]
     },
     "execution_count": 19,
     "metadata": {},
     "output_type": "execute_result"
    }
   ],
   "source": [
    "obj = Horizons(id=obj_id)\n",
    "el = obj.elements()\n",
    "df_el = el.to_pandas()\n",
    "df_el"
   ]
  },
  {
   "cell_type": "code",
   "execution_count": 20,
   "id": "878ca94a",
   "metadata": {},
   "outputs": [
    {
     "data": {
      "text/plain": [
       "{'number': 12538, 'desig': '1998 OH'}"
      ]
     },
     "execution_count": 20,
     "metadata": {},
     "output_type": "execute_result"
    }
   ],
   "source": [
    "name_parse = Names.parse_asteroid(df_el.iloc[0][\"targetname\"])\n",
    "name_parse"
   ]
  },
  {
   "cell_type": "code",
   "execution_count": 21,
   "id": "c6f9e423",
   "metadata": {},
   "outputs": [],
   "source": [
    "try:\n",
    "    name = name_parse[\"name\"]\n",
    "except:\n",
    "    name = False\n",
    "    \n",
    "try:\n",
    "    number = name_parse[\"number\"]\n",
    "except:\n",
    "    number = False"
   ]
  },
  {
   "cell_type": "code",
   "execution_count": 22,
   "id": "dae2368c",
   "metadata": {},
   "outputs": [
    {
     "data": {
      "text/html": [
       "<div>\n",
       "<style scoped>\n",
       "    .dataframe tbody tr th:only-of-type {\n",
       "        vertical-align: middle;\n",
       "    }\n",
       "\n",
       "    .dataframe tbody tr th {\n",
       "        vertical-align: top;\n",
       "    }\n",
       "\n",
       "    .dataframe thead th {\n",
       "        text-align: right;\n",
       "    }\n",
       "</style>\n",
       "<table border=\"1\" class=\"dataframe\">\n",
       "  <thead>\n",
       "    <tr style=\"text-align: right;\">\n",
       "      <th></th>\n",
       "      <th>mjd</th>\n",
       "      <th>sun_obs_target_angle</th>\n",
       "      <th>reduced_mag</th>\n",
       "      <th>merr</th>\n",
       "    </tr>\n",
       "  </thead>\n",
       "  <tbody>\n",
       "    <tr>\n",
       "      <th>0</th>\n",
       "      <td>56938.0</td>\n",
       "      <td>151.4406</td>\n",
       "      <td>999</td>\n",
       "      <td>999</td>\n",
       "    </tr>\n",
       "    <tr>\n",
       "      <th>1</th>\n",
       "      <td>56939.0</td>\n",
       "      <td>152.7215</td>\n",
       "      <td>999</td>\n",
       "      <td>999</td>\n",
       "    </tr>\n",
       "    <tr>\n",
       "      <th>2</th>\n",
       "      <td>56940.0</td>\n",
       "      <td>154.0102</td>\n",
       "      <td>999</td>\n",
       "      <td>999</td>\n",
       "    </tr>\n",
       "    <tr>\n",
       "      <th>3</th>\n",
       "      <td>56941.0</td>\n",
       "      <td>155.3057</td>\n",
       "      <td>999</td>\n",
       "      <td>999</td>\n",
       "    </tr>\n",
       "    <tr>\n",
       "      <th>4</th>\n",
       "      <td>56942.0</td>\n",
       "      <td>156.6068</td>\n",
       "      <td>999</td>\n",
       "      <td>999</td>\n",
       "    </tr>\n",
       "    <tr>\n",
       "      <th>...</th>\n",
       "      <td>...</td>\n",
       "      <td>...</td>\n",
       "      <td>...</td>\n",
       "      <td>...</td>\n",
       "    </tr>\n",
       "    <tr>\n",
       "      <th>3437</th>\n",
       "      <td>60375.0</td>\n",
       "      <td>21.2909</td>\n",
       "      <td>999</td>\n",
       "      <td>999</td>\n",
       "    </tr>\n",
       "    <tr>\n",
       "      <th>3438</th>\n",
       "      <td>60376.0</td>\n",
       "      <td>20.7695</td>\n",
       "      <td>999</td>\n",
       "      <td>999</td>\n",
       "    </tr>\n",
       "    <tr>\n",
       "      <th>3439</th>\n",
       "      <td>60377.0</td>\n",
       "      <td>20.2498</td>\n",
       "      <td>999</td>\n",
       "      <td>999</td>\n",
       "    </tr>\n",
       "    <tr>\n",
       "      <th>3440</th>\n",
       "      <td>60378.0</td>\n",
       "      <td>19.7318</td>\n",
       "      <td>999</td>\n",
       "      <td>999</td>\n",
       "    </tr>\n",
       "    <tr>\n",
       "      <th>3441</th>\n",
       "      <td>60379.0</td>\n",
       "      <td>19.2157</td>\n",
       "      <td>999</td>\n",
       "      <td>999</td>\n",
       "    </tr>\n",
       "  </tbody>\n",
       "</table>\n",
       "<p>3442 rows × 4 columns</p>\n",
       "</div>"
      ],
      "text/plain": [
       "          mjd  sun_obs_target_angle  reduced_mag  merr\n",
       "0     56938.0              151.4406          999   999\n",
       "1     56939.0              152.7215          999   999\n",
       "2     56940.0              154.0102          999   999\n",
       "3     56941.0              155.3057          999   999\n",
       "4     56942.0              156.6068          999   999\n",
       "...       ...                   ...          ...   ...\n",
       "3437  60375.0               21.2909          999   999\n",
       "3438  60376.0               20.7695          999   999\n",
       "3439  60377.0               20.2498          999   999\n",
       "3440  60378.0               19.7318          999   999\n",
       "3441  60379.0               19.2157          999   999\n",
       "\n",
       "[3442 rows x 4 columns]"
      ]
     },
     "execution_count": 22,
     "metadata": {},
     "output_type": "execute_result"
    }
   ],
   "source": [
    "df_data = df_eph[[\"mjd\",\"elong\"]].copy().rename(columns = {\"elong\":\"sun_obs_target_angle\"})\n",
    "df_data[\"reduced_mag\"] = 999\n",
    "df_data[\"merr\"] = 999\n",
    "df_data"
   ]
  },
  {
   "cell_type": "code",
   "execution_count": 23,
   "id": "39614d41",
   "metadata": {},
   "outputs": [
    {
     "name": "stdout",
     "output_type": "stream",
     "text": [
      "use passed df_data\n",
      "999.0\n",
      "999.0\n",
      "query Horizons\n",
      "[56938. 57155. 57456. 57869. 58198. 58590. 58933. 59290. 59675. 59990.\n",
      " 60379.]\n",
      "10\n"
     ]
    }
   ],
   "source": [
    "# Find the solar apparitions from elongation\n",
    "# USE ALL DATA IN BOTH FILTERS?\n",
    "orbital_period_yrs = df_el.iloc[0][\"a\"]**1.5\n",
    "sol = sa.solar_apparitions(mpc_number = number, name = name, df_data = df_data)\n",
    "# epochs = sol.solar_elongation(-1.0,period = orbital_period_yrs)\n",
    "epochs = sol.solar_elongation_JPL(JPL_step=\"7d\")\n",
    "\n",
    "print(epochs)\n",
    "N_app = len(epochs)-1 # number of apparitions detected in both filters\n",
    "print(N_app)"
   ]
  },
  {
   "cell_type": "code",
   "execution_count": 24,
   "id": "bf6731ee",
   "metadata": {},
   "outputs": [
    {
     "data": {
      "image/png": "[encoded data removed]",
      "text/plain": [
       "<Figure size 432x288 with 1 Axes>"
      ]
     },
     "metadata": {
      "needs_background": "light"
     },
     "output_type": "display_data"
    }
   ],
   "source": [
    "sol.plot_solar_elongation(epochs)"
   ]
  },
  {
   "cell_type": "code",
   "execution_count": 32,
   "id": "980f9377",
   "metadata": {},
   "outputs": [
    {
     "data": {
      "image/png": "[encoded data removed]",
      "text/plain": [
       "<Figure size 432x288 with 1 Axes>"
      ]
     },
     "metadata": {
      "needs_background": "light"
     },
     "output_type": "display_data"
    }
   ],
   "source": [
    "x_plot = \"mjd\"\n",
    "y_plot = \"elong\"\n",
    "df_plot1 = df_eph[df_eph[\"elongFlag\"]==\"/L\"]\n",
    "df_plot2 = df_eph[df_eph[\"elongFlag\"]==\"/T\"]\n",
    "\n",
    "\n",
    "fig = plt.figure()\n",
    "gs = gridspec.GridSpec(1,1)\n",
    "ax1 = plt.subplot(gs[0,0])\n",
    "\n",
    "\n",
    "ax1.scatter(df_plot1[x_plot],df_plot1[y_plot])\n",
    "ax1.scatter(df_plot2[x_plot],df_plot2[y_plot])\n",
    "\n",
    "for x in epochs:\n",
    "    ax1.axvline(x,c=\"k\")\n",
    "    \n",
    "ax1.set_xlabel(x_plot)\n",
    "ax1.set_ylabel(y_plot)\n",
    "ax2.set_ylabel(y_plot2)\n",
    "\n",
    "plt.show()"
   ]
  },
  {
   "cell_type": "code",
   "execution_count": null,
   "id": "0e0ce768",
   "metadata": {},
   "outputs": [],
   "source": []
  }
 ],
 "metadata": {
  "kernelspec": {
   "display_name": "Python 3 (ipykernel)",
   "language": "python",
   "name": "python3"
  },
  "language_info": {
   "codemirror_mode": {
    "name": "ipython",
    "version": 3
   },
   "file_extension": ".py",
   "mimetype": "text/x-python",
   "name": "python",
   "nbconvert_exporter": "python",
   "pygments_lexer": "ipython3",
   "version": "3.9.10"
  }
 },
 "nbformat": 4,
 "nbformat_minor": 5
}
