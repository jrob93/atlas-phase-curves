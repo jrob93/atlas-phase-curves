{
 "cells": [
  {
   "cell_type": "markdown",
   "metadata": {},
   "source": [
    "# Defining Column Names for atlas_objects\n",
    "\n",
    "Here we define and document the columns used in the atlas_objects table.\n",
    "Currently the columns created by the rockAtlas code (https://github.com/thespacedoctor/rockAtlas) describe the detections of an asteroid in the ATLAS o and c filters (Tonry et al. 2018) and the phase curve fit using the two parameter HG system (Bowell et al. 1989).\n",
    "\n",
    "We now add columns for fits using other phase curve models, and to record the metrics associated with each fit.\n",
    "The parameters (and fitting metrics) for each model, for each filter, must be recorded in the atlas_objects table as unique columns.\n",
    "We use the format:\n",
    "\n",
    "phase_curve_{1}_{2}_{3}\n",
    "\n",
    "Where the terms to be inserted into the string are defined as follows:"
   ]
  },
  {
   "cell_type": "markdown",
   "metadata": {},
   "source": [
    "1. Model Parameter or Fit Metric\n",
    "2. Model Shorthand\n",
    "3. Filter: o or c"
   ]
  },
  {
   "cell_type": "markdown",
   "metadata": {},
   "source": [
    "## Model Names and Parameters\n",
    "\n",
    "We use the phase curve models that are supplied with the sbpy package (https://sbpy.readthedocs.io/en/latest/sbpy/photometry.html).\n",
    "These models use some sort of absolute magnitude ('H') and slope ('G') parameter(s) to describe the phase curve.\n",
    "Each of these parameters will have an associated uncertainty/error from the fit.\n",
    "We use a unique shorthand to distinguish each model, which references the exact paper where the model is defined.\n",
    "\n",
    "|Name | Parameters | Shorthand | Source|\n",
    "|---|:---|---|:---|\n",
    "|HG | H, H_err, G, G_err | B89 (or blank*) | Bowell et al. 1989|\n",
    "|HG1G2 | H, H_err, G1, G1_err, G2, G2_err | 3M10 | 3 parameter Muinonen et al. 2010|\n",
    "|HG12 | H, H_err, G12, G12_err| 2M10 | 2 parameter Muinonen et al. 2010|\n",
    "|HG12_Pen16 | H, H_err, G12, G12_err | P16 | Pentilla et al. 2016|\n",
    "\n",
    "*to be consistent with the exisiting columns in the atlas_objects table the HG system can go without a shorthand marker (it is the default phase curve model).\n"
   ]
  },
  {
   "cell_type": "markdown",
   "metadata": {},
   "source": [
    "N.B. should we add the linear phase function?"
   ]
  },
  {
   "cell_type": "markdown",
   "metadata": {},
   "source": [
    "## Fit Metrics\n",
    "\n",
    "|Name | Description |\n",
    "|---|:---|\n",
    "|N_fit | number of data points used for the fit|\n",
    "|N_nights | the number of individual nights of observation used for the fit (number of unique integer MJDs for the fit data points)|\n",
    "|N_iter | the number of iterations required to cut outlying data points (CHOOSE FROM 1 mag, 2 sigma, 3 sigma clipping) |until the change in H,G parameters is <0.01|\n",
    "|alpha_min | the smallest phase angle used in the fit (degrees)|\n",
    "|alpha_max | the largest phase angle used in the fit (degrees)|\n",
    "|N_alpha_low | the number of data points used in the fit with phase angle < 5 degrees|\n",
    "|nfev | number of scipy.optimize.leastsq function evaluations |\n",
    "|ierr | scipy.optimize.leastsq integer flag (1,2,3,4 -> solution found) | \n",
    "|N_mag_err | Number of data points used in the fit with magnitude error less than threshold (0.1 mag) |\n",
    "|OC_mean | Mean value of the observed - calculated residuals of the data points that were fit (mag)|\n",
    "|OC_std | Standard deviation of the residuals (mag)|\n",
    "|OC_range | Range of the residuals (mag)|\n",
    "|N_cut | Number of data points cut during fit |\n",
    "\n",
    "N.B. the column names currently do not indicate the type of data clipping used in the fitting process.\n",
    "We must either pick one before and use it exclusively or add it as another descriptor in the column name (will greatly increase number of columns!)"
   ]
  },
  {
   "cell_type": "markdown",
   "metadata": {},
   "source": [
    "The following columns record information on individual apparitions.\n",
    "\n",
    "|Name | Description |\n",
    "|---|:---|\n",
    "|N_apparitions|Number of apparitions found on all data, using either the change in solar elongation or a JPL query |\n",
    "|phase_curve_med_H_app_o | HG model is fitted to the o filter data of each apparition. This parameter is the median of wach fitted H|\n",
    "|phase_curve_med_std_app_o | The std of each apparition about the fitted HG is recorded, this parameter is the median std|\n",
    "|phase_angle_app_range_o | The phase angle range of each apparition is recorded, this parameter is the maximum difference in phase angle range between apparitions|\n"
   ]
  },
  {
   "cell_type": "markdown",
   "metadata": {},
   "source": [
    "To make changes: run this notebook to update atlas_objects_fields.txt.\n",
    "    \n",
    "Then run create_sql_atlas_objects_phase.py to create the sql query, then connect_create_atlas_objects_phase.py to run that query on the remote database.\n",
    "\n",
    "Finally dtypes_atlas_phase_fits.txt needs manually updated to use when loading the atlas_phase_fits table using tools/database_tools.py"
   ]
  },
  {
   "cell_type": "code",
   "execution_count": 1,
   "metadata": {},
   "outputs": [],
   "source": [
    "import numpy as np"
   ]
  },
  {
   "cell_type": "code",
   "execution_count": 2,
   "metadata": {},
   "outputs": [],
   "source": [
    "# These are the existing columns in the atlas_objects table (HG fit only)\n",
    "current_columns=[\"dateLastModified\", \"detection_count\", \"detection_count_c\",\n",
    "\"detection_count_o\", \"last_detection_mjd\", \"last_photometry_update_date_c\",\n",
    "\"last_photometry_update_date_o\", \"mpc_number\", \"name\", \"orbital_elements_id\",\n",
    "\"phase_angle_range_c\", \"phase_angle_range_o\", \"phase_curve_G_c\",\n",
    "\"phase_curve_G_err_c\", \"phase_curve_G_err_o\", \"phase_curve_G_o\",\n",
    "\"phase_curve_H_c\", \"phase_curve_H_err_c\", \"phase_curve_H_err_o\",\n",
    "\"phase_curve_H_o\", \"phase_curve_refresh_date_c\", \"phase_curve_refresh_date_o\",\n",
    "\"primaryId\", \"updated\"]\n",
    "# for c in current_columns:\n",
    "#     print(c)"
   ]
  },
  {
   "cell_type": "code",
   "execution_count": 3,
   "metadata": {},
   "outputs": [],
   "source": [
    "filters = [\"o\",\"c\"]\n",
    "model_names = [\"HG\", \"HG1G2\", \"HG12\", \"HG12_Pen16\"]\n",
    "model_short = [\"_B89\",\"_3M10\",\"_2M10\",\"_P16\"] # use shorthand for all models \n",
    "#model_short = [\"\",\"_3M10\",\"_2M10\",\"_P16\"] # do not use shorthand for HG to be consistent with exisiting column names\n",
    "phase_curve = [[\"H\",\"G\"],[\"H\",\"G1\",\"G2\"],[\"H\",\"G12\"],[\"H\",\"G12\"]]\n",
    "phase_curve_err = [[\"H_err\",\"G_err\"],[\"H_err\",\"G1_err\",\"G2_err\"],[\"H_err\",\"G12_err\"],[\"H_err\",\"G12_err\"]]\n",
    "fit_metrics = [\"OC_mean\",\"OC_std\",\"OC_range\",\"skew\",\"kurtosis\",\"KS_D\",\"KS_p\"]\n",
    "app_metrics = [\"N_fit\",\"alpha_min\",\"N_alpha_low\",\"N_mag_err\",\"N_data_app\"]\n",
    "apparition_columns = [\"N_apparitions\",\"app_ind\",\"app_start_mjd\",\"fit_slope\"]"
   ]
  },
  {
   "cell_type": "code",
   "execution_count": 4,
   "metadata": {},
   "outputs": [
    {
     "name": "stdout",
     "output_type": "stream",
     "text": [
      "['dateLastModified' 'detection_count' 'detection_count_c'\n",
      " 'detection_count_o' 'last_detection_mjd' 'last_photometry_update_date_c'\n",
      " 'last_photometry_update_date_o' 'mpc_number' 'name' 'orbital_elements_id'\n",
      " 'phase_angle_range_c' 'phase_angle_range_o' 'phase_curve_G_c'\n",
      " 'phase_curve_G_err_c' 'phase_curve_G_err_o' 'phase_curve_G_o'\n",
      " 'phase_curve_H_c' 'phase_curve_H_err_c' 'phase_curve_H_err_o'\n",
      " 'phase_curve_H_o' 'phase_curve_refresh_date_c'\n",
      " 'phase_curve_refresh_date_o' 'primaryId' 'updated']\n",
      "['dateLastModified' 'detection_count' 'detection_count_c'\n",
      " 'detection_count_o' 'last_detection_mjd' 'last_photometry_update_date_c'\n",
      " 'last_photometry_update_date_o' 'mpc_number' 'name' 'orbital_elements_id'\n",
      " 'phase_angle_range_c' 'phase_angle_range_o' 'phase_curve_refresh_date_c'\n",
      " 'phase_curve_refresh_date_o' 'primaryId' 'updated']\n"
     ]
    }
   ],
   "source": [
    "# drop these HG columns as we are updating them with a \"B89\" tag\n",
    "drop_cols=[\"phase_curve_G_c\",\n",
    "\"phase_curve_G_err_c\", \"phase_curve_G_err_o\", \"phase_curve_G_o\",\n",
    "\"phase_curve_H_c\", \"phase_curve_H_err_c\", \"phase_curve_H_err_o\",\n",
    "\"phase_curve_H_o\"]\n",
    "current_columns=np.array(current_columns)\n",
    "print(current_columns)\n",
    "current_columns=current_columns[~np.isin(current_columns,drop_cols)]\n",
    "print(current_columns)"
   ]
  },
  {
   "cell_type": "code",
   "execution_count": 5,
   "metadata": {},
   "outputs": [],
   "source": [
    "new_columns=[]\n",
    "for i,mod in enumerate(model_short):\n",
    "    for fil in filters:\n",
    "        for hg in phase_curve[i]:\n",
    "            column=\"phase_curve_{}{}_{}\".format(hg,mod,fil)\n",
    "            new_columns.append(column)\n",
    "        for hg_err in phase_curve_err[i]:\n",
    "            column=\"phase_curve_{}{}_{}\".format(hg_err,mod,fil)\n",
    "            new_columns.append(column)\n",
    "        for met in fit_metrics:\n",
    "            column=\"phase_curve_{}{}_{}\".format(met,mod,fil)\n",
    "            new_columns.append(column)\n",
    "        for met in app_metrics:\n",
    "            column=\"phase_curve_{}_{}\".format(met,fil)\n",
    "            new_columns.append(column)"
   ]
  },
  {
   "cell_type": "code",
   "execution_count": 6,
   "metadata": {},
   "outputs": [
    {
     "name": "stdout",
     "output_type": "stream",
     "text": [
      "dateLastModified\n",
      "detection_count\n",
      "detection_count_c\n",
      "detection_count_o\n",
      "last_detection_mjd\n",
      "last_photometry_update_date_c\n",
      "last_photometry_update_date_o\n",
      "mpc_number\n",
      "name\n",
      "orbital_elements_id\n",
      "phase_angle_range_c\n",
      "phase_angle_range_o\n",
      "phase_curve_G12_2M10_c\n",
      "phase_curve_G12_2M10_o\n",
      "phase_curve_G12_P16_c\n",
      "phase_curve_G12_P16_o\n",
      "phase_curve_G12_err_2M10_c\n",
      "phase_curve_G12_err_2M10_o\n",
      "phase_curve_G12_err_P16_c\n",
      "phase_curve_G12_err_P16_o\n",
      "phase_curve_G1_3M10_c\n",
      "phase_curve_G1_3M10_o\n",
      "phase_curve_G1_err_3M10_c\n",
      "phase_curve_G1_err_3M10_o\n",
      "phase_curve_G2_3M10_c\n",
      "phase_curve_G2_3M10_o\n",
      "phase_curve_G2_err_3M10_c\n",
      "phase_curve_G2_err_3M10_o\n",
      "phase_curve_G_B89_c\n",
      "phase_curve_G_B89_o\n",
      "phase_curve_G_err_B89_c\n",
      "phase_curve_G_err_B89_o\n",
      "phase_curve_H_2M10_c\n",
      "phase_curve_H_2M10_o\n",
      "phase_curve_H_3M10_c\n",
      "phase_curve_H_3M10_o\n",
      "phase_curve_H_B89_c\n",
      "phase_curve_H_B89_o\n",
      "phase_curve_H_P16_c\n",
      "phase_curve_H_P16_o\n",
      "phase_curve_H_err_2M10_c\n",
      "phase_curve_H_err_2M10_o\n",
      "phase_curve_H_err_3M10_c\n",
      "phase_curve_H_err_3M10_o\n",
      "phase_curve_H_err_B89_c\n",
      "phase_curve_H_err_B89_o\n",
      "phase_curve_H_err_P16_c\n",
      "phase_curve_H_err_P16_o\n",
      "phase_curve_KS_D_2M10_c\n",
      "phase_curve_KS_D_2M10_o\n",
      "phase_curve_KS_D_3M10_c\n",
      "phase_curve_KS_D_3M10_o\n",
      "phase_curve_KS_D_B89_c\n",
      "phase_curve_KS_D_B89_o\n",
      "phase_curve_KS_D_P16_c\n",
      "phase_curve_KS_D_P16_o\n",
      "phase_curve_KS_p_2M10_c\n",
      "phase_curve_KS_p_2M10_o\n",
      "phase_curve_KS_p_3M10_c\n",
      "phase_curve_KS_p_3M10_o\n",
      "phase_curve_KS_p_B89_c\n",
      "phase_curve_KS_p_B89_o\n",
      "phase_curve_KS_p_P16_c\n",
      "phase_curve_KS_p_P16_o\n",
      "phase_curve_N_alpha_low_c\n",
      "phase_curve_N_alpha_low_o\n",
      "phase_curve_N_data_app_c\n",
      "phase_curve_N_data_app_o\n",
      "phase_curve_N_fit_c\n",
      "phase_curve_N_fit_o\n",
      "phase_curve_N_mag_err_c\n",
      "phase_curve_N_mag_err_o\n",
      "phase_curve_OC_mean_2M10_c\n",
      "phase_curve_OC_mean_2M10_o\n",
      "phase_curve_OC_mean_3M10_c\n",
      "phase_curve_OC_mean_3M10_o\n",
      "phase_curve_OC_mean_B89_c\n",
      "phase_curve_OC_mean_B89_o\n",
      "phase_curve_OC_mean_P16_c\n",
      "phase_curve_OC_mean_P16_o\n",
      "phase_curve_OC_range_2M10_c\n",
      "phase_curve_OC_range_2M10_o\n",
      "phase_curve_OC_range_3M10_c\n",
      "phase_curve_OC_range_3M10_o\n",
      "phase_curve_OC_range_B89_c\n",
      "phase_curve_OC_range_B89_o\n",
      "phase_curve_OC_range_P16_c\n",
      "phase_curve_OC_range_P16_o\n",
      "phase_curve_OC_std_2M10_c\n",
      "phase_curve_OC_std_2M10_o\n",
      "phase_curve_OC_std_3M10_c\n",
      "phase_curve_OC_std_3M10_o\n",
      "phase_curve_OC_std_B89_c\n",
      "phase_curve_OC_std_B89_o\n",
      "phase_curve_OC_std_P16_c\n",
      "phase_curve_OC_std_P16_o\n",
      "phase_curve_alpha_min_c\n",
      "phase_curve_alpha_min_o\n",
      "phase_curve_kurtosis_2M10_c\n",
      "phase_curve_kurtosis_2M10_o\n",
      "phase_curve_kurtosis_3M10_c\n",
      "phase_curve_kurtosis_3M10_o\n",
      "phase_curve_kurtosis_B89_c\n",
      "phase_curve_kurtosis_B89_o\n",
      "phase_curve_kurtosis_P16_c\n",
      "phase_curve_kurtosis_P16_o\n",
      "phase_curve_refresh_date_c\n",
      "phase_curve_refresh_date_o\n",
      "phase_curve_skew_2M10_c\n",
      "phase_curve_skew_2M10_o\n",
      "phase_curve_skew_3M10_c\n",
      "phase_curve_skew_3M10_o\n",
      "phase_curve_skew_B89_c\n",
      "phase_curve_skew_B89_o\n",
      "phase_curve_skew_P16_c\n",
      "phase_curve_skew_P16_o\n",
      "primaryId\n",
      "updated\n",
      "N_apparitions\n",
      "app_ind\n",
      "app_start_mjd\n",
      "fit_slope\n",
      "122\n"
     ]
    }
   ],
   "source": [
    "# print(len(current_columns),len(new_columns),len(current_columns)+len(new_columns))\n",
    "all_columns=np.unique(np.append(current_columns,new_columns))\n",
    "all_columns=np.append(all_columns,apparition_columns)\n",
    "# print(all_columns)\n",
    "for a in all_columns:\n",
    "    print(a)\n",
    "print(len(all_columns))"
   ]
  },
  {
   "cell_type": "code",
   "execution_count": 7,
   "metadata": {},
   "outputs": [],
   "source": [
    "with open(\"atlas_objects_app_fields.txt\", \"w\") as outfile:\n",
    "    outfile.write(\"\\n\".join(all_columns))"
   ]
  },
  {
   "cell_type": "code",
   "execution_count": null,
   "metadata": {},
   "outputs": [],
   "source": []
  }
 ],
 "metadata": {
  "kernelspec": {
   "display_name": "Python 3 (ipykernel)",
   "language": "python",
   "name": "python3"
  },
  "language_info": {
   "codemirror_mode": {
    "name": "ipython",
    "version": 3
   },
   "file_extension": ".py",
   "mimetype": "text/x-python",
   "name": "python",
   "nbconvert_exporter": "python",
   "pygments_lexer": "ipython3",
   "version": "3.9.13"
  }
 },
 "nbformat": 4,
 "nbformat_minor": 4
}
