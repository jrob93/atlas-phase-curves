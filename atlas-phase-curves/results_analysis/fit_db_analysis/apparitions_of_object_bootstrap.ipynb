{
 "cells": [
  {
   "cell_type": "code",
   "execution_count": 1,
   "id": "6bee3b4c",
   "metadata": {},
   "outputs": [],
   "source": [
    "%matplotlib notebook"
   ]
  },
  {
   "cell_type": "code",
   "execution_count": 2,
   "id": "49a1525f",
   "metadata": {},
   "outputs": [],
   "source": [
    "%matplotlib inline"
   ]
  },
  {
   "cell_type": "code",
   "execution_count": 3,
   "id": "proud-object",
   "metadata": {},
   "outputs": [],
   "source": [
    "import pandas as pd\n",
    "import numpy as np\n",
    "import matplotlib.pyplot as plt\n",
    "import matplotlib.gridspec as gridspec\n",
    "import os\n",
    "import sys\n",
    "from astropy.time import Time\n",
    "from astroquery.jplhorizons import Horizons\n",
    "from scipy import stats\n",
    "from astropy.modeling.fitting import LevMarLSQFitter\n",
    "import astropy.units as u\n",
    "from sbpy.photometry import HG, HG1G2, HG12, HG12_Pen16\n",
    "from scipy.optimize import curve_fit\n",
    "from sklearn.preprocessing import StandardScaler"
   ]
  },
  {
   "cell_type": "code",
   "execution_count": 4,
   "id": "ab3b0ca3",
   "metadata": {},
   "outputs": [],
   "source": [
    "sys.path.append(\"/Users/jrobinson/atlas-phase-curves/atlas-phase-curves\")\n",
    "from calculate_phase import atlas_SQL_query_df\n",
    "from calculate_phase import atlas_database_connection\n",
    "from calculate_phase import solar_apparitions as sa"
   ]
  },
  {
   "cell_type": "code",
   "execution_count": 5,
   "id": "according-teaching",
   "metadata": {},
   "outputs": [],
   "source": [
    "# sys.path.append(\"/home/astro/atlas-phase-curves/atlas-phase-curves/tools\")\n",
    "sys.path.append(\"/Users/jrobinson/atlas-phase-curves/atlas-phase-curves/tools\")\n",
    "import database_tools as dbt\n",
    "import importlib"
   ]
  },
  {
   "cell_type": "code",
   "execution_count": 6,
   "id": "answering-partition",
   "metadata": {},
   "outputs": [
    {
     "data": {
      "text/plain": [
       "<module 'calculate_phase.atlas_SQL_query_df' from '/Users/jrobinson/atlas-phase-curves/atlas-phase-curves/calculate_phase/atlas_SQL_query_df.py'>"
      ]
     },
     "execution_count": 6,
     "metadata": {},
     "output_type": "execute_result"
    }
   ],
   "source": [
    "importlib.reload(dbt)\n",
    "importlib.reload(atlas_SQL_query_df)"
   ]
  },
  {
   "cell_type": "code",
   "execution_count": 7,
   "id": "b94ccbc1",
   "metadata": {},
   "outputs": [],
   "source": [
    "# name = \"Osipovia\"\n",
    "# mpc_number = 4986\n",
    "\n",
    "# name = \"Fitzsimmons\"\n",
    "# name = \"Moguntia\"\n",
    "# name = \"1997 YU10\" # need a minimum number of data points per epoch\n",
    "# name = \"Aidamina\" # need a minimum phase angle requirement\n",
    "# name = \"Cerberus\" # large rotational variation\n",
    "# name = \"Patroclus\"\n",
    "name = \"Fanatica\"\n",
    "# name = \"Phereclos\" \n",
    "mpc_number = False"
   ]
  },
  {
   "cell_type": "code",
   "execution_count": 8,
   "id": "10f2fa5b",
   "metadata": {},
   "outputs": [],
   "source": [
    "# # data_file = \"/Users/jrobinson/atlas-phase-curves/atlas-phase-curves/results_analysis/obs/df_data_{}.csv\".format(mpc_number)\n",
    "# data_file = \"/Users/jrobinson/atlas-phase-curves/atlas-phase-curves/results_analysis/obs/df_data_{}.csv\".format(name)\n",
    "# df_data_filt = pd.read_csv(data_file,index_col = 0)\n",
    "# df_data_filt"
   ]
  },
  {
   "cell_type": "code",
   "execution_count": 9,
   "id": "7be76753",
   "metadata": {},
   "outputs": [],
   "source": [
    "# connect to database\n",
    "cnx=atlas_database_connection.database_connection().connect()"
   ]
  },
  {
   "cell_type": "code",
   "execution_count": 10,
   "id": "baa17182",
   "metadata": {},
   "outputs": [
    {
     "name": "stdout",
     "output_type": "stream",
     "text": [
      "mpc_number=False\n",
      "name=Fanatica\n",
      "orbital_elements_id=1589\n"
     ]
    }
   ],
   "source": [
    "orbid=atlas_SQL_query_df.get_orb_elements_id(cnx,mpc_number,name)\n",
    "df_data_filt=atlas_SQL_query_df.atlas_SQL_query_orbid_expname(cnx,orbid)\n",
    "df_data = df_data_filt"
   ]
  },
  {
   "cell_type": "code",
   "execution_count": 11,
   "id": "e70acd86",
   "metadata": {},
   "outputs": [
    {
     "data": {
      "text/html": [
       "<div>\n",
       "<style scoped>\n",
       "    .dataframe tbody tr th:only-of-type {\n",
       "        vertical-align: middle;\n",
       "    }\n",
       "\n",
       "    .dataframe tbody tr th {\n",
       "        vertical-align: top;\n",
       "    }\n",
       "\n",
       "    .dataframe thead th {\n",
       "        text-align: right;\n",
       "    }\n",
       "</style>\n",
       "<table border=\"1\" class=\"dataframe\">\n",
       "  <thead>\n",
       "    <tr style=\"text-align: right;\">\n",
       "      <th></th>\n",
       "      <th>name</th>\n",
       "      <th>mpc_number</th>\n",
       "      <th>G_slope</th>\n",
       "      <th>H_abs_mag</th>\n",
       "      <th>H_abs_mag_o</th>\n",
       "      <th>H_abs_mag_c</th>\n",
       "    </tr>\n",
       "  </thead>\n",
       "  <tbody>\n",
       "    <tr>\n",
       "      <th>0</th>\n",
       "      <td>Fanatica</td>\n",
       "      <td>1589</td>\n",
       "      <td>0.15</td>\n",
       "      <td>11.97</td>\n",
       "      <td>11.638</td>\n",
       "      <td>12.024</td>\n",
       "    </tr>\n",
       "  </tbody>\n",
       "</table>\n",
       "</div>"
      ],
      "text/plain": [
       "       name  mpc_number  G_slope  H_abs_mag  H_abs_mag_o  H_abs_mag_c\n",
       "0  Fanatica        1589     0.15      11.97       11.638       12.024"
      ]
     },
     "execution_count": 11,
     "metadata": {},
     "output_type": "execute_result"
    }
   ],
   "source": [
    "df_HG = atlas_SQL_query_df.get_astorb_HG(cnx,orbid)\n",
    "df_HG"
   ]
  },
  {
   "cell_type": "code",
   "execution_count": 12,
   "id": "4b950067",
   "metadata": {},
   "outputs": [],
   "source": [
    "df_data_filt = df_data_filt.sort_values(\"mjd\")"
   ]
  },
  {
   "cell_type": "code",
   "execution_count": 13,
   "id": "d0460595",
   "metadata": {},
   "outputs": [
    {
     "data": {
      "text/html": [
       "<div>\n",
       "<style scoped>\n",
       "    .dataframe tbody tr th:only-of-type {\n",
       "        vertical-align: middle;\n",
       "    }\n",
       "\n",
       "    .dataframe tbody tr th {\n",
       "        vertical-align: top;\n",
       "    }\n",
       "\n",
       "    .dataframe thead th {\n",
       "        text-align: right;\n",
       "    }\n",
       "</style>\n",
       "<table border=\"1\" class=\"dataframe\">\n",
       "  <thead>\n",
       "    <tr style=\"text-align: right;\">\n",
       "      <th></th>\n",
       "      <th>expname</th>\n",
       "      <th>dec_deg</th>\n",
       "      <th>ra_deg</th>\n",
       "      <th>mjd</th>\n",
       "      <th>m</th>\n",
       "      <th>merr</th>\n",
       "      <th>filter</th>\n",
       "      <th>observer_distance</th>\n",
       "      <th>heliocentric_distance</th>\n",
       "      <th>phase_angle</th>\n",
       "      <th>reduced_mag</th>\n",
       "      <th>apparent_mag</th>\n",
       "      <th>galactic_latitude</th>\n",
       "      <th>sun_obs_target_angle</th>\n",
       "      <th>orbfit_separation_arcsec</th>\n",
       "    </tr>\n",
       "  </thead>\n",
       "  <tbody>\n",
       "    <tr>\n",
       "      <th>1</th>\n",
       "      <td>02a57400o0549c</td>\n",
       "      <td>14.546113</td>\n",
       "      <td>160.800299</td>\n",
       "      <td>57400.560822</td>\n",
       "      <td>16.102</td>\n",
       "      <td>0.022</td>\n",
       "      <td>c</td>\n",
       "      <td>1.721480</td>\n",
       "      <td>2.518880</td>\n",
       "      <td>15.8927</td>\n",
       "      <td>12.916453</td>\n",
       "      <td>15.850</td>\n",
       "      <td>57.6304</td>\n",
       "      <td>135.4623</td>\n",
       "      <td>0.189767</td>\n",
       "    </tr>\n",
       "    <tr>\n",
       "      <th>0</th>\n",
       "      <td>02a57400o0555c</td>\n",
       "      <td>14.546416</td>\n",
       "      <td>160.800034</td>\n",
       "      <td>57400.564583</td>\n",
       "      <td>16.143</td>\n",
       "      <td>0.023</td>\n",
       "      <td>c</td>\n",
       "      <td>1.721448</td>\n",
       "      <td>2.518883</td>\n",
       "      <td>15.8914</td>\n",
       "      <td>12.957490</td>\n",
       "      <td>15.850</td>\n",
       "      <td>57.6303</td>\n",
       "      <td>135.4664</td>\n",
       "      <td>0.200774</td>\n",
       "    </tr>\n",
       "    <tr>\n",
       "      <th>4</th>\n",
       "      <td>02a57400o0608c</td>\n",
       "      <td>14.549348</td>\n",
       "      <td>160.797459</td>\n",
       "      <td>57400.601076</td>\n",
       "      <td>16.000</td>\n",
       "      <td>0.018</td>\n",
       "      <td>c</td>\n",
       "      <td>1.721142</td>\n",
       "      <td>2.518915</td>\n",
       "      <td>15.8795</td>\n",
       "      <td>12.814850</td>\n",
       "      <td>15.849</td>\n",
       "      <td>57.6295</td>\n",
       "      <td>135.5067</td>\n",
       "      <td>0.246941</td>\n",
       "    </tr>\n",
       "    <tr>\n",
       "      <th>2</th>\n",
       "      <td>02a57400o0616c</td>\n",
       "      <td>14.549766</td>\n",
       "      <td>160.797091</td>\n",
       "      <td>57400.606296</td>\n",
       "      <td>16.054</td>\n",
       "      <td>0.021</td>\n",
       "      <td>c</td>\n",
       "      <td>1.721098</td>\n",
       "      <td>2.518919</td>\n",
       "      <td>15.8778</td>\n",
       "      <td>12.868901</td>\n",
       "      <td>15.849</td>\n",
       "      <td>57.6293</td>\n",
       "      <td>135.5125</td>\n",
       "      <td>0.069207</td>\n",
       "    </tr>\n",
       "    <tr>\n",
       "      <th>3</th>\n",
       "      <td>02a57400o0618c</td>\n",
       "      <td>14.549864</td>\n",
       "      <td>160.797005</td>\n",
       "      <td>57400.607512</td>\n",
       "      <td>16.074</td>\n",
       "      <td>0.018</td>\n",
       "      <td>c</td>\n",
       "      <td>1.721088</td>\n",
       "      <td>2.518920</td>\n",
       "      <td>15.8774</td>\n",
       "      <td>12.888913</td>\n",
       "      <td>15.849</td>\n",
       "      <td>57.6293</td>\n",
       "      <td>135.5138</td>\n",
       "      <td>0.056591</td>\n",
       "    </tr>\n",
       "    <tr>\n",
       "      <th>...</th>\n",
       "      <td>...</td>\n",
       "      <td>...</td>\n",
       "      <td>...</td>\n",
       "      <td>...</td>\n",
       "      <td>...</td>\n",
       "      <td>...</td>\n",
       "      <td>...</td>\n",
       "      <td>...</td>\n",
       "      <td>...</td>\n",
       "      <td>...</td>\n",
       "      <td>...</td>\n",
       "      <td>...</td>\n",
       "      <td>...</td>\n",
       "      <td>...</td>\n",
       "      <td>...</td>\n",
       "    </tr>\n",
       "    <tr>\n",
       "      <th>1590</th>\n",
       "      <td>01a59551o0057o</td>\n",
       "      <td>-22.289101</td>\n",
       "      <td>309.861907</td>\n",
       "      <td>59551.216273</td>\n",
       "      <td>16.459</td>\n",
       "      <td>0.030</td>\n",
       "      <td>o</td>\n",
       "      <td>2.671314</td>\n",
       "      <td>2.265433</td>\n",
       "      <td>21.0472</td>\n",
       "      <td>12.549619</td>\n",
       "      <td>16.932</td>\n",
       "      <td>-33.1500</td>\n",
       "      <td>-55.6013</td>\n",
       "      <td>0.305153</td>\n",
       "    </tr>\n",
       "    <tr>\n",
       "      <th>1591</th>\n",
       "      <td>01a59563o0034o</td>\n",
       "      <td>-20.800508</td>\n",
       "      <td>315.478873</td>\n",
       "      <td>59563.194583</td>\n",
       "      <td>16.374</td>\n",
       "      <td>0.240</td>\n",
       "      <td>o</td>\n",
       "      <td>2.777575</td>\n",
       "      <td>2.255915</td>\n",
       "      <td>19.1991</td>\n",
       "      <td>12.389057</td>\n",
       "      <td>16.949</td>\n",
       "      <td>-37.6192</td>\n",
       "      <td>-48.8982</td>\n",
       "      <td>0.445967</td>\n",
       "    </tr>\n",
       "    <tr>\n",
       "      <th>1592</th>\n",
       "      <td>01a59563o0041o</td>\n",
       "      <td>-20.800073</td>\n",
       "      <td>315.480393</td>\n",
       "      <td>59563.197813</td>\n",
       "      <td>16.537</td>\n",
       "      <td>0.099</td>\n",
       "      <td>o</td>\n",
       "      <td>2.777603</td>\n",
       "      <td>2.255913</td>\n",
       "      <td>19.1986</td>\n",
       "      <td>12.552038</td>\n",
       "      <td>16.949</td>\n",
       "      <td>-37.6204</td>\n",
       "      <td>-48.8964</td>\n",
       "      <td>0.349471</td>\n",
       "    </tr>\n",
       "    <tr>\n",
       "      <th>1593</th>\n",
       "      <td>01a59563o0060o</td>\n",
       "      <td>-20.798891</td>\n",
       "      <td>315.484521</td>\n",
       "      <td>59563.206586</td>\n",
       "      <td>16.500</td>\n",
       "      <td>0.068</td>\n",
       "      <td>o</td>\n",
       "      <td>2.777678</td>\n",
       "      <td>2.255906</td>\n",
       "      <td>19.1972</td>\n",
       "      <td>12.514985</td>\n",
       "      <td>16.949</td>\n",
       "      <td>-37.6237</td>\n",
       "      <td>-48.8915</td>\n",
       "      <td>0.197524</td>\n",
       "    </tr>\n",
       "    <tr>\n",
       "      <th>1594</th>\n",
       "      <td>01a59563o0086o</td>\n",
       "      <td>-20.797274</td>\n",
       "      <td>315.490173</td>\n",
       "      <td>59563.218588</td>\n",
       "      <td>16.482</td>\n",
       "      <td>0.073</td>\n",
       "      <td>o</td>\n",
       "      <td>2.777782</td>\n",
       "      <td>2.255897</td>\n",
       "      <td>19.1953</td>\n",
       "      <td>12.496913</td>\n",
       "      <td>16.949</td>\n",
       "      <td>-37.6282</td>\n",
       "      <td>-48.8848</td>\n",
       "      <td>0.231602</td>\n",
       "    </tr>\n",
       "  </tbody>\n",
       "</table>\n",
       "<p>1595 rows × 15 columns</p>\n",
       "</div>"
      ],
      "text/plain": [
       "             expname    dec_deg      ra_deg           mjd       m   merr  \\\n",
       "1     02a57400o0549c  14.546113  160.800299  57400.560822  16.102  0.022   \n",
       "0     02a57400o0555c  14.546416  160.800034  57400.564583  16.143  0.023   \n",
       "4     02a57400o0608c  14.549348  160.797459  57400.601076  16.000  0.018   \n",
       "2     02a57400o0616c  14.549766  160.797091  57400.606296  16.054  0.021   \n",
       "3     02a57400o0618c  14.549864  160.797005  57400.607512  16.074  0.018   \n",
       "...              ...        ...         ...           ...     ...    ...   \n",
       "1590  01a59551o0057o -22.289101  309.861907  59551.216273  16.459  0.030   \n",
       "1591  01a59563o0034o -20.800508  315.478873  59563.194583  16.374  0.240   \n",
       "1592  01a59563o0041o -20.800073  315.480393  59563.197813  16.537  0.099   \n",
       "1593  01a59563o0060o -20.798891  315.484521  59563.206586  16.500  0.068   \n",
       "1594  01a59563o0086o -20.797274  315.490173  59563.218588  16.482  0.073   \n",
       "\n",
       "     filter  observer_distance  heliocentric_distance  phase_angle  \\\n",
       "1         c           1.721480               2.518880      15.8927   \n",
       "0         c           1.721448               2.518883      15.8914   \n",
       "4         c           1.721142               2.518915      15.8795   \n",
       "2         c           1.721098               2.518919      15.8778   \n",
       "3         c           1.721088               2.518920      15.8774   \n",
       "...     ...                ...                    ...          ...   \n",
       "1590      o           2.671314               2.265433      21.0472   \n",
       "1591      o           2.777575               2.255915      19.1991   \n",
       "1592      o           2.777603               2.255913      19.1986   \n",
       "1593      o           2.777678               2.255906      19.1972   \n",
       "1594      o           2.777782               2.255897      19.1953   \n",
       "\n",
       "      reduced_mag  apparent_mag  galactic_latitude  sun_obs_target_angle  \\\n",
       "1       12.916453        15.850            57.6304              135.4623   \n",
       "0       12.957490        15.850            57.6303              135.4664   \n",
       "4       12.814850        15.849            57.6295              135.5067   \n",
       "2       12.868901        15.849            57.6293              135.5125   \n",
       "3       12.888913        15.849            57.6293              135.5138   \n",
       "...           ...           ...                ...                   ...   \n",
       "1590    12.549619        16.932           -33.1500              -55.6013   \n",
       "1591    12.389057        16.949           -37.6192              -48.8982   \n",
       "1592    12.552038        16.949           -37.6204              -48.8964   \n",
       "1593    12.514985        16.949           -37.6237              -48.8915   \n",
       "1594    12.496913        16.949           -37.6282              -48.8848   \n",
       "\n",
       "      orbfit_separation_arcsec  \n",
       "1                     0.189767  \n",
       "0                     0.200774  \n",
       "4                     0.246941  \n",
       "2                     0.069207  \n",
       "3                     0.056591  \n",
       "...                        ...  \n",
       "1590                  0.305153  \n",
       "1591                  0.445967  \n",
       "1592                  0.349471  \n",
       "1593                  0.197524  \n",
       "1594                  0.231602  \n",
       "\n",
       "[1595 rows x 15 columns]"
      ]
     },
     "execution_count": 13,
     "metadata": {},
     "output_type": "execute_result"
    }
   ],
   "source": [
    "df_data_filt"
   ]
  },
  {
   "cell_type": "code",
   "execution_count": 14,
   "id": "dadf8695",
   "metadata": {},
   "outputs": [
    {
     "data": {
      "text/plain": [
       "array(['c', 'g', 'i', 'o', 'r'], dtype=object)"
      ]
     },
     "execution_count": 14,
     "metadata": {},
     "output_type": "execute_result"
    }
   ],
   "source": [
    "np.unique(df_data_filt[\"filter\"])"
   ]
  },
  {
   "cell_type": "code",
   "execution_count": 15,
   "id": "9b7a823f",
   "metadata": {},
   "outputs": [],
   "source": [
    "# load all fits to get object metadata\n",
    "fname = \"atlas_phase_fits_orbs_25_4_2022.csv\" # contains more data, up to mjd = 59595 (2022-01-16)\n",
    "df_all_data = dbt.load_atlas_phase_fits(fname)\n",
    "df_all_data[\"q_perihelion\"] = df_all_data[\"a_semimajor_axis\"] * (1.0 - df_all_data[\"e_eccentricity\"])"
   ]
  },
  {
   "cell_type": "code",
   "execution_count": 16,
   "id": "89a4654b",
   "metadata": {},
   "outputs": [],
   "source": [
    "df_obj = df_all_data[df_all_data[\"name\"]==name] "
   ]
  },
  {
   "cell_type": "code",
   "execution_count": 17,
   "id": "583e4202",
   "metadata": {},
   "outputs": [
    {
     "data": {
      "text/html": [
       "<div>\n",
       "<style scoped>\n",
       "    .dataframe tbody tr th:only-of-type {\n",
       "        vertical-align: middle;\n",
       "    }\n",
       "\n",
       "    .dataframe tbody tr th {\n",
       "        vertical-align: top;\n",
       "    }\n",
       "\n",
       "    .dataframe thead th {\n",
       "        text-align: right;\n",
       "    }\n",
       "</style>\n",
       "<table border=\"1\" class=\"dataframe\">\n",
       "  <thead>\n",
       "    <tr style=\"text-align: right;\">\n",
       "      <th></th>\n",
       "      <th>phase_curve_H_err_B89_o</th>\n",
       "      <th>phase_curve_G_err_B89_o</th>\n",
       "    </tr>\n",
       "  </thead>\n",
       "  <tbody>\n",
       "    <tr>\n",
       "      <th>1586</th>\n",
       "      <td>0.005165</td>\n",
       "      <td>0.005921</td>\n",
       "    </tr>\n",
       "  </tbody>\n",
       "</table>\n",
       "</div>"
      ],
      "text/plain": [
       "      phase_curve_H_err_B89_o  phase_curve_G_err_B89_o\n",
       "1586                 0.005165                 0.005921"
      ]
     },
     "execution_count": 17,
     "metadata": {},
     "output_type": "execute_result"
    }
   ],
   "source": [
    "df_obj[[\"phase_curve_H_err_B89_o\",\"phase_curve_G_err_B89_o\"]]"
   ]
  },
  {
   "cell_type": "code",
   "execution_count": 18,
   "id": "6381492a",
   "metadata": {},
   "outputs": [
    {
     "name": "stdout",
     "output_type": "stream",
     "text": [
      "use passed df_data\n",
      "12.605567141331615\n",
      "0.022\n",
      "synodic period = 497.58644436461157\n",
      "[57400.560822  57826.556065  58298.6009332 58775.622836  59255.640278\n",
      " 59563.218588 ]\n",
      "[57400.560822  57826.556065  58298.6009332 58775.622836  59255.640278\n",
      " 59563.218588 ]\n",
      "5\n"
     ]
    }
   ],
   "source": [
    "# Find the solar apparitions from elongation\n",
    "# USE ALL DATA IN BOTH FILTERS?\n",
    "orbital_period_yrs = df_obj.iloc[0][\"a_semimajor_axis\"]**1.5\n",
    "sol = sa.solar_apparitions(mpc_number = mpc_number, name = name, df_data = df_data_filt)\n",
    "epochs = sol.solar_elongation(-1.0,period = orbital_period_yrs)\n",
    "# epochs = sol.solar_elongation_JPL(JPL_step=\"7d\")\n",
    "\n",
    "print(epochs)\n",
    "N_app = len(epochs)-1 # number of apparitions detected in both filters\n",
    "print(N_app)"
   ]
  },
  {
   "cell_type": "code",
   "execution_count": 19,
   "id": "bf03e64e",
   "metadata": {},
   "outputs": [
    {
     "data": {
      "image/png": "[encoded data removed]",
      "text/plain": [
       "<Figure size 432x288 with 1 Axes>"
      ]
     },
     "metadata": {
      "needs_background": "light"
     },
     "output_type": "display_data"
    }
   ],
   "source": [
    "sol.plot_solar_elongation(epochs)"
   ]
  },
  {
   "cell_type": "code",
   "execution_count": 20,
   "id": "25755fe9",
   "metadata": {},
   "outputs": [
    {
     "name": "stdout",
     "output_type": "stream",
     "text": [
      "query Horizons\n",
      "[57400.560822 57680.       58163.       58688.       59164.\n",
      " 59563.218588]\n",
      "5\n"
     ]
    }
   ],
   "source": [
    "epochs_JPL = sol.solar_elongation_JPL(JPL_step=\"7d\")\n",
    "print(epochs_JPL)\n",
    "N_app_JPL = len(epochs_JPL)-1 # number of apparitions detected in both filters\n",
    "print(N_app_JPL)"
   ]
  },
  {
   "cell_type": "code",
   "execution_count": 21,
   "id": "4f8ae6de",
   "metadata": {},
   "outputs": [
    {
     "data": {
      "image/png": "[encoded data removed]",
      "text/plain": [
       "<Figure size 432x288 with 1 Axes>"
      ]
     },
     "metadata": {
      "needs_background": "light"
     },
     "output_type": "display_data"
    }
   ],
   "source": [
    "sol.plot_solar_elongation(epochs_JPL)"
   ]
  },
  {
   "cell_type": "code",
   "execution_count": 22,
   "id": "b6fe39c0",
   "metadata": {},
   "outputs": [
    {
     "data": {
      "text/plain": [
       "Text(0.5, 1.0, 'Fanatica')"
      ]
     },
     "execution_count": 22,
     "metadata": {},
     "output_type": "execute_result"
    },
    {
     "data": {
      "image/png": "[encoded data removed]",
      "text/plain": [
       "<Figure size 432x288 with 1 Axes>"
      ]
     },
     "metadata": {
      "needs_background": "light"
     },
     "output_type": "display_data"
    }
   ],
   "source": [
    "fig = plt.figure()\n",
    "gs = gridspec.GridSpec(1,1)\n",
    "ax1 = plt.subplot(gs[0,0])\n",
    "\n",
    "df_plot1 = df_data_filt[df_data_filt[\"filter\"]==\"c\"]\n",
    "df_plot2 = df_data_filt[df_data_filt[\"filter\"]==\"o\"]\n",
    "\n",
    "ax1.scatter(df_plot1[\"mjd\"],df_plot1[\"m\"],s=1, label = \"c\")\n",
    "ax1.scatter(df_plot2[\"mjd\"],df_plot2[\"m\"],s=1, label = \"o\")\n",
    "\n",
    "for x in epochs:\n",
    "    ax1.axvline(x,c=\"k\",alpha = 0.2)\n",
    "    \n",
    "# for x in epochs_JPL:\n",
    "#     ax1.axvline(x,c=\"r\")\n",
    "\n",
    "ax1.invert_yaxis()\n",
    "ax1.legend()\n",
    "ax1.set_xlabel(\"mjd\")\n",
    "ax1.set_ylabel(\"m\")\n",
    "ax1.set_title(name)"
   ]
  },
  {
   "cell_type": "code",
   "execution_count": 23,
   "id": "3459524a",
   "metadata": {},
   "outputs": [
    {
     "data": {
      "text/plain": [
       "Text(0.5, 1.0, 'Fanatica')"
      ]
     },
     "execution_count": 23,
     "metadata": {},
     "output_type": "execute_result"
    },
    {
     "data": {
      "image/png": "[encoded data removed]",
      "text/plain": [
       "<Figure size 432x288 with 1 Axes>"
      ]
     },
     "metadata": {
      "needs_background": "light"
     },
     "output_type": "display_data"
    }
   ],
   "source": [
    "fig = plt.figure()\n",
    "gs = gridspec.GridSpec(1,1)\n",
    "ax1 = plt.subplot(gs[0,0])\n",
    "\n",
    "df_plot1 = df_data_filt[df_data_filt[\"filter\"]==\"c\"]\n",
    "df_plot2 = df_data_filt[df_data_filt[\"filter\"]==\"o\"]\n",
    "\n",
    "ax1.scatter(df_plot1[\"phase_angle\"],df_plot1[\"reduced_mag\"],s=1, label = \"c\")\n",
    "ax1.scatter(df_plot2[\"phase_angle\"],df_plot2[\"reduced_mag\"],s=1, label = \"o\")\n",
    "\n",
    "ax1.invert_yaxis()\n",
    "ax1.legend()\n",
    "ax1.set_xlabel(\"phase_angle\")\n",
    "ax1.set_ylabel(\"reduced_mag\")\n",
    "ax1.set_title(name)"
   ]
  },
  {
   "cell_type": "markdown",
   "id": "e4bc755a",
   "metadata": {},
   "source": [
    "# reject outlying data"
   ]
  },
  {
   "cell_type": "code",
   "execution_count": 24,
   "id": "acbd89f0",
   "metadata": {},
   "outputs": [
    {
     "data": {
      "text/plain": [
       "['expname',\n",
       " 'dec_deg',\n",
       " 'ra_deg',\n",
       " 'mjd',\n",
       " 'm',\n",
       " 'merr',\n",
       " 'filter',\n",
       " 'observer_distance',\n",
       " 'heliocentric_distance',\n",
       " 'phase_angle',\n",
       " 'reduced_mag',\n",
       " 'apparent_mag',\n",
       " 'galactic_latitude',\n",
       " 'sun_obs_target_angle',\n",
       " 'orbfit_separation_arcsec']"
      ]
     },
     "execution_count": 24,
     "metadata": {},
     "output_type": "execute_result"
    }
   ],
   "source": [
    "list(df_data_filt)"
   ]
  },
  {
   "cell_type": "code",
   "execution_count": 25,
   "id": "a5b9305f",
   "metadata": {},
   "outputs": [
    {
     "name": "stdout",
     "output_type": "stream",
     "text": [
      "1595\n",
      "1497\n",
      "1489\n",
      "1415\n"
     ]
    }
   ],
   "source": [
    "orbfit_sep_cut = 1.0\n",
    "mag_err_small = 0.005\n",
    "gal_lat_cut = 10.0\n",
    "\n",
    "# drop any nans\n",
    "df_data = df_data_filt.dropna(subset=[\"mjd\",\"reduced_mag\",\"merr\"])\n",
    "print(len(df_data))\n",
    "# drop large orbfit uncertainties\n",
    "df_data = df_data[df_data[\"orbfit_separation_arcsec\"]<=orbfit_sep_cut]\n",
    "print(len(df_data))\n",
    "# drop small (or zero) uncertainties\n",
    "df_data = df_data[df_data[\"merr\"]>=mag_err_small]\n",
    "print(len(df_data))\n",
    "\n",
    "# drop near galactic plane\n",
    "df_data = df_data[np.absolute(df_data[\"galactic_latitude\"])>=gal_lat_cut]\n",
    "print(len(df_data))\n",
    "\n",
    "# drop on mag5sig/limiting magnitude when possible\n"
   ]
  },
  {
   "cell_type": "code",
   "execution_count": 26,
   "id": "ecb9fb9c",
   "metadata": {},
   "outputs": [
    {
     "data": {
      "text/plain": [
       "Text(0.5, 1.0, 'Fanatica')"
      ]
     },
     "execution_count": 26,
     "metadata": {},
     "output_type": "execute_result"
    },
    {
     "data": {
      "image/png": "[encoded data removed]",
      "text/plain": [
       "<Figure size 432x288 with 1 Axes>"
      ]
     },
     "metadata": {
      "needs_background": "light"
     },
     "output_type": "display_data"
    }
   ],
   "source": [
    "fig = plt.figure()\n",
    "gs = gridspec.GridSpec(1,1)\n",
    "ax1 = plt.subplot(gs[0,0])\n",
    "\n",
    "df_plot1 = df_data[df_data[\"filter\"]==\"c\"]\n",
    "df_plot2 = df_data[df_data[\"filter\"]==\"o\"]\n",
    "\n",
    "ax1.scatter(df_plot1[\"phase_angle\"],df_plot1[\"reduced_mag\"],s=1, label = \"c\")\n",
    "ax1.scatter(df_plot2[\"phase_angle\"],df_plot2[\"reduced_mag\"],s=1, label = \"o\")\n",
    "\n",
    "ax1.invert_yaxis()\n",
    "ax1.legend()\n",
    "ax1.set_xlabel(\"phase_angle\")\n",
    "ax1.set_ylabel(\"reduced_mag\")\n",
    "ax1.set_title(name)"
   ]
  },
  {
   "cell_type": "code",
   "execution_count": 27,
   "id": "1fc80a30",
   "metadata": {},
   "outputs": [
    {
     "data": {
      "text/plain": [
       "Text(0.5, 1.0, 'Fanatica')"
      ]
     },
     "execution_count": 27,
     "metadata": {},
     "output_type": "execute_result"
    },
    {
     "data": {
      "image/png": "[encoded data removed]",
      "text/plain": [
       "<Figure size 432x288 with 1 Axes>"
      ]
     },
     "metadata": {
      "needs_background": "light"
     },
     "output_type": "display_data"
    }
   ],
   "source": [
    "x_plot = \"mjd\"\n",
    "# y_plot = \"m\"\n",
    "y_plot = \"reduced_mag\"\n",
    "\n",
    "fig = plt.figure()\n",
    "gs = gridspec.GridSpec(1,1)\n",
    "ax1 = plt.subplot(gs[0,0])\n",
    "\n",
    "df_plot1 = df_data[df_data[\"filter\"]==\"c\"]\n",
    "df_plot2 = df_data[df_data[\"filter\"]==\"o\"]\n",
    "\n",
    "ax1.scatter(df_plot1[x_plot],df_plot1[y_plot],s=1, label = \"c\")\n",
    "ax1.scatter(df_plot2[x_plot],df_plot2[y_plot],s=1, label = \"o\")\n",
    "\n",
    "for x in epochs:\n",
    "    ax1.axvline(x,c=\"k\",alpha = 0.2)\n",
    "    \n",
    "# for x in epochs_JPL:\n",
    "#     ax1.axvline(x,c=\"r\")\n",
    "\n",
    "ax1.invert_yaxis()\n",
    "ax1.legend()\n",
    "ax1.set_xlabel(x_plot)\n",
    "ax1.set_ylabel(y_plot)\n",
    "ax1.set_title(name)"
   ]
  },
  {
   "cell_type": "code",
   "execution_count": 28,
   "id": "d905a7b7",
   "metadata": {},
   "outputs": [
    {
     "name": "stdout",
     "output_type": "stream",
     "text": [
      "Model: HG\n",
      "Inputs: ('x',)\n",
      "Outputs: ('y',)\n",
      "Model set size: 1\n",
      "Parameters:\n",
      "      H     G  \n",
      "     mag       \n",
      "    ------ ----\n",
      "    11.638 0.15\n"
     ]
    }
   ],
   "source": [
    "# sbpy phase curve models\n",
    "# model_atlas = HG(H = H_B89_o * u.mag, G = G_B89_o)\n",
    "\n",
    "# use the astorb H and G here? Our fits might be bad for strong apparition effects!\n",
    "# model_atlas = HG(H = 13.48 * u.mag, G = 0.15)\n",
    "model_atlas = HG(H = df_HG.iloc[0][\"H_abs_mag_o\"] * u.mag, G = df_HG.iloc[0][\"G_slope\"])\n",
    "\n",
    "print(model_atlas)"
   ]
  },
  {
   "cell_type": "code",
   "execution_count": 29,
   "id": "c3e2aa3e",
   "metadata": {},
   "outputs": [
    {
     "data": {
      "text/plain": [
       "Text(0.5, 1.0, 'Fanatica')"
      ]
     },
     "execution_count": 29,
     "metadata": {},
     "output_type": "execute_result"
    },
    {
     "data": {
      "image/png": "[encoded data removed]",
      "text/plain": [
       "<Figure size 432x288 with 1 Axes>"
      ]
     },
     "metadata": {
      "needs_background": "light"
     },
     "output_type": "display_data"
    }
   ],
   "source": [
    "fig = plt.figure()\n",
    "gs = gridspec.GridSpec(1,1)\n",
    "ax1 = plt.subplot(gs[0,0])\n",
    "\n",
    "df_plot = df_data[df_data[\"filter\"]==\"o\"]\n",
    "\n",
    "ax1.scatter(df_plot[\"phase_angle\"],df_plot[\"reduced_mag\"],s=1,c=\"C1\", label = \"o filter\")\n",
    "\n",
    "# evaluate the HG models\n",
    "phase_angle = np.linspace(0,np.amax(df_plot[\"phase_angle\"])) * u.deg\n",
    "reduced_mag_atlas = model_atlas(phase_angle)\n",
    "\n",
    "ax1.plot(phase_angle,reduced_mag_atlas,c=\"k\",\n",
    "         label = \"atlas: H={:.2f}, G={:.2f}\".format(model_atlas.H.value,model_atlas.G.value))\n",
    "\n",
    "ax1.invert_yaxis()\n",
    "ax1.legend()\n",
    "ax1.set_xlabel(\"phase_angle\")\n",
    "ax1.set_ylabel(\"reduced_mag\")\n",
    "ax1.set_title(name)"
   ]
  },
  {
   "cell_type": "markdown",
   "id": "e50134ad",
   "metadata": {},
   "source": [
    "# fit a simple HG curve to largest epoch using bootstrap"
   ]
  },
  {
   "cell_type": "code",
   "execution_count": 30,
   "id": "64aebec3",
   "metadata": {},
   "outputs": [
    {
     "name": "stdout",
     "output_type": "stream",
     "text": [
      "Model: HG\n",
      "Inputs: ('x',)\n",
      "Outputs: ('y',)\n",
      "Model set size: 1\n",
      "Parameters:\n",
      "      H    G  \n",
      "     mag      \n",
      "    ----- ----\n",
      "    13.48 0.15\n"
     ]
    }
   ],
   "source": [
    "# HG_model = HG(H = H_B89_o * u.mag, G = 0.15) # use the astorb G if available\n",
    "HG_model = HG(H = 13.48 * u.mag, G = 0.15)\n",
    "\n",
    "# HG_model.G.fixed = True\n",
    "fitter = LevMarLSQFitter()\n",
    "\n",
    "print(HG_model)"
   ]
  },
  {
   "cell_type": "code",
   "execution_count": 31,
   "id": "4168f4da",
   "metadata": {},
   "outputs": [
    {
     "data": {
      "text/plain": [
       "13.48"
      ]
     },
     "execution_count": 31,
     "metadata": {},
     "output_type": "execute_result"
    }
   ],
   "source": [
    "HG_model.H.value"
   ]
  },
  {
   "cell_type": "code",
   "execution_count": 32,
   "id": "b93e100c",
   "metadata": {},
   "outputs": [
    {
     "data": {
      "text/plain": [
       "array([57400.560822 , 57826.556065 , 58298.6009332, 58775.622836 ,\n",
       "       59255.640278 , 59563.218588 ])"
      ]
     },
     "execution_count": 32,
     "metadata": {},
     "output_type": "execute_result"
    }
   ],
   "source": [
    "epochs"
   ]
  },
  {
   "cell_type": "code",
   "execution_count": 33,
   "id": "74377c2a",
   "metadata": {},
   "outputs": [
    {
     "data": {
      "text/html": [
       "<div>\n",
       "<style scoped>\n",
       "    .dataframe tbody tr th:only-of-type {\n",
       "        vertical-align: middle;\n",
       "    }\n",
       "\n",
       "    .dataframe tbody tr th {\n",
       "        vertical-align: top;\n",
       "    }\n",
       "\n",
       "    .dataframe thead th {\n",
       "        text-align: right;\n",
       "    }\n",
       "</style>\n",
       "<table border=\"1\" class=\"dataframe\">\n",
       "  <thead>\n",
       "    <tr style=\"text-align: right;\">\n",
       "      <th></th>\n",
       "      <th>epoch</th>\n",
       "      <th>mjd_start</th>\n",
       "    </tr>\n",
       "  </thead>\n",
       "  <tbody>\n",
       "    <tr>\n",
       "      <th>0</th>\n",
       "      <td>0</td>\n",
       "      <td>57400.560822</td>\n",
       "    </tr>\n",
       "    <tr>\n",
       "      <th>1</th>\n",
       "      <td>1</td>\n",
       "      <td>57826.556065</td>\n",
       "    </tr>\n",
       "    <tr>\n",
       "      <th>2</th>\n",
       "      <td>2</td>\n",
       "      <td>58298.600933</td>\n",
       "    </tr>\n",
       "    <tr>\n",
       "      <th>3</th>\n",
       "      <td>3</td>\n",
       "      <td>58775.622836</td>\n",
       "    </tr>\n",
       "    <tr>\n",
       "      <th>4</th>\n",
       "      <td>4</td>\n",
       "      <td>59255.640278</td>\n",
       "    </tr>\n",
       "  </tbody>\n",
       "</table>\n",
       "</div>"
      ],
      "text/plain": [
       "   epoch     mjd_start\n",
       "0      0  57400.560822\n",
       "1      1  57826.556065\n",
       "2      2  58298.600933\n",
       "3      3  58775.622836\n",
       "4      4  59255.640278"
      ]
     },
     "execution_count": 33,
     "metadata": {},
     "output_type": "execute_result"
    }
   ],
   "source": [
    "df_epoch = pd.DataFrame()\n",
    "df_epoch[\"epoch\"] = np.arange(len(epochs[:-1]))\n",
    "df_epoch[\"mjd_start\"] = epochs[:-1]\n",
    "df_epoch"
   ]
  },
  {
   "cell_type": "code",
   "execution_count": 34,
   "id": "22c83e75",
   "metadata": {},
   "outputs": [
    {
     "name": "stdout",
     "output_type": "stream",
     "text": [
      "N_data = 60\n",
      "phase range = 18.9548 degrees\n",
      "N_data<5degrees = 7\n",
      "N_data = 193\n",
      "phase range = 23.4843 degrees\n",
      "N_data<5degrees = 50\n",
      "N_data = 255\n",
      "phase range = 23.2308 degrees\n",
      "N_data<5degrees = 18\n",
      "N_data = 270\n",
      "phase range = 19.4139 degrees\n",
      "N_data<5degrees = 7\n",
      "N_data = 255\n",
      "phase range = 24.51 degrees\n",
      "N_data<5degrees = 32\n"
     ]
    },
    {
     "data": {
      "text/html": [
       "<div>\n",
       "<style scoped>\n",
       "    .dataframe tbody tr th:only-of-type {\n",
       "        vertical-align: middle;\n",
       "    }\n",
       "\n",
       "    .dataframe tbody tr th {\n",
       "        vertical-align: top;\n",
       "    }\n",
       "\n",
       "    .dataframe thead th {\n",
       "        text-align: right;\n",
       "    }\n",
       "</style>\n",
       "<table border=\"1\" class=\"dataframe\">\n",
       "  <thead>\n",
       "    <tr style=\"text-align: right;\">\n",
       "      <th></th>\n",
       "      <th>epoch</th>\n",
       "      <th>mjd_start</th>\n",
       "      <th>N_data</th>\n",
       "      <th>phase_angle_range</th>\n",
       "      <th>phase_angle_&lt;5</th>\n",
       "    </tr>\n",
       "  </thead>\n",
       "  <tbody>\n",
       "    <tr>\n",
       "      <th>0</th>\n",
       "      <td>0</td>\n",
       "      <td>57400.560822</td>\n",
       "      <td>60</td>\n",
       "      <td>18.9548</td>\n",
       "      <td>7</td>\n",
       "    </tr>\n",
       "    <tr>\n",
       "      <th>1</th>\n",
       "      <td>1</td>\n",
       "      <td>57826.556065</td>\n",
       "      <td>193</td>\n",
       "      <td>23.4843</td>\n",
       "      <td>50</td>\n",
       "    </tr>\n",
       "    <tr>\n",
       "      <th>2</th>\n",
       "      <td>2</td>\n",
       "      <td>58298.600933</td>\n",
       "      <td>255</td>\n",
       "      <td>23.2308</td>\n",
       "      <td>18</td>\n",
       "    </tr>\n",
       "    <tr>\n",
       "      <th>3</th>\n",
       "      <td>3</td>\n",
       "      <td>58775.622836</td>\n",
       "      <td>270</td>\n",
       "      <td>19.4139</td>\n",
       "      <td>7</td>\n",
       "    </tr>\n",
       "    <tr>\n",
       "      <th>4</th>\n",
       "      <td>4</td>\n",
       "      <td>59255.640278</td>\n",
       "      <td>255</td>\n",
       "      <td>24.5100</td>\n",
       "      <td>32</td>\n",
       "    </tr>\n",
       "  </tbody>\n",
       "</table>\n",
       "</div>"
      ],
      "text/plain": [
       "   epoch     mjd_start  N_data  phase_angle_range  phase_angle_<5\n",
       "0      0  57400.560822      60            18.9548               7\n",
       "1      1  57826.556065     193            23.4843              50\n",
       "2      2  58298.600933     255            23.2308              18\n",
       "3      3  58775.622836     270            19.4139               7\n",
       "4      4  59255.640278     255            24.5100              32"
      ]
     },
     "execution_count": 34,
     "metadata": {},
     "output_type": "execute_result"
    }
   ],
   "source": [
    "# for each epoch count the number of data points, phase angle range and number of obs at <5 degrees phase\n",
    "N_data_epoch = []\n",
    "phase_range = []\n",
    "phase_lt_5 = []\n",
    "\n",
    "for i,x in enumerate(epochs[1:]):\n",
    "    mask = ((df_data[\"mjd\"]>=epochs[i]) & (df_data[\"mjd\"]<epochs[i+1])) & (df_data[\"filter\"]==\"o\")\n",
    "    df = df_data[mask]\n",
    "    N_data_epoch.append(len(df))\n",
    "    if len(df)==0:\n",
    "        phase_range.append(np.nan)\n",
    "        phase_lt_5.append(np.nan)\n",
    "    else:\n",
    "        phase_range.append(np.ptp(df[\"phase_angle\"]))\n",
    "        phase_lt_5.append(len(df[df[\"phase_angle\"]<5.0]))\n",
    "    print(\"N_data = {}\".format(N_data_epoch[-1]))\n",
    "    print(\"phase range = {} degrees\".format(phase_range[-1]))\n",
    "    print(\"N_data<5degrees = {}\".format(phase_lt_5[-1]))\n",
    "df_epoch[\"N_data\"] = N_data_epoch\n",
    "df_epoch[\"phase_angle_range\"] = phase_range\n",
    "df_epoch[\"phase_angle_<5\"] = phase_lt_5\n",
    "df_epoch"
   ]
  },
  {
   "cell_type": "code",
   "execution_count": 35,
   "id": "02ade82f",
   "metadata": {},
   "outputs": [
    {
     "data": {
      "text/plain": [
       "array([-4.14451349,  2.17007955,  0.90440641, -1.24895016,  2.31897769])"
      ]
     },
     "execution_count": 35,
     "metadata": {},
     "output_type": "execute_result"
    }
   ],
   "source": [
    "# use a standard scaler to allow us to choose the best combination of number of data points, phase angle range and number of data points <5 deg\n",
    "X = df_epoch[[\"N_data\",\"phase_angle_range\",\"phase_angle_<5\"]]\n",
    "X = StandardScaler().fit_transform(X)\n",
    "X = np.sum(X, axis = 1)\n",
    "df_epoch[\"scaled\"] = X\n",
    "X"
   ]
  },
  {
   "cell_type": "code",
   "execution_count": 36,
   "id": "cd4451cb",
   "metadata": {},
   "outputs": [
    {
     "data": {
      "text/html": [
       "<div>\n",
       "<style scoped>\n",
       "    .dataframe tbody tr th:only-of-type {\n",
       "        vertical-align: middle;\n",
       "    }\n",
       "\n",
       "    .dataframe tbody tr th {\n",
       "        vertical-align: top;\n",
       "    }\n",
       "\n",
       "    .dataframe thead th {\n",
       "        text-align: right;\n",
       "    }\n",
       "</style>\n",
       "<table border=\"1\" class=\"dataframe\">\n",
       "  <thead>\n",
       "    <tr style=\"text-align: right;\">\n",
       "      <th></th>\n",
       "      <th>epoch</th>\n",
       "      <th>mjd_start</th>\n",
       "      <th>N_data</th>\n",
       "      <th>phase_angle_range</th>\n",
       "      <th>phase_angle_&lt;5</th>\n",
       "      <th>scaled</th>\n",
       "    </tr>\n",
       "  </thead>\n",
       "  <tbody>\n",
       "    <tr>\n",
       "      <th>0</th>\n",
       "      <td>0</td>\n",
       "      <td>57400.560822</td>\n",
       "      <td>60</td>\n",
       "      <td>18.9548</td>\n",
       "      <td>7</td>\n",
       "      <td>-4.144513</td>\n",
       "    </tr>\n",
       "    <tr>\n",
       "      <th>3</th>\n",
       "      <td>3</td>\n",
       "      <td>58775.622836</td>\n",
       "      <td>270</td>\n",
       "      <td>19.4139</td>\n",
       "      <td>7</td>\n",
       "      <td>-1.248950</td>\n",
       "    </tr>\n",
       "    <tr>\n",
       "      <th>2</th>\n",
       "      <td>2</td>\n",
       "      <td>58298.600933</td>\n",
       "      <td>255</td>\n",
       "      <td>23.2308</td>\n",
       "      <td>18</td>\n",
       "      <td>0.904406</td>\n",
       "    </tr>\n",
       "    <tr>\n",
       "      <th>1</th>\n",
       "      <td>1</td>\n",
       "      <td>57826.556065</td>\n",
       "      <td>193</td>\n",
       "      <td>23.4843</td>\n",
       "      <td>50</td>\n",
       "      <td>2.170080</td>\n",
       "    </tr>\n",
       "    <tr>\n",
       "      <th>4</th>\n",
       "      <td>4</td>\n",
       "      <td>59255.640278</td>\n",
       "      <td>255</td>\n",
       "      <td>24.5100</td>\n",
       "      <td>32</td>\n",
       "      <td>2.318978</td>\n",
       "    </tr>\n",
       "  </tbody>\n",
       "</table>\n",
       "</div>"
      ],
      "text/plain": [
       "   epoch     mjd_start  N_data  phase_angle_range  phase_angle_<5    scaled\n",
       "0      0  57400.560822      60            18.9548               7 -4.144513\n",
       "3      3  58775.622836     270            19.4139               7 -1.248950\n",
       "2      2  58298.600933     255            23.2308              18  0.904406\n",
       "1      1  57826.556065     193            23.4843              50  2.170080\n",
       "4      4  59255.640278     255            24.5100              32  2.318978"
      ]
     },
     "execution_count": 36,
     "metadata": {},
     "output_type": "execute_result"
    }
   ],
   "source": [
    "df_epoch.sort_values(\"scaled\", inplace = True)\n",
    "df_epoch"
   ]
  },
  {
   "cell_type": "code",
   "execution_count": 37,
   "id": "3766f8e2",
   "metadata": {},
   "outputs": [
    {
     "name": "stdout",
     "output_type": "stream",
     "text": [
      "4\n",
      "4 59255.640278 59563.218588\n"
     ]
    }
   ],
   "source": [
    "# epoch_max = np.argmax(N_data_epoch)\n",
    "epoch_max = int(df_epoch[~np.isnan(df_epoch[\"scaled\"])].iloc[-1][\"epoch\"])\n",
    "print(epoch_max)\n",
    "print(epoch_max,epochs[epoch_max], epochs[epoch_max+1])"
   ]
  },
  {
   "cell_type": "code",
   "execution_count": 38,
   "id": "fb3ad912",
   "metadata": {},
   "outputs": [
    {
     "name": "stdout",
     "output_type": "stream",
     "text": [
      "255\n"
     ]
    }
   ],
   "source": [
    "mask = ((df_data[\"mjd\"]>=epochs[i]) & (df_data[\"mjd\"]<epochs[i+1])) & (df_data[\"filter\"]==\"o\")\n",
    "df = df_data[mask]\n",
    "print(len(df))"
   ]
  },
  {
   "cell_type": "code",
   "execution_count": 39,
   "id": "e7fedc3f",
   "metadata": {},
   "outputs": [],
   "source": [
    "# select data at largest epoch\n",
    "i = epoch_max\n",
    "mask = ((df_data[\"mjd\"]>=epochs[i]) & (df_data[\"mjd\"]<epochs[i+1])) & (df_data[\"filter\"]==\"o\")\n",
    "df_max = df_data[mask]"
   ]
  },
  {
   "cell_type": "code",
   "execution_count": 40,
   "id": "ba4341f4",
   "metadata": {},
   "outputs": [
    {
     "data": {
      "text/plain": [
       "255"
      ]
     },
     "execution_count": 40,
     "metadata": {},
     "output_type": "execute_result"
    }
   ],
   "source": [
    "len(df_max)"
   ]
  },
  {
   "cell_type": "code",
   "execution_count": 41,
   "id": "a9ace9d8",
   "metadata": {},
   "outputs": [
    {
     "name": "stdout",
     "output_type": "stream",
     "text": [
      "[0.00861504 0.00995976]\n"
     ]
    },
    {
     "data": {
      "image/png": "[encoded data removed]",
      "text/plain": [
       "<Figure size 432x288 with 1 Axes>"
      ]
     },
     "metadata": {
      "needs_background": "light"
     },
     "output_type": "display_data"
    }
   ],
   "source": [
    "# do the first fit\n",
    "\n",
    "fig = plt.figure()\n",
    "gs = gridspec.GridSpec(1,1)\n",
    "ax1 = plt.subplot(gs[0,0])\n",
    "\n",
    "alpha = np.array(df_max[\"phase_angle\"]) * u.deg\n",
    "mag = np.array(df_max[\"reduced_mag\"]) * u.mag\n",
    "mag_err = np.array(df_max[\"merr\"]) * u.mag\n",
    "\n",
    "model1 = fitter(HG_model, alpha, mag, weights=1.0/np.array(mag_err))\n",
    "param_cov = fitter.fit_info['param_cov']\n",
    "param_err_x = np.sqrt(np.diag(param_cov))\n",
    "print(param_err_x)\n",
    "\n",
    "df_plot = df_max\n",
    "\n",
    "\n",
    "ax1.scatter(df_plot[\"phase_angle\"],df_plot[\"reduced_mag\"],s=1)\n",
    "phase_angle = np.linspace(0,np.amax(df_plot[\"phase_angle\"])) * u.deg\n",
    "reduced_mag_atlas = model1(phase_angle)\n",
    "ax1.plot(phase_angle,reduced_mag_atlas,\n",
    "         label = \"atlas: H={:.3f}, G={:.3f}\".format(model1.H.value,model1.G.value))\n",
    "\n",
    "ax1.legend()\n",
    "ax1.invert_yaxis()\n",
    "ax1.set_xlabel(\"phase_angle\")\n",
    "ax1.set_ylabel(\"reduced_mag\")\n",
    "\n",
    "plt.show()"
   ]
  },
  {
   "cell_type": "code",
   "execution_count": 42,
   "id": "093f67e3",
   "metadata": {},
   "outputs": [],
   "source": [
    "def bootstrap_fit(df, N = 100, frac = 1, plot = False):\n",
    "\n",
    "    H_list = []\n",
    "    G_list = []\n",
    "\n",
    "    fig = plt.figure()\n",
    "    gs = gridspec.GridSpec(1,1)\n",
    "    ax1 = plt.subplot(gs[0,0])\n",
    "\n",
    "    for i in range(N):\n",
    "\n",
    "    #     print(i)\n",
    "\n",
    "        # resample with replacement\n",
    "        _df = df.sample(frac = frac, replace = True)  \n",
    "    #     print(_df)    \n",
    "        alpha = np.array(_df[\"phase_angle\"]) * u.deg\n",
    "        mag = np.array(_df[\"reduced_mag\"]) * u.mag\n",
    "        mag_err = np.array(_df[\"merr\"]) * u.mag\n",
    "\n",
    "        model = fitter(HG_model, alpha, mag, weights=1.0/np.array(mag_err))\n",
    "\n",
    "        H_list.append(model.H.value)\n",
    "        G_list.append(model.G.value)\n",
    "\n",
    "        df_plot = _df\n",
    "\n",
    "        ax1.scatter(df_plot[\"phase_angle\"],df_plot[\"reduced_mag\"],s=1)\n",
    "        phase_angle = np.linspace(0,np.amax(df_plot[\"phase_angle\"])) * u.deg\n",
    "        reduced_mag_atlas = model(phase_angle)\n",
    "        ax1.plot(phase_angle,reduced_mag_atlas,\n",
    "                 label = \"atlas: H={:.2f}, G={:.2f}\".format(model.H.value,model.G.value))\n",
    "\n",
    "    H_list = np.array(H_list)\n",
    "    G_list = np.array(G_list)\n",
    "\n",
    "    ax1.invert_yaxis()\n",
    "    ax1.set_xlabel(\"phase_angle\")\n",
    "    ax1.set_ylabel(\"reduced_mag\")\n",
    "    \n",
    "    if plot:\n",
    "        plt.show()\n",
    "    else:\n",
    "        plt.close()\n",
    "    \n",
    "    return H_list, G_list"
   ]
  },
  {
   "cell_type": "code",
   "execution_count": 43,
   "id": "82b0b16d",
   "metadata": {},
   "outputs": [
    {
     "data": {
      "image/png": "[encoded data removed]",
      "text/plain": [
       "<Figure size 432x288 with 1 Axes>"
      ]
     },
     "metadata": {
      "needs_background": "light"
     },
     "output_type": "display_data"
    }
   ],
   "source": [
    "H_list, G_list = bootstrap_fit(df_max, plot = True)"
   ]
  },
  {
   "cell_type": "code",
   "execution_count": 44,
   "id": "0851731b",
   "metadata": {},
   "outputs": [],
   "source": [
    "def gauss_fit(x, *p):\n",
    "    A, mu, sigma = p\n",
    "    return A*np.exp(-(x-mu)**2/(2.*sigma**2))"
   ]
  },
  {
   "cell_type": "code",
   "execution_count": 45,
   "id": "fb7ba5ba",
   "metadata": {},
   "outputs": [],
   "source": [
    "def fit_HG_dist(data_list = [H_list,G_list], bins = \"auto\", plot = False):\n",
    "\n",
    "    fig = plt.figure()\n",
    "    gs = gridspec.GridSpec(1,2)\n",
    "    ax1 = plt.subplot(gs[0,0])\n",
    "    ax2 = plt.subplot(gs[0,1])\n",
    "    \n",
    "    coeff_list = []\n",
    "\n",
    "    for data, ax in zip(data_list,[ax1,ax2]):\n",
    "\n",
    "        # p0 is the initial guess for the fitting coefficients (A, mu and sigma above)\n",
    "        p0 = [1., np.median(data), np.ptp(data)/2.0]\n",
    "\n",
    "        hist, bin_edges = np.histogram(data, density=True, bins = bins)\n",
    "        bin_centres = (bin_edges[:-1] + bin_edges[1:])/2\n",
    "\n",
    "        coeff, var_matrix = curve_fit(gauss_fit, bin_centres, hist, p0=p0)\n",
    "        coeff_list.append(coeff)\n",
    "\n",
    "        # Get the fitted curve\n",
    "        x_grid = np.linspace(np.amin(bin_centres), np.amax(bin_centres), 100)\n",
    "        hist_fit = gauss_fit(x_grid, *coeff)\n",
    "        ax.plot(x_grid,hist_fit, label = \"mu = {:.3f}, sig = {:.3f}\".format(coeff[1],coeff[2]))\n",
    "        ax.axvline(coeff[1])\n",
    "        ax.axvline(coeff[1]+coeff[2])\n",
    "        ax.axvline(coeff[1]-coeff[2])\n",
    "\n",
    "        ax.hist(data, bins=bins, histtype=\"step\", density = True, color = \"k\")\n",
    "        ax.bar(x=bin_centres, height=hist, width=np.diff(bin_edges))\n",
    "\n",
    "        ax.legend()\n",
    "\n",
    "    ax1.set_xlabel(\"H\")\n",
    "    ax1.set_ylabel(\"density\")\n",
    "    ax2.set_xlabel(\"G\")\n",
    "    ax2.set_ylabel(\"density\")\n",
    "\n",
    "    plt.tight_layout()\n",
    "    \n",
    "    if plot:\n",
    "        plt.show()\n",
    "    else:\n",
    "        plt.close()\n",
    "    \n",
    "    return coeff_list"
   ]
  },
  {
   "cell_type": "code",
   "execution_count": 46,
   "id": "ced99d20",
   "metadata": {},
   "outputs": [
    {
     "data": {
      "image/png": "[encoded data removed]",
      "text/plain": [
       "<Figure size 432x288 with 2 Axes>"
      ]
     },
     "metadata": {
      "needs_background": "light"
     },
     "output_type": "display_data"
    },
    {
     "data": {
      "text/plain": [
       "[array([ 4.02105522e+01,  1.17485693e+01, -9.39141288e-03]),\n",
       " array([ 3.35883196e+01,  2.99049672e-01, -1.12942764e-02])]"
      ]
     },
     "execution_count": 46,
     "metadata": {},
     "output_type": "execute_result"
    }
   ],
   "source": [
    "fit_HG_dist(data_list = [H_list,G_list], bins = \"auto\", plot = True)"
   ]
  },
  {
   "cell_type": "code",
   "execution_count": 47,
   "id": "fa27ddf3",
   "metadata": {},
   "outputs": [
    {
     "data": {
      "image/png": "[encoded data removed]",
      "text/plain": [
       "<Figure size 432x288 with 1 Axes>"
      ]
     },
     "metadata": {
      "needs_background": "light"
     },
     "output_type": "display_data"
    },
    {
     "data": {
      "image/png": "[encoded data removed]",
      "text/plain": [
       "<Figure size 432x288 with 2 Axes>"
      ]
     },
     "metadata": {
      "needs_background": "light"
     },
     "output_type": "display_data"
    }
   ],
   "source": [
    "H_list, G_list = bootstrap_fit(df_max, N = len(df_max), plot = True)\n",
    "fit_HG_dist(data_list = [H_list,G_list], bins = \"auto\", plot = True)\n",
    "\n",
    "H_std = np.std(H_list)\n",
    "G_std = np.std(G_list)"
   ]
  },
  {
   "cell_type": "code",
   "execution_count": 48,
   "id": "0e3c320d",
   "metadata": {},
   "outputs": [],
   "source": [
    "# # modify the number of bootstraps\n",
    "# N_list = [10,50,100,200,400,600,800,1000]#, 1500, 2000, 3000, 4000, 5000, 7500, 10000, 20000, 30000, 50000]\n",
    "\n",
    "# fig = plt.figure()\n",
    "# gs = gridspec.GridSpec(2,2)\n",
    "# ax1 = plt.subplot(gs[0,0])\n",
    "# ax2 = plt.subplot(gs[0,1])\n",
    "# ax3 = plt.subplot(gs[1,0])\n",
    "# ax4 = plt.subplot(gs[1,1])\n",
    "\n",
    "# for N in N_list:\n",
    "#     print(N)\n",
    "#     H_list, G_list = bootstrap_fit(df_max, N = N)\n",
    "#     coeffs = fit_HG_dist(data_list = [H_list,G_list], bins = \"auto\")\n",
    "    \n",
    "#     # plot the mean H and G \n",
    "#     ax1.scatter(N,coeffs[0][1], c = \"C0\")\n",
    "#     ax3.scatter(N,coeffs[1][1], c = \"C0\")\n",
    "    \n",
    "#     # plot the sigma H and G\n",
    "#     ax2.scatter(N,np.absolute(coeffs[0][2]), c = \"C1\")\n",
    "#     ax4.scatter(N,np.absolute(coeffs[1][2]), c = \"C1\")\n",
    "    \n",
    "# ax1.set_xlabel(\"N\")\n",
    "# ax1.set_ylabel(\"mean\")\n",
    "# ax2.set_xlabel(\"N\")\n",
    "# ax2.set_ylabel(\"sigma\")\n",
    "# ax3.set_xlabel(\"N\")\n",
    "# ax3.set_ylabel(\"mean\")\n",
    "# ax4.set_xlabel(\"N\")\n",
    "# ax4.set_ylabel(\"sigma\")\n",
    "\n",
    "# plt.tight_layout()\n",
    "# plt.show()"
   ]
  },
  {
   "cell_type": "code",
   "execution_count": 49,
   "id": "52f1a183",
   "metadata": {},
   "outputs": [],
   "source": [
    "# # modify the sample fraction\n",
    "# N = 100\n",
    "# frac_list = [1.0,0.9,0.8,0.6,0.5]\n",
    "\n",
    "# fig = plt.figure()\n",
    "# gs = gridspec.GridSpec(2,2)\n",
    "# ax1 = plt.subplot(gs[0,0])\n",
    "# ax2 = plt.subplot(gs[0,1])\n",
    "# ax3 = plt.subplot(gs[1,0])\n",
    "# ax4 = plt.subplot(gs[1,1])\n",
    "\n",
    "# for f in frac_list:\n",
    "#     print(N, f)\n",
    "#     H_list, G_list = bootstrap_fit(df_max, N = N, frac = f)\n",
    "#     coeffs = fit_HG_dist(data_list = [H_list,G_list], bins = \"auto\")\n",
    "    \n",
    "#     # plot the mean H and G \n",
    "#     ax1.scatter(f,coeffs[0][1], c = \"C0\")\n",
    "#     ax3.scatter(f,coeffs[1][1], c = \"C0\")\n",
    "    \n",
    "#     # plot the sigma H and G\n",
    "#     ax2.scatter(f,np.absolute(coeffs[0][2]), c = \"C1\")\n",
    "#     ax4.scatter(f,np.absolute(coeffs[1][2]), c = \"C1\")\n",
    "    \n",
    "# ax1.set_xlabel(\"frac\")\n",
    "# ax1.set_ylabel(\"mean\")\n",
    "# ax2.set_xlabel(\"frac\")\n",
    "# ax2.set_ylabel(\"sigma\")\n",
    "# ax3.set_xlabel(\"v\")\n",
    "# ax3.set_ylabel(\"mean\")\n",
    "# ax4.set_xlabel(\"frac\")\n",
    "# ax4.set_ylabel(\"sigma\")\n",
    "\n",
    "# plt.tight_layout()\n",
    "# plt.show()"
   ]
  },
  {
   "cell_type": "code",
   "execution_count": 50,
   "id": "3db218c2",
   "metadata": {
    "scrolled": false
   },
   "outputs": [
    {
     "name": "stdout",
     "output_type": "stream",
     "text": [
      "0\n",
      "100 1.0\n",
      "200 1.0\n",
      "300 1.0\n",
      "400 1.0\n",
      "500 1.0\n",
      "1\n",
      "100 1.0\n",
      "200 1.0\n",
      "300 1.0\n",
      "400 1.0\n",
      "500 1.0\n",
      "2\n",
      "100 1.0\n",
      "200 1.0\n",
      "300 1.0\n",
      "400 1.0\n",
      "500 1.0\n"
     ]
    },
    {
     "data": {
      "image/png": "[encoded data removed]",
      "text/plain": [
       "<Figure size 432x288 with 4 Axes>"
      ]
     },
     "metadata": {
      "needs_background": "light"
     },
     "output_type": "display_data"
    }
   ],
   "source": [
    "# modify the number of bootstraps\n",
    "N_list = [100,200,300,400,500]\n",
    "# frac_list = [1.0,0.9,0.8,0.7]\n",
    "# N_list = [100,300,500,700,900,1000]\n",
    "frac_list = [1.0]\n",
    "N_repeat = 3\n",
    "\n",
    "# N_list = [500,1000,1500,2000]\n",
    "# frac_list = [1.0]\n",
    "# N_repeat = 1\n",
    "\n",
    "fig = plt.figure()\n",
    "gs = gridspec.GridSpec(2,2)\n",
    "ax1 = plt.subplot(gs[0,0])\n",
    "ax2 = plt.subplot(gs[0,1])\n",
    "ax3 = plt.subplot(gs[1,0])\n",
    "ax4 = plt.subplot(gs[1,1])\n",
    "\n",
    "for j in range(N_repeat):\n",
    "    print(j)\n",
    "    for i,f in enumerate(frac_list):\n",
    "        for N in N_list:\n",
    "            print(N,f)\n",
    "\n",
    "    #         coeffs = []\n",
    "    #         while len(coeffs)==0:\n",
    "    #             H_list, G_list = bootstrap_fit(df, N = N, frac = f)\n",
    "    #             try:\n",
    "    #                 coeffs = fit_HG_dist(data_list = [H_list,G_list], bins = \"auto\")\n",
    "    #             except:\n",
    "    #                 continue\n",
    "\n",
    "            H_list, G_list = bootstrap_fit(df_max, N = N, frac = f)#, plot = True)\n",
    "        \n",
    "#             coeffs = fit_HG_dist(data_list = [H_list,G_list], bins = \"auto\")#, plot = True)\n",
    "#             H_mu = coeffs[0][1]\n",
    "#             G_mu = coeffs[1][1]\n",
    "#             H_std = np.absolute(coeffs[0][2])\n",
    "#             G_std = np.absolute(coeffs[1][2])\n",
    "    \n",
    "            H_mu = np.mean(H_list)\n",
    "            G_mu = np.mean(G_list)\n",
    "            H_std = np.std(H_list)\n",
    "            G_std = np.std(G_list)\n",
    "            \n",
    "            # plot the mean H and G \n",
    "            ax1.scatter(N,H_mu, c = \"C{}\".format(i))\n",
    "            ax3.scatter(N,G_mu, c = \"C{}\".format(i))\n",
    "\n",
    "            # plot the sigma H and G\n",
    "            ax2.scatter(N,H_std, c = \"C{}\".format(i))\n",
    "            ax4.scatter(N,G_std, c = \"C{}\".format(i))\n",
    "\n",
    "# plot the first fit\n",
    "ax1.axhline(model1.H.value)\n",
    "ax3.axhline(model1.G.value)\n",
    "# indicate the std from the last bootstrap\n",
    "ax1.axhspan(model1.H.value+H_std, model1.H.value-H_std, alpha=0.5, color = \"r\")\n",
    "ax3.axhspan(model1.G.value+G_std, model1.G.value-G_std, alpha=0.5, color = \"r\")\n",
    "\n",
    "ax1.set_xlabel(\"N\")\n",
    "ax1.set_ylabel(\"H_mean\")\n",
    "ax2.set_xlabel(\"N\")\n",
    "ax2.set_ylabel(\"H_std\")\n",
    "ax3.set_xlabel(\"N\")\n",
    "ax3.set_ylabel(\"G_mean\")\n",
    "ax4.set_xlabel(\"N\")\n",
    "ax4.set_ylabel(\"G_std\")\n",
    "\n",
    "plt.tight_layout()\n",
    "plt.show()"
   ]
  },
  {
   "cell_type": "markdown",
   "id": "55c2352a",
   "metadata": {},
   "source": [
    "# fit H, but not G, to every other epoch"
   ]
  },
  {
   "cell_type": "code",
   "execution_count": 51,
   "id": "1a686e0b",
   "metadata": {},
   "outputs": [
    {
     "name": "stdout",
     "output_type": "stream",
     "text": [
      "H = 11.749457091324787 +/- 0.008615041697042235\n",
      "G = 0.3001222804829294 +/- 0.009959763186718098\n"
     ]
    }
   ],
   "source": [
    "# values and errors from LSQ fitter\n",
    "print(\"H = {} +/- {}\".format(model1.H.value,param_err_x[0]))\n",
    "print(\"G = {} +/- {}\".format(model1.G.value,param_err_x[1]))"
   ]
  },
  {
   "cell_type": "code",
   "execution_count": 52,
   "id": "71d8ca78",
   "metadata": {},
   "outputs": [
    {
     "name": "stdout",
     "output_type": "stream",
     "text": [
      "255\n"
     ]
    }
   ],
   "source": [
    "print(len(df_max))"
   ]
  },
  {
   "cell_type": "code",
   "execution_count": 53,
   "id": "0c508ef8",
   "metadata": {},
   "outputs": [
    {
     "data": {
      "image/png": "[encoded data removed]",
      "text/plain": [
       "<Figure size 432x288 with 1 Axes>"
      ]
     },
     "metadata": {
      "needs_background": "light"
     },
     "output_type": "display_data"
    },
    {
     "data": {
      "image/png": "[encoded data removed]",
      "text/plain": [
       "<Figure size 432x288 with 2 Axes>"
      ]
     },
     "metadata": {
      "needs_background": "light"
     },
     "output_type": "display_data"
    },
    {
     "name": "stdout",
     "output_type": "stream",
     "text": [
      "H = 11.749842688930972 +/- 0.010769312131024554\n",
      "G = 0.3005838573755311 +/- 0.011750089241634695\n",
      "H = 11.749830324110981 +/- 0.010769312131024554\n",
      "G = 0.30059584974626924 +/- 0.011750089241634695\n"
     ]
    }
   ],
   "source": [
    "H_list, G_list = bootstrap_fit(df_max, N = len(df_max), plot = True)\n",
    "coeffs = fit_HG_dist(data_list = [H_list,G_list], bins = \"auto\", plot = True)\n",
    "# print(coeffs[0][2],coeffs[1][2])\n",
    "\n",
    "H_mean = np.mean(H_list)\n",
    "G_mean = np.mean(G_list)\n",
    "H_med = np.median(H_list)\n",
    "G_med = np.median(G_list)\n",
    "H_std = np.std(H_list)\n",
    "G_std = np.std(G_list)\n",
    "\n",
    "# values and errors from bootstrap\n",
    "print(\"H = {} +/- {}\".format(H_mean,H_std))\n",
    "print(\"G = {} +/- {}\".format(G_mean,G_std))\n",
    "print(\"H = {} +/- {}\".format(H_med,H_std))\n",
    "print(\"G = {} +/- {}\".format(G_med,G_std))"
   ]
  },
  {
   "cell_type": "code",
   "execution_count": 54,
   "id": "abf838ae",
   "metadata": {},
   "outputs": [
    {
     "name": "stdout",
     "output_type": "stream",
     "text": [
      "H = 11.749457091324787 +/- 0.010769312131024554\n",
      "G = 0.3001222804829294 +/- 0.011750089241634695\n"
     ]
    }
   ],
   "source": [
    "# values from initial fit and errors from bootstrap\n",
    "print(\"H = {} +/- {}\".format(model1.H.value,H_std))\n",
    "print(\"G = {} +/- {}\".format(model1.G.value,G_std))"
   ]
  },
  {
   "cell_type": "code",
   "execution_count": 55,
   "id": "c492146b",
   "metadata": {},
   "outputs": [],
   "source": [
    "HG_model_fixed = HG(H = model1.H.value * u.mag, G = model1.G.value)\n",
    "HG_model_fixed.G.fixed = True\n",
    "fitter = LevMarLSQFitter()"
   ]
  },
  {
   "cell_type": "code",
   "execution_count": 56,
   "id": "6f48c911",
   "metadata": {},
   "outputs": [
    {
     "name": "stdout",
     "output_type": "stream",
     "text": [
      "1.2500591999133255\n",
      "1.1797558858933612\n"
     ]
    }
   ],
   "source": [
    "print(H_std/param_err_x[0])\n",
    "print(G_std/param_err_x[1])"
   ]
  },
  {
   "cell_type": "code",
   "execution_count": 57,
   "id": "f74347f1",
   "metadata": {},
   "outputs": [
    {
     "data": {
      "text/plain": [
       "('H', 'G')"
      ]
     },
     "execution_count": 57,
     "metadata": {},
     "output_type": "execute_result"
    }
   ],
   "source": [
    "params = HG_model_fixed.param_names\n",
    "params"
   ]
  },
  {
   "cell_type": "code",
   "execution_count": 58,
   "id": "0e775db3",
   "metadata": {},
   "outputs": [
    {
     "name": "stdout",
     "output_type": "stream",
     "text": [
      "60\n",
      "193\n",
      "255\n",
      "270\n"
     ]
    },
    {
     "data": {
      "image/png": "[encoded data removed]",
      "text/plain": [
       "<Figure size 432x288 with 1 Axes>"
      ]
     },
     "metadata": {
      "needs_background": "light"
     },
     "output_type": "display_data"
    }
   ],
   "source": [
    "fig = plt.figure()\n",
    "gs = gridspec.GridSpec(1,1)\n",
    "ax1 = plt.subplot(gs[0,0])\n",
    "    \n",
    "# plot the first fit\n",
    "df_plot = df_max\n",
    "ax1.scatter(df_plot[\"phase_angle\"],df_plot[\"reduced_mag\"],s=1,c=\"k\")\n",
    "phase_angle = np.linspace(0,np.amax(df_plot[\"phase_angle\"])) * u.deg\n",
    "reduced_mag_atlas = model1(phase_angle)\n",
    "ax1.plot(phase_angle,reduced_mag_atlas,\n",
    "         label = \"atlas: H={:.3f}, G={:.3f}\".format(model1.H.value,model1.G.value),c=\"k\")\n",
    "    \n",
    "for i,x in enumerate(epochs[1:]):\n",
    "    \n",
    "    if i==epoch_max:\n",
    "        continue\n",
    "        \n",
    "    mask = ((df_data[\"mjd\"]>=epochs[i]) & (df_data[\"mjd\"]<epochs[i+1])) & (df_data[\"filter\"]==\"o\")\n",
    "    df = df_data[mask]\n",
    "    print(len(df))\n",
    "    \n",
    "    # or add a min number of data points to fit here\n",
    "    if len(df)<len(params):\n",
    "        continue\n",
    "    \n",
    "    alpha = np.array(df[\"phase_angle\"]) * u.deg\n",
    "    mag = np.array(df[\"reduced_mag\"]) * u.mag\n",
    "    mag_err = np.array(df[\"merr\"]) * u.mag\n",
    "\n",
    "    model = fitter(HG_model_fixed, alpha, mag, weights=1.0/np.array(mag_err))\n",
    "\n",
    "\n",
    "\n",
    "    df_plot = df\n",
    "\n",
    "    ax1.scatter(df_plot[\"phase_angle\"],df_plot[\"reduced_mag\"],s=1)\n",
    "    phase_angle = np.linspace(0,np.amax(df_plot[\"phase_angle\"])) * u.deg\n",
    "    reduced_mag_atlas = model(phase_angle)\n",
    "    ax1.plot(phase_angle,reduced_mag_atlas,\n",
    "             label = \"atlas: H={:.3f}, G={:.3f}\".format(model.H.value,model.G.value))\n",
    "\n",
    "ax1.legend()\n",
    "ax1.invert_yaxis()\n",
    "ax1.set_xlabel(\"phase_angle\")\n",
    "ax1.set_ylabel(\"reduced_mag\")\n",
    "\n",
    "plt.show()\n"
   ]
  },
  {
   "cell_type": "markdown",
   "id": "d8ef84c7",
   "metadata": {},
   "source": [
    "Get G from the epoch with the most data.\n",
    "Quote the brightest H value for final absolute mag? Poorly sampled epochs could throw this off\n",
    "\n",
    "How to fit c filter data? Keep G fixed?"
   ]
  },
  {
   "cell_type": "code",
   "execution_count": null,
   "id": "d7d2c9a3",
   "metadata": {},
   "outputs": [],
   "source": []
  }
 ],
 "metadata": {
  "kernelspec": {
   "display_name": "atlas-phase",
   "language": "python",
   "name": "atlas-phase"
  },
  "language_info": {
   "codemirror_mode": {
    "name": "ipython",
    "version": 3
   },
   "file_extension": ".py",
   "mimetype": "text/x-python",
   "name": "python",
   "nbconvert_exporter": "python",
   "pygments_lexer": "ipython3",
   "version": "3.9.7"
  }
 },
 "nbformat": 4,
 "nbformat_minor": 5
}
